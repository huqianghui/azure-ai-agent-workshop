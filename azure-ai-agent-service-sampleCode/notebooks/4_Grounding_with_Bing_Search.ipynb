{
 "cells": [
  {
   "cell_type": "markdown",
   "metadata": {},
   "source": [
    "## Introduction\n",
    "\n",
    "Grounding conversations with Bing is one of several tools provided by the Azure AI Agent Service. Grounding with Bing allows your app to search for information relevant to the conversation. For example, you might want to search for competitive product information."
   ]
  },
  {
   "cell_type": "markdown",
   "metadata": {},
   "source": [
    "### Lab Exercise\n",
    "\n",
    "In this lab, you'll enable Bing Grounding to provide competitive sales analysis of Contoso products and categories.\n",
    "\n",
    "#### Grounding with Bing Search Service\n",
    "\n",
    "You'll need to create a Grounding with Bing Search Service resource in the Azure portal and connect it to the Azure AI Foundry portal.\n",
    "\n",
    "Follow these steps to create a Grounding with Bing Search Resource:\n",
    "\n",
    "[1. Click to create a Grounding with Bing Search Resource.]([https://ms.portal.azure.com/#view/Microsoft_Azure_Marketplace/GalleryItemDetailsBladeNopdl/id/Microsoft.BingGroundingSearch])\n",
    "\n",
    "2. Select Create.\n",
    "3. Select the rg-agent-workshop resource group from the drop-down list.\n",
    "4. Name the resource grounding-with-bing-search.\n",
    "5. Select the Grounding with Bing Search pricing tier.\n",
    "6. Confirm I confirm I have read and understood the notice above.\n",
    "7. Select Review + create.\n",
    "8. Select Create.\n",
    "9. Once the deployment is complete, select Go to resource.\n"
   ]
  },
  {
   "cell_type": "markdown",
   "metadata": {},
   "source": [
    "### Get the Bing Search API Key¶\n",
    "1. Ensure the grounding-with-bing-search resource is selected.\n",
    "2. From the side-bar menu, select RESOURCE MANAGEMENT.\n",
    "3. Select the Keys.\n",
    "4. Copy the Key 1.\n",
    "5. Select the Overview from the side-bar menu.\n",
    "6. Select the Go to Azure AI Foundry Portal button."
   ]
  },
  {
   "cell_type": "markdown",
   "metadata": {},
   "source": [
    "### Create a Bing Search Connection\n",
    "\n",
    "Next, we will create a Bing Search connection in the Azure AI Foundry portal. This connection enables the agent app to access the Bing Search service using the agent Grounding-with-Bing-Search.\n",
    "\n",
    "To create a Bing Search connection in the Azure AI Foundry portal, follow these steps:\n",
    "\n",
    "1. Select the project, its name starts with aip.\n",
    "\n",
    "2. In the side-bar menu, click on the Management center tab. You'll find this under Project details in the Manage project settings section."
   ]
  },
  {
   "cell_type": "markdown",
   "metadata": {},
   "source": [
    "### Add an API Key\n",
    "\n",
    "1. From the side-bar menu, select Connected resources.\n",
    "2. Click + New Connection.\n",
    "3. Scroll to the bottom of the connection types and select API Key.\n",
    "4. Paste the API Key you previously copied into the Key field.\n",
    "5. For the Endpoint, enter: https://api.bing.microsoft.com/\n",
    "6. Set the connection name to Grounding-with-Bing-Search.\n",
    "7. Ensure the Access setting remains as Shared to all projects.\n",
    "8. Click \"Add Connection\"\n",
    "\n",
    "For more information, visit the [Grounding with Bing Search](https://learn.microsoft.com/en-us/azure/ai-services/agents/how-to/tools/bing-grounding?tabs=python&pivots=overview) documentation."
   ]
  },
  {
   "cell_type": "markdown",
   "metadata": {},
   "source": [
    "### Enable Grounding with Bing Search in the Agent App\n",
    "\n",
    "1. Open the main.py.\n",
    "\n",
    "2. Uncomment the following lines by removing the \"# \" characters\n",
    "\n",
    "```\n",
    "# INSTRUCTIONS_FILE = \"instructions/instructions_code_bing_grounding.txt\"\n",
    "# bing_connection = project_client.connections.get(connection_name=BING_CONNECTION_NAME)\n",
    "# bing_grounding = BingGroundingTool(bing_connection)\n",
    "# toolset.add(bing_grounding)\n",
    "```\n"
   ]
  },
  {
   "cell_type": "markdown",
   "metadata": {},
   "source": [
    "### Review the Instructions¶\n",
    "The instructions/instructions_code_bing_grounding.txt file provides guidance on how the LLM should use Bing search for grounding purposes. It ensures that queries remain relevant to Contoso and maintain a focus on contextually appropriate searches."
   ]
  },
  {
   "cell_type": "markdown",
   "metadata": {},
   "source": [
    "### Run the Agent App\n",
    "\n",
    "In the terminal, the app starts, and the agent app will prompt you to Enter your query.\n",
    "\n",
    "\n",
    "### Start a Conversation with the Agent¶\n",
    "\n",
    "The agent combines data from the Contoso sales database, the Tents Data Sheet, and Bing Search to provide comprehensive responses, so the results will vary depending on the query.\n",
    "\n",
    "1. What beginner tents do we sell?\n",
    "2. What beginner tents do our competitors sell?\n",
    "3. Show as a table the prices for competitor beginner tents\n",
    "4. Show as a bar chart\n",
    "5. What tents do we sell that are similar price to our competitors beginner tents?\n",
    "6. Download the data\n"
   ]
  }
 ],
 "metadata": {
  "language_info": {
   "name": "python"
  }
 },
 "nbformat": 4,
 "nbformat_minor": 2
}
