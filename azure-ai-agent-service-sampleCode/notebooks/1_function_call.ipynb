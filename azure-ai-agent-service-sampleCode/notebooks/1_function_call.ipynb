{
 "cells": [
  {
   "cell_type": "markdown",
   "metadata": {},
   "source": [
    "## Introduction\n",
    "\n",
    "### What is Function Calling\n",
    "\n",
    "Function calling enables Large Language Models (LLMs) to interact with external systems, execute tasks, and integrate with APIs. The LLM determines when to invoke a function based on user prompts and returns structured data for app use. Developers then implement the function logic within the app.\n",
    "\n",
    "In this workshop, the function logic is used to execute the LLM dynamically generated SQL queries against the SQLite database.\n",
    "\n",
    "### Enabling Function Calling\n",
    "\n",
    "If you’re familiar with Azure OpenAI Function Calling, it requires defining a function schema for the LLM. Azure AI Agent Service supports this approach and also offers a more flexible option.\n",
    "\n",
    "With the Azure AI Agent Service and its Python SDK, you can define the function schema directly within the Python function’s docstring. This approach keeps the definition and implementation together, simplifying maintenance and enhancing readability.\n",
    "\n",
    "For example, in the sales_data.py file, the async_fetch_sales_data_using_sqlite_query function uses a docstring to specify its signature, inputs, and outputs. The SDK parses this docstring to generate the callable function for the LLM:\n",
    "\n",
    "```python\n",
    "async def async_fetch_sales_data_using_sqlite_query(self: \"SalesData\", sqlite_query: str) -> str:\n",
    "    \"\"\"\n",
    "    This function is used to answer user questions about Contoso sales data by executing SQLite queries against the database.\n",
    "\n",
    "    :param sqlite_query: The input should be a well-formed SQLite query to extract information based on the user's question. The query result will be returned as a JSON object.\n",
    "    :return: Return data in JSON serializable format.\n",
    "    :rtype: str\n",
    "    \"\"\"\n",
    "```"
   ]
  },
  {
   "cell_type": "code",
   "execution_count": null,
   "metadata": {},
   "outputs": [],
   "source": [
    "import os\n",
    "import sys\n",
    "from dotenv import load_dotenv\n",
    "\n",
    "\n",
    "# get current folder\n",
    "current_directory = os.getcwd()\n",
    "# get parent folder\n",
    "parent_directory = os.path.abspath(os.path.join(current_directory, \"..\"))\n",
    "sys.path.append(parent_directory)\n",
    "\n",
    "project_directory = os.path.abspath(os.path.join(parent_directory, \"..\"))\n",
    "sys.path.append(project_directory)\n",
    "\n",
    "load_dotenv('.env')"
   ]
  },
  {
   "cell_type": "code",
   "execution_count": null,
   "metadata": {},
   "outputs": [],
   "source": [
    "from main import initialize\n",
    "from azure.ai.projects.aio import AIProjectClient\n",
    "from azure.ai.projects.models import (\n",
    "    Agent,\n",
    "    AgentThread,\n",
    "    AsyncFunctionTool,\n",
    "    AsyncToolSet,\n",
    "    BingGroundingTool,\n",
    "    CodeInterpreterTool,\n",
    "    FileSearchTool,\n",
    ")\n",
    "from azure.identity import DefaultAzureCredential\n",
    "from azure.monitor.opentelemetry import configure_azure_monitor\n",
    "from opentelemetry import trace\n",
    "from sales_data import SalesData\n",
    "from stream_event_handler import StreamEventHandler\n",
    "from terminal_colors import TerminalColors as tc\n",
    "from utilities import Utilities\n"
   ]
  },
  {
   "cell_type": "code",
   "execution_count": null,
   "metadata": {},
   "outputs": [],
   "source": [
    "TENTS_DATA_SHEET_FILE = \"/home/azureuser/azure-ai-agent-workshop/azure-ai-agent-service-sampleCode/datasheet/contoso-tents-datasheet.pdf\"\n",
    "API_DEPLOYMENT_NAME = os.getenv(\"AZURE_OPENAI_DEPLOYMENT\")\n",
    "PROJECT_CONNECTION_STRING = os.environ[\"PROJECT_CONNECTION_STRING\"]\n",
    "BING_CONNECTION_NAME = os.getenv(\"BING_CONNECTION_NAME\")\n",
    "MAX_COMPLETION_TOKENS = 4096\n",
    "MAX_PROMPT_TOKENS = 10240\n",
    "TEMPERATURE = 0.2\n",
    "\n",
    "toolset = AsyncToolSet()\n",
    "sales_data = SalesData()\n",
    "utilities = Utilities()\n",
    "\n",
    "project_client = AIProjectClient.from_connection_string(\n",
    "    credential=DefaultAzureCredential(),\n",
    "    conn_str=PROJECT_CONNECTION_STRING,\n",
    ")\n",
    "\n",
    "functions = AsyncFunctionTool(\n",
    "    {\n",
    "        sales_data.async_fetch_sales_data_using_sqlite_query,\n",
    "    }\n",
    ")\n"
   ]
  },
  {
   "cell_type": "markdown",
   "metadata": {},
   "source": [
    "### Dynamic SQL Generation\n",
    "\n",
    "When the app starts, it incorporates the database schema and key data into the instructions for the Azure AI Agent Service. Using this input, the LLM generates SQLite-compatible SQL queries to respond to user requests expressed in natural language."
   ]
  },
  {
   "cell_type": "markdown",
   "metadata": {},
   "source": [
    "### Lab Exercise\n",
    "\n",
    "In this lab, you'll enable the function logic to execute dynamic SQL queries against the SQLite database. The function will be called by the LLM to answer user questions about Contoso sales data."
   ]
  },
  {
   "cell_type": "markdown",
   "metadata": {},
   "source": [
    "### Run the Agent App\n",
    "\n",
    "Start a Conversation with the Agent\n",
    "\n",
    "Here is an example of the LLM response to the help query:\n",
    "\n",
    "```\n",
    "I’m here to help with your sales data inquiries at Contoso. Could you please provide more details about what you need assistance with? Here are some example queries you might consider:\n",
    "\n",
    "- \"What were the sales by region?\"\n",
    "- \"What was last quarter's revenue?\"\n",
    "- \"Which products sell best in Europe?\"\n",
    "- \"Total shipping costs by region?\"\n",
    "\n",
    "Feel free to ask any specific questions related to Contoso sales data!\n",
    "```\n",
    "\n",
    "2. What are the sales by region?\n",
    "\n",
    "Here is an example of the LLM response to the sales by region query:\n",
    "\n",
    "```markdown\n",
    "| Region         | Total Revenue  |\n",
    "|----------------|----------------|\n",
    "| AFRICA         | $5,227,467     |\n",
    "| ASIA-PACIFIC   | $5,363,718     |\n",
    "| CHINA          | $10,540,412    |\n",
    "| EUROPE         | $9,990,708     |\n",
    "| LATIN AMERICA  | $5,386,552     |\n",
    "| MIDDLE EAST    | $5,312,519     |\n",
    "| NORTH AMERICA  | $15,986,462    |\n",
    "```"
   ]
  },
  {
   "cell_type": "code",
   "execution_count": 12,
   "metadata": {},
   "outputs": [
    {
     "name": "stdout",
     "output_type": "stream",
     "text": [
      "\u001b[35mUploading file: /home/azureuser/azure-ai-agent-workshop/azure-ai-agent-service-sampleCode/datasheet/contoso-tents-datasheet.pdf\u001b[0m\n",
      "\u001b[35mCreating the vector store\u001b[0m\n",
      "\u001b[35mVector store created and files added.\u001b[0m\n",
      "Creating agent...\n",
      "Created agent, ID: asst_Q2s2w2s6yAIqBFuMe3ZXARpv\n",
      "Creating thread...\n",
      "Created thread, ID: thread_u73kYcMjPid387AblAuMW1sC\n",
      "\n",
      "\n",
      "\n",
      "\u001b[34mFunction Call Tools: async_fetch_sales_data_using_sqlite_query\u001b[0m\n",
      "\n",
      "\u001b[34mExecuting query: SELECT region, SUM(revenue) AS total_revenue, SUM(shipping_cost) AS total_shipping_cost, SUM(number_of_orders) AS total_orders FROM sales_data GROUP BY region LIMIT 30;\u001b[0m\n",
      "\n",
      "\u001b[34mHere\u001b[0m\u001b[34m are\u001b[0m\u001b[34m the\u001b[0m\u001b[34m sales\u001b[0m\u001b[34m by\u001b[0m\u001b[34m region\u001b[0m\u001b[34m:\n",
      "\n",
      "\u001b[0m\u001b[34m|\u001b[0m\u001b[34m Region\u001b[0m\u001b[34m         \u001b[0m\u001b[34m |\u001b[0m\u001b[34m Total\u001b[0m\u001b[34m Revenue\u001b[0m\u001b[34m |\u001b[0m\u001b[34m Total\u001b[0m\u001b[34m Shipping\u001b[0m\u001b[34m Cost\u001b[0m\u001b[34m |\u001b[0m\u001b[34m Total\u001b[0m\u001b[34m Orders\u001b[0m\u001b[34m |\n",
      "\u001b[0m\u001b[34m|\u001b[0m\u001b[34m----------------\u001b[0m\u001b[34m--\u001b[0m\u001b[34m|\u001b[0m\u001b[34m---------------\u001b[0m\u001b[34m|\u001b[0m\u001b[34m----------------\u001b[0m\u001b[34m-----\u001b[0m\u001b[34m|\u001b[0m\u001b[34m--------------\u001b[0m\u001b[34m|\n",
      "\u001b[0m\u001b[34m|\u001b[0m\u001b[34m AFR\u001b[0m\u001b[34mICA\u001b[0m\u001b[34m          \u001b[0m\u001b[34m |\u001b[0m\u001b[34m $\u001b[0m\u001b[34m5\u001b[0m\u001b[34m,\u001b[0m\u001b[34m227\u001b[0m\u001b[34m,\u001b[0m\u001b[34m467\u001b[0m\u001b[34m   \u001b[0m\u001b[34m |\u001b[0m\u001b[34m $\u001b[0m\u001b[34m773\u001b[0m\u001b[34m,\u001b[0m\u001b[34m515\u001b[0m\u001b[34m.\u001b[0m\u001b[34m89\u001b[0m\u001b[34m        \u001b[0m\u001b[34m |\u001b[0m\u001b[34m \u001b[0m\u001b[34m37\u001b[0m\u001b[34m,\u001b[0m\u001b[34m675\u001b[0m\u001b[34m      \u001b[0m\u001b[34m |\n",
      "\u001b[0m\u001b[34m|\u001b[0m\u001b[34m AS\u001b[0m\u001b[34mIA\u001b[0m\u001b[34m-P\u001b[0m\u001b[34mAC\u001b[0m\u001b[34mIFIC\u001b[0m\u001b[34m    \u001b[0m\u001b[34m |\u001b[0m\u001b[34m $\u001b[0m\u001b[34m5\u001b[0m\u001b[34m,\u001b[0m\u001b[34m363\u001b[0m\u001b[34m,\u001b[0m\u001b[34m718\u001b[0m\u001b[34m   \u001b[0m\u001b[34m |\u001b[0m\u001b[34m $\u001b[0m\u001b[34m806\u001b[0m\u001b[34m,\u001b[0m\u001b[34m608\u001b[0m\u001b[34m.\u001b[0m\u001b[34m01\u001b[0m\u001b[34m        \u001b[0m\u001b[34m |\u001b[0m\u001b[34m \u001b[0m\u001b[34m37\u001b[0m\u001b[34m,\u001b[0m\u001b[34m318\u001b[0m\u001b[34m      \u001b[0m\u001b[34m |\n",
      "\u001b[0m\u001b[34m|\u001b[0m\u001b[34m CH\u001b[0m\u001b[34mINA\u001b[0m\u001b[34m           \u001b[0m\u001b[34m |\u001b[0m\u001b[34m $\u001b[0m\u001b[34m10\u001b[0m\u001b[34m,\u001b[0m\u001b[34m540\u001b[0m\u001b[34m,\u001b[0m\u001b[34m412\u001b[0m\u001b[34m  \u001b[0m\u001b[34m |\u001b[0m\u001b[34m $\u001b[0m\u001b[34m1\u001b[0m\u001b[34m,\u001b[0m\u001b[34m589\u001b[0m\u001b[34m,\u001b[0m\u001b[34m962\u001b[0m\u001b[34m.\u001b[0m\u001b[34m50\u001b[0m\u001b[34m      \u001b[0m\u001b[34m |\u001b[0m\u001b[34m \u001b[0m\u001b[34m74\u001b[0m\u001b[34m,\u001b[0m\u001b[34m382\u001b[0m\u001b[34m      \u001b[0m\u001b[34m |\n",
      "\u001b[0m\u001b[34m|\u001b[0m\u001b[34m EURO\u001b[0m\u001b[34mPE\u001b[0m\u001b[34m          \u001b[0m\u001b[34m |\u001b[0m\u001b[34m $\u001b[0m\u001b[34m9\u001b[0m\u001b[34m,\u001b[0m\u001b[34m990\u001b[0m\u001b[34m,\u001b[0m\u001b[34m708\u001b[0m\u001b[34m   \u001b[0m\u001b[34m |\u001b[0m\u001b[34m $\u001b[0m\u001b[34m1\u001b[0m\u001b[34m,\u001b[0m\u001b[34m496\u001b[0m\u001b[34m,\u001b[0m\u001b[34m188\u001b[0m\u001b[34m.\u001b[0m\u001b[34m22\u001b[0m\u001b[34m      \u001b[0m\u001b[34m |\u001b[0m\u001b[34m \u001b[0m\u001b[34m72\u001b[0m\u001b[34m,\u001b[0m\u001b[34m917\u001b[0m\u001b[34m      \u001b[0m\u001b[34m |\n",
      "\u001b[0m\u001b[34m|\u001b[0m\u001b[34m LAT\u001b[0m\u001b[34mIN\u001b[0m\u001b[34m AM\u001b[0m\u001b[34mERICA\u001b[0m\u001b[34m   \u001b[0m\u001b[34m |\u001b[0m\u001b[34m $\u001b[0m\u001b[34m5\u001b[0m\u001b[34m,\u001b[0m\u001b[34m386\u001b[0m\u001b[34m,\u001b[0m\u001b[34m552\u001b[0m\u001b[34m   \u001b[0m\u001b[34m |\u001b[0m\u001b[34m $\u001b[0m\u001b[34m808\u001b[0m\u001b[34m,\u001b[0m\u001b[34m101\u001b[0m\u001b[34m.\u001b[0m\u001b[34m69\u001b[0m\u001b[34m        \u001b[0m\u001b[34m |\u001b[0m\u001b[34m \u001b[0m\u001b[34m37\u001b[0m\u001b[34m,\u001b[0m\u001b[34m919\u001b[0m\u001b[34m      \u001b[0m\u001b[34m |\n",
      "\u001b[0m\u001b[34m|\u001b[0m\u001b[34m M\u001b[0m\u001b[34mIDDLE\u001b[0m\u001b[34m EAST\u001b[0m\u001b[34m     \u001b[0m\u001b[34m |\u001b[0m\u001b[34m $\u001b[0m\u001b[34m5\u001b[0m\u001b[34m,\u001b[0m\u001b[34m312\u001b[0m\u001b[34m,\u001b[0m\u001b[34m519\u001b[0m\u001b[34m   \u001b[0m\u001b[34m |\u001b[0m\u001b[34m $\u001b[0m\u001b[34m798\u001b[0m\u001b[34m,\u001b[0m\u001b[34m224\u001b[0m\u001b[34m.\u001b[0m\u001b[34m87\u001b[0m\u001b[34m        \u001b[0m\u001b[34m |\u001b[0m\u001b[34m \u001b[0m\u001b[34m36\u001b[0m\u001b[34m,\u001b[0m\u001b[34m631\u001b[0m\u001b[34m      \u001b[0m\u001b[34m |\n",
      "\u001b[0m\u001b[34m|\u001b[0m\u001b[34m NORTH\u001b[0m\u001b[34m AM\u001b[0m\u001b[34mERICA\u001b[0m\u001b[34m   \u001b[0m\u001b[34m |\u001b[0m\u001b[34m $\u001b[0m\u001b[34m15\u001b[0m\u001b[34m,\u001b[0m\u001b[34m986\u001b[0m\u001b[34m,\u001b[0m\u001b[34m462\u001b[0m\u001b[34m  \u001b[0m\u001b[34m |\u001b[0m\u001b[34m $\u001b[0m\u001b[34m2\u001b[0m\u001b[34m,\u001b[0m\u001b[34m394\u001b[0m\u001b[34m,\u001b[0m\u001b[34m571\u001b[0m\u001b[34m.\u001b[0m\u001b[34m11\u001b[0m\u001b[34m      \u001b[0m\u001b[34m |\u001b[0m\u001b[34m \u001b[0m\u001b[34m113\u001b[0m\u001b[34m,\u001b[0m\u001b[34m420\u001b[0m\u001b[34m     \u001b[0m\u001b[34m |\n",
      "\n",
      "\u001b[0m\u001b[34mIf\u001b[0m\u001b[34m you\u001b[0m\u001b[34m have\u001b[0m\u001b[34m any\u001b[0m\u001b[34m further\u001b[0m\u001b[34m questions\u001b[0m\u001b[34m or\u001b[0m\u001b[34m need\u001b[0m\u001b[34m more\u001b[0m\u001b[34m details\u001b[0m\u001b[34m,\u001b[0m\u001b[34m feel\u001b[0m\u001b[34m free\u001b[0m\u001b[34m to\u001b[0m\u001b[34m ask\u001b[0m\u001b[34m!\u001b[0m\n",
      "\n"
     ]
    }
   ],
   "source": [
    "from terminal_colors import TerminalColors as tc\n",
    "from main import post_message, cleanup\n",
    "\n",
    "INSTRUCTIONS_FILE = \"/home/azureuser/azure-ai-agent-workshop/azure-ai-agent-service-sampleCode/instructions/instructions_function_calling.txt\"\n",
    "\n",
    "agent, thread = await initialize()\n",
    "\n",
    "while True:\n",
    "    # Get user input prompt in the terminal using a pretty shade of green\n",
    "    print(\"\\n\")\n",
    "    prompt = input(f\"{tc.GREEN}Enter your query (type exit to finish): {tc.RESET}\")\n",
    "    if prompt.lower() == \"exit\":\n",
    "        break\n",
    "    if not prompt:\n",
    "        continue\n",
    "    await post_message(agent=agent, thread_id=thread.id, content=prompt, thread=thread)\n",
    "\n",
    "await cleanup(agent, thread)"
   ]
  }
 ],
 "metadata": {
  "kernelspec": {
   "display_name": ".venv",
   "language": "python",
   "name": "python3"
  },
  "language_info": {
   "codemirror_mode": {
    "name": "ipython",
    "version": 3
   },
   "file_extension": ".py",
   "mimetype": "text/x-python",
   "name": "python",
   "nbconvert_exporter": "python",
   "pygments_lexer": "ipython3",
   "version": "3.12.8"
  }
 },
 "nbformat": 4,
 "nbformat_minor": 2
}
