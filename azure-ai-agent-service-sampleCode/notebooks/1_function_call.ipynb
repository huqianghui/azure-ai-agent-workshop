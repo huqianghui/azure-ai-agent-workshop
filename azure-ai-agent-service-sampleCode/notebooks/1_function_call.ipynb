{
 "cells": [
  {
   "cell_type": "markdown",
   "metadata": {},
   "source": [
    "## Introduction\n",
    "\n",
    "### What is Function Calling\n",
    "\n",
    "Function calling enables Large Language Models (LLMs) to interact with external systems, execute tasks, and integrate with APIs. The LLM determines when to invoke a function based on user prompts and returns structured data for app use. Developers then implement the function logic within the app.\n",
    "\n",
    "In this workshop, the function logic is used to execute the LLM dynamically generated SQL queries against the SQLite database.\n",
    "\n",
    "### Enabling Function Calling\n",
    "\n",
    "If you’re familiar with Azure OpenAI Function Calling, it requires defining a function schema for the LLM. Azure AI Agent Service supports this approach and also offers a more flexible option.\n",
    "\n",
    "With the Azure AI Agent Service and its Python SDK, you can define the function schema directly within the Python function’s docstring. This approach keeps the definition and implementation together, simplifying maintenance and enhancing readability.\n",
    "\n",
    "For example, in the sales_data.py file, the async_fetch_sales_data_using_sqlite_query function uses a docstring to specify its signature, inputs, and outputs. The SDK parses this docstring to generate the callable function for the LLM:\n",
    "\n",
    "```python\n",
    "async def async_fetch_sales_data_using_sqlite_query(self: \"SalesData\", sqlite_query: str) -> str:\n",
    "    \"\"\"\n",
    "    This function is used to answer user questions about Contoso sales data by executing SQLite queries against the database.\n",
    "\n",
    "    :param sqlite_query: The input should be a well-formed SQLite query to extract information based on the user's question. The query result will be returned as a JSON object.\n",
    "    :return: Return data in JSON serializable format.\n",
    "    :rtype: str\n",
    "    \"\"\"\n",
    "```"
   ]
  },
  {
   "cell_type": "markdown",
   "metadata": {},
   "source": [
    "### Dynamic SQL Generation\n",
    "\n",
    "When the app starts, it incorporates the database schema and key data into the instructions for the Azure AI Agent Service. Using this input, the LLM generates SQLite-compatible SQL queries to respond to user requests expressed in natural language."
   ]
  },
  {
   "cell_type": "markdown",
   "metadata": {},
   "source": [
    "### Lab Exercise\n",
    "\n",
    "In this lab, you'll enable the function logic to execute dynamic SQL queries against the SQLite database. The function will be called by the LLM to answer user questions about Contoso sales data.\n",
    "\n",
    "1. Open the main.py.\n",
    "\n",
    "2. Uncomment the following lines by removing the \"# \" characters\n",
    "\n",
    "```python\n",
    "    # INSTRUCTIONS_FILE = \"instructions/instructions_function_calling.txt\"\n",
    "    # toolset.add(functions)\n",
    "```"
   ]
  },
  {
   "cell_type": "markdown",
   "metadata": {},
   "source": [
    "### Run the Agent App\n",
    "\n",
    "Start a Conversation with the Agent\n",
    "\n",
    "Start asking questions about Contoso sales data. For example:\n",
    "\n",
    "1. Help\n",
    "\n",
    "Here is an example of the LLM response to the help query:\n",
    "\n",
    "```\n",
    "I’m here to help with your sales data inquiries at Contoso. Could you please provide more details about what you need assistance with? Here are some example queries you might consider:\n",
    "\n",
    "- \"What were the sales by region?\"\n",
    "- \"What was last quarter's revenue?\"\n",
    "- \"Which products sell best in Europe?\"\n",
    "- \"Total shipping costs by region?\"\n",
    "\n",
    "Feel free to ask any specific questions related to Contoso sales data!\n",
    "```\n",
    "\n",
    "2. What are the sales by region?\n",
    "\n",
    "Here is an example of the LLM response to the sales by region query:\n",
    "\n",
    "```markdown\n",
    "| Region         | Total Revenue  |\n",
    "|----------------|----------------|\n",
    "| AFRICA         | $5,227,467     |\n",
    "| ASIA-PACIFIC   | $5,363,718     |\n",
    "| CHINA          | $10,540,412    |\n",
    "| EUROPE         | $9,990,708     |\n",
    "| LATIN AMERICA  | $5,386,552     |\n",
    "| MIDDLE EAST    | $5,312,519     |\n",
    "| NORTH AMERICA  | $15,986,462    |\n",
    "```"
   ]
  }
 ],
 "metadata": {
  "language_info": {
   "name": "python"
  }
 },
 "nbformat": 4,
 "nbformat_minor": 2
}
