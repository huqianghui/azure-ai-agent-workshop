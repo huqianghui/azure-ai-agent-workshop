{
 "cells": [
  {
   "cell_type": "markdown",
   "metadata": {},
   "source": [
    "## Introduction\n",
    "\n",
    "Grounding a conversation with documents is highly effective, especially for retrieving product details that may not be available in an operational database. The Azure AI Agent Service includes a File Search tool that enables agents to retrieve information directly from uploaded files, such as user-supplied documents or product data.\n",
    "\n",
    "In this lab, you'll learn how to enable the document search and upload the Tents Data Sheet to a vector store for the agent. Once activated, the tool allows the agent to search the file and deliver relevant responses. Documents can be uploaded to the agent for all users or linked to a specific user thread, or linked to the Code Interpreter. When the app starts, a vector store is created, the Contoso tents datasheet is added, and it is made available to the agent.\n",
    "\n",
    "Normally, you wouldn’t create a new vector store and upload documents each time the app starts. Instead, you’d create the vector store once, upload potentially thousands of documents, and connect the store to the agent. For this lab, we recreate the vector store on each startup to demonstrate the process.\n",
    "\n",
    "A vector store is a database optimized for storing and searching vectors (numeric representations of text data). The File Search tool uses the vector store for semantic search to search for relevant information in the uploaded document."
   ]
  },
  {
   "cell_type": "markdown",
   "metadata": {},
   "source": [
    "### Lab Exercise\n",
    "\n",
    "1. Open the datasheet/contoso-tents-datasheet.pdf file from VS Code.\n",
    "\n",
    "2. Review the file’s contents to understand the information it contains, as this will be used to ground the agent’s responses.\n",
    "\n",
    "3. Open the main.py.\n",
    "\n",
    "4. Uncomment the following lines by removing the \"# \" characters\n",
    "\n",
    "```python\n",
    "# INSTRUCTIONS_FILE = \"instructions/instructions_file_search.txt\"\n",
    "# vector_store = await utilities.create_vector_store(\n",
    "#     project_client,\n",
    "#     files=[TENTS_DATA_SHEET_FILE],\n",
    "#     vector_name_name=\"Contoso Product Information Vector Store\",\n",
    "# )\n",
    "# file_search_tool = FileSearchTool(vector_store_ids=[vector_store.id])\n",
    "# toolset.add(file_search_tool)\n",
    "\n",
    "```"
   ]
  },
  {
   "cell_type": "markdown",
   "metadata": {},
   "source": [
    "### Review the Instructions\n",
    "\n",
    "The instructions/instructions_file_search.txt file provides guidance on how the LLM should use File Search for grounding purposes.\n",
    "\n"
   ]
  },
  {
   "cell_type": "markdown",
   "metadata": {},
   "source": [
    "### Run the Agent App\n",
    "\n",
    "Review the create_vector_store function in the utilities.py file. The create_vector_store function uploads the Tents Data Sheet and saves it in a vector store. To observe the vector store creation process, set a breakpoint in the function.\n",
    "\n",
    "In the terminal, the app starts, and the agent app will prompt you to Enter your query."
   ]
  },
  {
   "cell_type": "markdown",
   "metadata": {},
   "source": [
    "### Start a Conversation with the Agent\n",
    "\n",
    "The following conversation uses data from both the Contoso sales database and the uploaded Tents Data Sheet, so the results will vary depending on the query.\n",
    "\n",
    "1. What brands of tents do we sell?\n",
    "\n",
    "The agent responds with a list of tent brands from the Tents Data Sheet.\n",
    "\n",
    "2. What product type and categories are these brands associated with?\n",
    "\n",
    "The agent provides a list of product types and categories associated with the tent brands.\n",
    "\n"
   ]
  }
 ],
 "metadata": {
  "language_info": {
   "name": "python"
  }
 },
 "nbformat": 4,
 "nbformat_minor": 2
}
