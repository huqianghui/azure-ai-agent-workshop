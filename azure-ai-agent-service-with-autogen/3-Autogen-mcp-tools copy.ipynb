{
 "cells": [
  {
   "cell_type": "code",
   "execution_count": 7,
   "id": "f42d9e23",
   "metadata": {},
   "outputs": [],
   "source": [
    "import asyncio\n",
    "from autogen_agentchat.agents import AssistantAgent\n",
    "from autogen_agentchat.teams import RoundRobinGroupChat\n",
    "from autogen_agentchat.conditions import TextMessageTermination\n",
    "from autogen_agentchat.ui import Console\n",
    "from autogen_ext.models.openai import AzureOpenAIChatCompletionClient\n",
    "from autogen_ext.tools.mcp import McpWorkbench, SseServerParams\n",
    "from dotenv import load_dotenv\n",
    "import os\n",
    "\n",
    "\n",
    "# Load environment variables from a .env file\n",
    "load_dotenv(\"/home/azureuser/azure-ai-agent-workshop/.env\")\n",
    "\n",
    "model_client = AzureOpenAIChatCompletionClient(\n",
    "            model=os.getenv(\"AZURE_OPENAI_MODEL\"),\n",
    "            azure_endpoint=os.getenv(\"AZURE_OPENAI_ENDPOINT\"),\n",
    "            api_key=os.getenv(\"AZURE_OPENAI_KEY\"),\n",
    "            azure_deployment=os.getenv(\"AZURE_OPENAI_DEPLOYMENT\"),\n",
    "            api_version=os.getenv(\"AZUER_OPENAI_API_VERSION\"))\n",
    "\n",
    "server_params = SseServerParams(\n",
    "    url=os.getenv(\"MCP_SERVER_URL\"),\n",
    "    headers={\n",
    "        \"Ocp-Apim-Subscription-Key\": f\"{os.getenv('MCP_SERVER_TOKEN')}\"\n",
    "    },\n",
    "    timeout=60\n",
    ")\n",
    "\n",
    "mcp = McpWorkbench(server_params=server_params)\n",
    "\n",
    "agent = AssistantAgent(\n",
    "        \"pet_assistant\",\n",
    "        model_client=model_client,\n",
    "        workbench=mcp,\n",
    "        model_client_stream=True)\n",
    "\n",
    "team = RoundRobinGroupChat(\n",
    "        [agent],\n",
    "        termination_condition=TextMessageTermination(source=\"pet_assistant\"))   "
   ]
  },
  {
   "cell_type": "code",
   "execution_count": 8,
   "id": "097d1be0",
   "metadata": {},
   "outputs": [
    {
     "name": "stdout",
     "output_type": "stream",
     "text": [
      "---------- TextMessage (user) ----------\n",
      " Add a pet to the pet store. the pet id is 2,name is doggie and the status is available.\n",
      "---------- ToolCallRequestEvent (pet_assistant) ----------\n",
      "[FunctionCall(id='call_rqIVsaumym6CPJOPGdKJWgEp', arguments='{\"id\":2,\"name\":\"doggie\",\"status\":\"available\",\"photoUrls\":[\"\"],\"tags\":[],\"category\":{\"id\":0,\"name\":\"\"}}', name='addANewPetToTheStore')]\n",
      "---------- ToolCallExecutionEvent (pet_assistant) ----------\n",
      "[FunctionExecutionResult(content='{\"id\":2,\"category\":{\"id\":0,\"name\":\"\"},\"name\":\"doggie\",\"photoUrls\":[\"\"],\"tags\":[],\"status\":\"available\"}', name='addANewPetToTheStore', call_id='call_rqIVsaumym6CPJOPGdKJWgEp', is_error=False)]\n",
      "---------- ToolCallSummaryMessage (pet_assistant) ----------\n",
      "{\"id\":2,\"category\":{\"id\":0,\"name\":\"\"},\"name\":\"doggie\",\"photoUrls\":[\"\"],\"tags\":[],\"status\":\"available\"}\n",
      "---------- ModelClientStreamingChunkEvent (pet_assistant) ----------\n",
      "The pet with ID 2 and name \"doggie\" has been added to the store with the status \"available.\" Is there anything else you would like to do?\n"
     ]
    },
    {
     "data": {
      "text/plain": [
       "TaskResult(messages=[TextMessage(source='user', models_usage=None, metadata={}, created_at=datetime.datetime(2025, 6, 12, 8, 51, 0, 509437, tzinfo=datetime.timezone.utc), content=' Add a pet to the pet store. the pet id is 2,name is doggie and the status is available.', type='TextMessage'), ToolCallRequestEvent(source='pet_assistant', models_usage=RequestUsage(prompt_tokens=0, completion_tokens=0), metadata={}, created_at=datetime.datetime(2025, 6, 12, 8, 51, 6, 320265, tzinfo=datetime.timezone.utc), content=[FunctionCall(id='call_rqIVsaumym6CPJOPGdKJWgEp', arguments='{\"id\":2,\"name\":\"doggie\",\"status\":\"available\",\"photoUrls\":[\"\"],\"tags\":[],\"category\":{\"id\":0,\"name\":\"\"}}', name='addANewPetToTheStore')], type='ToolCallRequestEvent'), ToolCallExecutionEvent(source='pet_assistant', models_usage=None, metadata={}, created_at=datetime.datetime(2025, 6, 12, 8, 51, 6, 934893, tzinfo=datetime.timezone.utc), content=[FunctionExecutionResult(content='{\"id\":2,\"category\":{\"id\":0,\"name\":\"\"},\"name\":\"doggie\",\"photoUrls\":[\"\"],\"tags\":[],\"status\":\"available\"}', name='addANewPetToTheStore', call_id='call_rqIVsaumym6CPJOPGdKJWgEp', is_error=False)], type='ToolCallExecutionEvent'), ToolCallSummaryMessage(source='pet_assistant', models_usage=None, metadata={}, created_at=datetime.datetime(2025, 6, 12, 8, 51, 6, 935197, tzinfo=datetime.timezone.utc), content='{\"id\":2,\"category\":{\"id\":0,\"name\":\"\"},\"name\":\"doggie\",\"photoUrls\":[\"\"],\"tags\":[],\"status\":\"available\"}', type='ToolCallSummaryMessage', tool_calls=[FunctionCall(id='call_rqIVsaumym6CPJOPGdKJWgEp', arguments='{\"id\":2,\"name\":\"doggie\",\"status\":\"available\",\"photoUrls\":[\"\"],\"tags\":[],\"category\":{\"id\":0,\"name\":\"\"}}', name='addANewPetToTheStore')], results=[FunctionExecutionResult(content='{\"id\":2,\"category\":{\"id\":0,\"name\":\"\"},\"name\":\"doggie\",\"photoUrls\":[\"\"],\"tags\":[],\"status\":\"available\"}', name='addANewPetToTheStore', call_id='call_rqIVsaumym6CPJOPGdKJWgEp', is_error=False)]), TextMessage(source='pet_assistant', models_usage=RequestUsage(prompt_tokens=0, completion_tokens=0), metadata={}, created_at=datetime.datetime(2025, 6, 12, 8, 51, 8, 540160, tzinfo=datetime.timezone.utc), content='The pet with ID 2 and name \"doggie\" has been added to the store with the status \"available.\" Is there anything else you would like to do?', type='TextMessage')], stop_reason=\"Text message received from 'pet_assistant'\")"
      ]
     },
     "execution_count": 8,
     "metadata": {},
     "output_type": "execute_result"
    }
   ],
   "source": [
    "await Console(team.run_stream(task=\" Add a pet to the pet store. the pet id is 2,name is doggie and the status is available.\"))"
   ]
  },
  {
   "cell_type": "code",
   "execution_count": 9,
   "id": "1df29e73",
   "metadata": {},
   "outputs": [
    {
     "name": "stdout",
     "output_type": "stream",
     "text": [
      "---------- TextMessage (user) ----------\n",
      " what's the dog 2's information.\n",
      "---------- ToolCallRequestEvent (pet_assistant) ----------\n",
      "[FunctionCall(id='call_mltiVDQ7MoRDFLjXAEomH3C1', arguments='{\"petId\":\"2\"}', name='findPetById')]\n",
      "---------- ToolCallExecutionEvent (pet_assistant) ----------\n",
      "[FunctionExecutionResult(content='{\"id\":2,\"category\":{\"id\":0,\"name\":\"\"},\"name\":\"doggie\",\"photoUrls\":[\"\"],\"tags\":[],\"status\":\"available\"}', name='findPetById', call_id='call_mltiVDQ7MoRDFLjXAEomH3C1', is_error=False)]\n",
      "---------- ToolCallSummaryMessage (pet_assistant) ----------\n",
      "{\"id\":2,\"category\":{\"id\":0,\"name\":\"\"},\"name\":\"doggie\",\"photoUrls\":[\"\"],\"tags\":[],\"status\":\"available\"}\n",
      "---------- ModelClientStreamingChunkEvent (pet_assistant) ----------\n",
      "The information for the pet with ID 2 is as follows:\n",
      "- Name: doggie\n",
      "- Status: available\n",
      "- Category: (none specified)\n",
      "- Photo URLs: none\n",
      "- Tags: none\n",
      "\n",
      "Would you like to add more details or need help with anything else?\n"
     ]
    },
    {
     "data": {
      "text/plain": [
       "TaskResult(messages=[TextMessage(source='user', models_usage=None, metadata={}, created_at=datetime.datetime(2025, 6, 12, 8, 51, 17, 286406, tzinfo=datetime.timezone.utc), content=\" what's the dog 2's information.\", type='TextMessage'), ToolCallRequestEvent(source='pet_assistant', models_usage=RequestUsage(prompt_tokens=0, completion_tokens=0), metadata={}, created_at=datetime.datetime(2025, 6, 12, 8, 51, 20, 607795, tzinfo=datetime.timezone.utc), content=[FunctionCall(id='call_mltiVDQ7MoRDFLjXAEomH3C1', arguments='{\"petId\":\"2\"}', name='findPetById')], type='ToolCallRequestEvent'), ToolCallExecutionEvent(source='pet_assistant', models_usage=None, metadata={}, created_at=datetime.datetime(2025, 6, 12, 8, 51, 21, 197107, tzinfo=datetime.timezone.utc), content=[FunctionExecutionResult(content='{\"id\":2,\"category\":{\"id\":0,\"name\":\"\"},\"name\":\"doggie\",\"photoUrls\":[\"\"],\"tags\":[],\"status\":\"available\"}', name='findPetById', call_id='call_mltiVDQ7MoRDFLjXAEomH3C1', is_error=False)], type='ToolCallExecutionEvent'), ToolCallSummaryMessage(source='pet_assistant', models_usage=None, metadata={}, created_at=datetime.datetime(2025, 6, 12, 8, 51, 21, 197286, tzinfo=datetime.timezone.utc), content='{\"id\":2,\"category\":{\"id\":0,\"name\":\"\"},\"name\":\"doggie\",\"photoUrls\":[\"\"],\"tags\":[],\"status\":\"available\"}', type='ToolCallSummaryMessage', tool_calls=[FunctionCall(id='call_mltiVDQ7MoRDFLjXAEomH3C1', arguments='{\"petId\":\"2\"}', name='findPetById')], results=[FunctionExecutionResult(content='{\"id\":2,\"category\":{\"id\":0,\"name\":\"\"},\"name\":\"doggie\",\"photoUrls\":[\"\"],\"tags\":[],\"status\":\"available\"}', name='findPetById', call_id='call_mltiVDQ7MoRDFLjXAEomH3C1', is_error=False)]), TextMessage(source='pet_assistant', models_usage=RequestUsage(prompt_tokens=0, completion_tokens=0), metadata={}, created_at=datetime.datetime(2025, 6, 12, 8, 51, 22, 948840, tzinfo=datetime.timezone.utc), content='The information for the pet with ID 2 is as follows:\\n- Name: doggie\\n- Status: available\\n- Category: (none specified)\\n- Photo URLs: none\\n- Tags: none\\n\\nWould you like to add more details or need help with anything else?', type='TextMessage')], stop_reason=\"Text message received from 'pet_assistant'\")"
      ]
     },
     "execution_count": 9,
     "metadata": {},
     "output_type": "execute_result"
    }
   ],
   "source": [
    "await Console(team.run_stream(task=\" what's the dog 2's information.\"))\n"
   ]
  }
 ],
 "metadata": {
  "kernelspec": {
   "display_name": ".venv",
   "language": "python",
   "name": "python3"
  },
  "language_info": {
   "codemirror_mode": {
    "name": "ipython",
    "version": 3
   },
   "file_extension": ".py",
   "mimetype": "text/x-python",
   "name": "python",
   "nbconvert_exporter": "python",
   "pygments_lexer": "ipython3",
   "version": "3.12.11"
  }
 },
 "nbformat": 4,
 "nbformat_minor": 5
}
