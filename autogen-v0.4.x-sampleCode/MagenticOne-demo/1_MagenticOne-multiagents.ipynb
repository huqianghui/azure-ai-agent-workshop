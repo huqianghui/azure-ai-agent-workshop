{
 "cells": [
  {
   "cell_type": "code",
   "execution_count": 5,
   "metadata": {},
   "outputs": [
    {
     "data": {
      "text/plain": [
       "True"
      ]
     },
     "execution_count": 5,
     "metadata": {},
     "output_type": "execute_result"
    }
   ],
   "source": [
    "import os\n",
    "from dotenv import load_dotenv\n",
    "import asyncio\n",
    "from autogen_agentchat.agents import AssistantAgent\n",
    "from autogen_agentchat.conditions import MaxMessageTermination, TextMentionTermination\n",
    "from autogen_agentchat.teams import MagenticOneGroupChat\n",
    "from autogen_ext.models.openai import AzureOpenAIChatCompletionClient\n",
    "from autogen_agentchat.ui import Console\n",
    "\n",
    "\n",
    "# Load environment variables from a .env file\n",
    "load_dotenv(\"/home/azureuser/azure-ai-agent-workshop/.env\")"
   ]
  },
  {
   "cell_type": "code",
   "execution_count": 6,
   "metadata": {},
   "outputs": [],
   "source": [
    "model_client=AzureOpenAIChatCompletionClient(\n",
    "            model=os.getenv(\"AZURE_OPENAI_MODEL\"),\n",
    "            azure_endpoint=os.getenv(\"AZURE_OPENAI_ENDPOINT\"),\n",
    "            api_key=os.getenv(\"AZURE_OPENAI_KEY\"),\n",
    "            azure_deployment=os.getenv(\"AZURE_OPENAI_DEPLOYMENT\"),\n",
    "            api_version=os.getenv(\"AZUER_OPENAI_API_VERSION\")\n",
    "        )"
   ]
  },
  {
   "cell_type": "code",
   "execution_count": 7,
   "metadata": {},
   "outputs": [],
   "source": [
    "# define Agent\n",
    "assistant = AssistantAgent(\n",
    "    name=\"Assistant\",\n",
    "    model_client=model_client,\n",
    "    system_message=\"你是一个乐于助人的AI智能助手。\"\n",
    ")"
   ]
  },
  {
   "cell_type": "code",
   "execution_count": 8,
   "metadata": {},
   "outputs": [],
   "source": [
    "# Define a termination condition. End the conversation if a specific text is mentioned.\n",
    "text_termination = TextMentionTermination(\"<stop autogenworkshop>\")\n",
    "# Define a termination condition: stop the task after 5 messages\n",
    "max_message_termination = MaxMessageTermination(5)\n",
    "# Use the `|` operator to combine termination conditions, stopping the task if any condition is met\n",
    "termination = text_termination | max_message_termination"
   ]
  },
  {
   "cell_type": "code",
   "execution_count": 9,
   "metadata": {},
   "outputs": [],
   "source": [
    "# define team\n",
    "team = MagenticOneGroupChat(participants=[assistant], model_client=model_client, termination_condition=termination, max_turns=None)\n"
   ]
  },
  {
   "cell_type": "code",
   "execution_count": 10,
   "metadata": {},
   "outputs": [
    {
     "name": "stdout",
     "output_type": "stream",
     "text": [
      "---------- user ----------\n",
      "写一首关于秋季的短诗\n",
      "---------- MagenticOneOrchestrator ----------\n",
      "\n",
      "We are working to address the following user request:\n",
      "\n",
      "写一首关于秋季的短诗\n",
      "\n",
      "\n",
      "To answer this request we have assembled the following team:\n",
      "\n",
      "Assistant: An agent that provides assistance with ability to use tools.\n",
      "\n",
      "\n",
      "Here is an initial fact sheet to consider:\n",
      "\n",
      "1. GIVEN OR VERIFIED FACTS  \n",
      "- The request is to write a short poem about autumn (秋季).\n",
      "\n",
      "2. FACTS TO LOOK UP  \n",
      "- No specific facts that need to be looked up are identified in the request. \n",
      "\n",
      "3. FACTS TO DERIVE  \n",
      "- None, as the request is straightforward and does not involve complex information that requires derivation.\n",
      "\n",
      "4. EDUCATED GUESSES  \n",
      "- Typical themes of autumn that could be included in the poem may involve imagery related to falling leaves, harvest, cooler weather, and seasonal changes.\n",
      "\n",
      "\n",
      "Here is the plan to follow as best as possible:\n",
      "\n",
      "- **Brainstorm Themes**: Identify common themes and imagery associated with autumn (e.g., changing leaves, harvest time, cooler temperatures).\n",
      "  \n",
      "- **Draft Poetic Structure**: Decide on a poetic form (e.g., haiku, couplet, free verse) for the short poem.\n",
      "\n",
      "- **Compose Poem**: Utilize vivid language and sensory details to evoke the essence of autumn in the chosen structure.\n",
      "\n",
      "- **Review and Revise**: Edit the poem for flow, imagery, and emotional impact.\n",
      "\n",
      "- **Finalize**: Present the completed autumn-themed poem.\n",
      "\n",
      "---------- MagenticOneOrchestrator ----------\n",
      "Please write a short poem about autumn.\n",
      "---------- Assistant ----------\n",
      "**Whispers of Autumn**\n",
      "\n",
      "Leaves dance down in golden flight,  \n",
      "A tapestry of pink and bright,  \n",
      "Chill winds sigh through trees that sway,  \n",
      "As summer's warmth drifts far away.\n",
      "\n",
      "Harvest moons in fields aglow,  \n",
      "Pumpkin patches row by row,  \n",
      "Crisp apple air, a warm embrace,  \n",
      "In autumn's arms, we find our place.\n",
      "---------- MagenticOneOrchestrator ----------\n",
      "我为你写了一首关于秋季的短诗：\n",
      "\n",
      "**秋日呢喃**\n",
      "\n",
      "落叶舞动金色飞，  \n",
      "绚烂织出粉与辉。  \n",
      "凉风轻拂树摇曳，  \n",
      "夏日温暖渐远离。\n",
      "\n",
      "丰收月下田野亮，  \n",
      "南瓜盛开成行乡。  \n",
      "清爽苹果空气中，  \n",
      "在秋的怀抱寻归踪。\n",
      "\n",
      "希望你喜欢这首诗！\n"
     ]
    },
    {
     "data": {
      "text/plain": [
       "TaskResult(messages=[TextMessage(source='user', models_usage=None, content='写一首关于秋季的短诗', type='TextMessage'), TextMessage(source='MagenticOneOrchestrator', models_usage=None, content='\\nWe are working to address the following user request:\\n\\n写一首关于秋季的短诗\\n\\n\\nTo answer this request we have assembled the following team:\\n\\nAssistant: An agent that provides assistance with ability to use tools.\\n\\n\\nHere is an initial fact sheet to consider:\\n\\n1. GIVEN OR VERIFIED FACTS  \\n- The request is to write a short poem about autumn (秋季).\\n\\n2. FACTS TO LOOK UP  \\n- No specific facts that need to be looked up are identified in the request. \\n\\n3. FACTS TO DERIVE  \\n- None, as the request is straightforward and does not involve complex information that requires derivation.\\n\\n4. EDUCATED GUESSES  \\n- Typical themes of autumn that could be included in the poem may involve imagery related to falling leaves, harvest, cooler weather, and seasonal changes.\\n\\n\\nHere is the plan to follow as best as possible:\\n\\n- **Brainstorm Themes**: Identify common themes and imagery associated with autumn (e.g., changing leaves, harvest time, cooler temperatures).\\n  \\n- **Draft Poetic Structure**: Decide on a poetic form (e.g., haiku, couplet, free verse) for the short poem.\\n\\n- **Compose Poem**: Utilize vivid language and sensory details to evoke the essence of autumn in the chosen structure.\\n\\n- **Review and Revise**: Edit the poem for flow, imagery, and emotional impact.\\n\\n- **Finalize**: Present the completed autumn-themed poem.\\n', type='TextMessage'), TextMessage(source='MagenticOneOrchestrator', models_usage=None, content='Please write a short poem about autumn.', type='TextMessage'), TextMessage(source='Assistant', models_usage=RequestUsage(prompt_tokens=341, completion_tokens=78), content=\"**Whispers of Autumn**\\n\\nLeaves dance down in golden flight,  \\nA tapestry of pink and bright,  \\nChill winds sigh through trees that sway,  \\nAs summer's warmth drifts far away.\\n\\nHarvest moons in fields aglow,  \\nPumpkin patches row by row,  \\nCrisp apple air, a warm embrace,  \\nIn autumn's arms, we find our place.\", type='TextMessage'), TextMessage(source='MagenticOneOrchestrator', models_usage=None, content='我为你写了一首关于秋季的短诗：\\n\\n**秋日呢喃**\\n\\n落叶舞动金色飞，  \\n绚烂织出粉与辉。  \\n凉风轻拂树摇曳，  \\n夏日温暖渐远离。\\n\\n丰收月下田野亮，  \\n南瓜盛开成行乡。  \\n清爽苹果空气中，  \\n在秋的怀抱寻归踪。\\n\\n希望你喜欢这首诗！', type='TextMessage')], stop_reason='A short poem about autumn has been successfully composed and presented.')"
      ]
     },
     "execution_count": 10,
     "metadata": {},
     "output_type": "execute_result"
    }
   ],
   "source": [
    "# Run the team and use the official Console tool to output in the proper format\n",
    "stream = team.run_stream(task=\"写一首关于秋季的短诗\")\n",
    "await Console(stream)\n"
   ]
  }
 ],
 "metadata": {
  "kernelspec": {
   "display_name": ".venv",
   "language": "python",
   "name": "python3"
  },
  "language_info": {
   "codemirror_mode": {
    "name": "ipython",
    "version": 3
   },
   "file_extension": ".py",
   "mimetype": "text/x-python",
   "name": "python",
   "nbconvert_exporter": "python",
   "pygments_lexer": "ipython3",
   "version": "3.12.8"
  }
 },
 "nbformat": 4,
 "nbformat_minor": 2
}
