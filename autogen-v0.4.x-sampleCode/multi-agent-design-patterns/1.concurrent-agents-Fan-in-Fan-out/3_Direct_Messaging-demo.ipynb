{
 "cells": [
  {
   "cell_type": "code",
   "execution_count": 1,
   "metadata": {},
   "outputs": [
    {
     "data": {
      "text/plain": [
       "True"
      ]
     },
     "execution_count": 1,
     "metadata": {},
     "output_type": "execute_result"
    }
   ],
   "source": [
    "import os\n",
    "from dotenv import load_dotenv\n",
    "import asyncio\n",
    "from autogen_agentchat.ui import Console\n",
    "from autogen_ext.models.openai import AzureOpenAIChatCompletionClient\n",
    "\n",
    "import asyncio\n",
    "from dataclasses import dataclass\n",
    "\n",
    "from autogen_core import (\n",
    "    AgentId,\n",
    "    ClosureAgent,\n",
    "    ClosureContext,\n",
    "    DefaultTopicId,\n",
    "    MessageContext,\n",
    "    RoutedAgent,\n",
    "    SingleThreadedAgentRuntime,\n",
    "    TopicId,\n",
    "    TypeSubscription,\n",
    "    default_subscription,\n",
    "    message_handler,\n",
    "    type_subscription,\n",
    ")\n",
    "\n",
    "\n",
    "# Load environment variables from a .env file\n",
    "load_dotenv(\"/home/azureuser/azure-ai-agent-workshop/.env\")"
   ]
  },
  {
   "cell_type": "code",
   "execution_count": 2,
   "metadata": {},
   "outputs": [],
   "source": [
    "model_client=AzureOpenAIChatCompletionClient(\n",
    "            model=os.getenv(\"AZURE_OPENAI_MODEL\"),\n",
    "            azure_endpoint=os.getenv(\"AZURE_OPENAI_ENDPOINT\"),\n",
    "            api_key=os.getenv(\"AZURE_OPENAI_KEY\"),\n",
    "            azure_deployment=os.getenv(\"AZURE_OPENAI_DEPLOYMENT\"),\n",
    "            api_version=os.getenv(\"AZUER_OPENAI_API_VERSION\")\n",
    "        )"
   ]
  },
  {
   "cell_type": "code",
   "execution_count": 3,
   "metadata": {},
   "outputs": [],
   "source": [
    "@dataclass\n",
    "class Message:\n",
    "    content: str\n",
    "\n",
    "\n",
    "class InnerAgent(RoutedAgent):\n",
    "    @message_handler\n",
    "    async def on_my_message(self, message: Message, ctx: MessageContext) -> Message:\n",
    "        return Message(content=f\"Hello from inner, {message.content}\")\n",
    "\n",
    "\n",
    "class OuterAgent(RoutedAgent):\n",
    "    def __init__(self, description: str, inner_agent_type: str):\n",
    "        super().__init__(description)\n",
    "        self.inner_agent_id = AgentId(inner_agent_type, self.id.key)\n",
    "\n",
    "    @message_handler\n",
    "    async def on_my_message(self, message: Message, ctx: MessageContext) -> None:\n",
    "        print(f\"Received message: {message.content}\")\n",
    "        # Send a direct message to the inner agent and receives a response.\n",
    "        response = await self.send_message(Message(f\"Hello from outer, {message.content}\"), self.inner_agent_id)\n",
    "        print(f\"Received inner response: {response.content}\")"
   ]
  },
  {
   "cell_type": "code",
   "execution_count": 4,
   "metadata": {},
   "outputs": [
    {
     "name": "stdout",
     "output_type": "stream",
     "text": [
      "Received message: Hello, World!\n",
      "Received inner response: Hello from inner, Hello from outer, Hello, World!\n"
     ]
    }
   ],
   "source": [
    "runtime = SingleThreadedAgentRuntime()\n",
    "await InnerAgent.register(runtime, \"inner_agent\", lambda: InnerAgent(\"InnerAgent\"))\n",
    "await OuterAgent.register(runtime, \"outer_agent\", lambda: OuterAgent(\"OuterAgent\", \"inner_agent\"))\n",
    "runtime.start()\n",
    "outer_agent_id = AgentId(\"outer_agent\", \"default\")\n",
    "await runtime.send_message(Message(content=\"Hello, World!\"), outer_agent_id)\n",
    "await runtime.stop_when_idle()"
   ]
  }
 ],
 "metadata": {
  "kernelspec": {
   "display_name": ".venv",
   "language": "python",
   "name": "python3"
  },
  "language_info": {
   "codemirror_mode": {
    "name": "ipython",
    "version": 3
   },
   "file_extension": ".py",
   "mimetype": "text/x-python",
   "name": "python",
   "nbconvert_exporter": "python",
   "pygments_lexer": "ipython3",
   "version": "3.12.8"
  }
 },
 "nbformat": 4,
 "nbformat_minor": 2
}
