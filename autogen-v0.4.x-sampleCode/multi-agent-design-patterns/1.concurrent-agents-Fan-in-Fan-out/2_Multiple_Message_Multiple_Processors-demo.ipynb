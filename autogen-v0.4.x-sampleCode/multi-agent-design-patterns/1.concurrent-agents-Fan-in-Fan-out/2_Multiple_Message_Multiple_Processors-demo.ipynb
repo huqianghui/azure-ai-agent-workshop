{
 "cells": [
  {
   "cell_type": "code",
   "execution_count": 1,
   "metadata": {},
   "outputs": [
    {
     "data": {
      "text/plain": [
       "True"
      ]
     },
     "execution_count": 1,
     "metadata": {},
     "output_type": "execute_result"
    }
   ],
   "source": [
    "import os\n",
    "from dotenv import load_dotenv\n",
    "import asyncio\n",
    "from autogen_agentchat.ui import Console\n",
    "from autogen_ext.models.openai import AzureOpenAIChatCompletionClient\n",
    "\n",
    "import asyncio\n",
    "from dataclasses import dataclass\n",
    "\n",
    "from autogen_core import (\n",
    "    AgentId,\n",
    "    ClosureAgent,\n",
    "    ClosureContext,\n",
    "    DefaultTopicId,\n",
    "    MessageContext,\n",
    "    RoutedAgent,\n",
    "    SingleThreadedAgentRuntime,\n",
    "    TopicId,\n",
    "    TypeSubscription,\n",
    "    default_subscription,\n",
    "    message_handler,\n",
    "    type_subscription,\n",
    ")\n",
    "\n",
    "\n",
    "# Load environment variables from a .env file\n",
    "load_dotenv(\"/home/azureuser/azure-ai-agent-workshop/.env\")"
   ]
  },
  {
   "cell_type": "code",
   "execution_count": 2,
   "metadata": {},
   "outputs": [],
   "source": [
    "model_client=AzureOpenAIChatCompletionClient(\n",
    "            model=os.getenv(\"AZURE_OPENAI_MODEL\"),\n",
    "            azure_endpoint=os.getenv(\"AZURE_OPENAI_ENDPOINT\"),\n",
    "            api_key=os.getenv(\"AZURE_OPENAI_KEY\"),\n",
    "            azure_deployment=os.getenv(\"AZURE_OPENAI_DEPLOYMENT\"),\n",
    "            api_version=os.getenv(\"AZUER_OPENAI_API_VERSION\")\n",
    "        )"
   ]
  },
  {
   "cell_type": "code",
   "execution_count": 3,
   "metadata": {},
   "outputs": [],
   "source": [
    "@dataclass\n",
    "class Task:\n",
    "    task_id: str\n",
    "\n",
    "\n",
    "@dataclass\n",
    "class TaskResponse:\n",
    "    task_id: str\n",
    "    result: str"
   ]
  },
  {
   "cell_type": "code",
   "execution_count": 4,
   "metadata": {},
   "outputs": [],
   "source": [
    "class WorkerAgent(RoutedAgent):\n",
    "    @message_handler\n",
    "    async def on_task(self, message: Task, ctx: MessageContext) -> TaskResponse:\n",
    "        print(f\"{self.id} starting task {message.task_id}\")\n",
    "        await asyncio.sleep(2)  # Simulate work\n",
    "        print(f\"{self.id} finished task {message.task_id}\")\n",
    "        return TaskResponse(task_id=message.task_id, result=f\"Results by {self.id}\")\n",
    "\n",
    "\n",
    "class DelegatorAgent(RoutedAgent):\n",
    "    def __init__(self, description: str, worker_type: str):\n",
    "        super().__init__(description)\n",
    "        self.worker_instances = [AgentId(worker_type, f\"{worker_type}-1\"), AgentId(worker_type, f\"{worker_type}-2\")]\n",
    "\n",
    "    @message_handler\n",
    "    async def on_task(self, message: Task, ctx: MessageContext) -> TaskResponse:\n",
    "        print(f\"Delegator received task {message.task_id}.\")\n",
    "\n",
    "        subtask1 = Task(task_id=\"task-part-1\")\n",
    "        subtask2 = Task(task_id=\"task-part-2\")\n",
    "\n",
    "        worker1_result, worker2_result = await asyncio.gather(\n",
    "            self.send_message(subtask1, self.worker_instances[0]), self.send_message(subtask2, self.worker_instances[1])\n",
    "        )\n",
    "\n",
    "        combined_result = f\"Part 1: {worker1_result.result}, \" f\"Part 2: {worker2_result.result}\"\n",
    "        task_response = TaskResponse(task_id=message.task_id, result=combined_result)\n",
    "        return task_response"
   ]
  },
  {
   "cell_type": "code",
   "execution_count": 5,
   "metadata": {},
   "outputs": [
    {
     "name": "stdout",
     "output_type": "stream",
     "text": [
      "Delegator received task main-task.\n",
      "worker/worker-1 starting task task-part-1\n",
      "worker/worker-2 starting task task-part-2\n"
     ]
    },
    {
     "name": "stdout",
     "output_type": "stream",
     "text": [
      "worker/worker-1 finished task task-part-1\n",
      "worker/worker-2 finished task task-part-2\n",
      "Final result: Part 1: Results by worker/worker-1, Part 2: Results by worker/worker-2\n"
     ]
    }
   ],
   "source": [
    "runtime = SingleThreadedAgentRuntime()\n",
    "\n",
    "await WorkerAgent.register(runtime, \"worker\", lambda: WorkerAgent(\"Worker Agent\"))\n",
    "await DelegatorAgent.register(runtime, \"delegator\", lambda: DelegatorAgent(\"Delegator Agent\", \"worker\"))\n",
    "\n",
    "runtime.start()\n",
    "\n",
    "delegator = AgentId(\"delegator\", \"default\")\n",
    "response = await runtime.send_message(Task(task_id=\"main-task\"), recipient=delegator)\n",
    "\n",
    "print(f\"Final result: {response.result}\")\n",
    "await runtime.stop_when_idle()"
   ]
  }
 ],
 "metadata": {
  "kernelspec": {
   "display_name": ".venv",
   "language": "python",
   "name": "python3"
  },
  "language_info": {
   "codemirror_mode": {
    "name": "ipython",
    "version": 3
   },
   "file_extension": ".py",
   "mimetype": "text/x-python",
   "name": "python",
   "nbconvert_exporter": "python",
   "pygments_lexer": "ipython3",
   "version": "3.12.8"
  }
 },
 "nbformat": 4,
 "nbformat_minor": 2
}
