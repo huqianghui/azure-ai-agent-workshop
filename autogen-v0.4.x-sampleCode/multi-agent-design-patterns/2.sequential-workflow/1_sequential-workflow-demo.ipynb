{
 "cells": [
  {
   "cell_type": "code",
   "execution_count": 1,
   "metadata": {},
   "outputs": [
    {
     "data": {
      "text/plain": [
       "True"
      ]
     },
     "execution_count": 1,
     "metadata": {},
     "output_type": "execute_result"
    }
   ],
   "source": [
    "import os\n",
    "from dotenv import load_dotenv\n",
    "import asyncio\n",
    "from autogen_agentchat.ui import Console\n",
    "from autogen_core.models import  SystemMessage, UserMessage\n",
    "from autogen_ext.models.openai import AzureOpenAIChatCompletionClient\n",
    "\n",
    "import asyncio\n",
    "from dataclasses import dataclass\n",
    "\n",
    "from autogen_core import (\n",
    "    MessageContext,\n",
    "    RoutedAgent,\n",
    "    SingleThreadedAgentRuntime,\n",
    "    TopicId,\n",
    "    TypeSubscription,\n",
    "    message_handler,\n",
    "    type_subscription,\n",
    ")\n",
    "\n",
    "\n",
    "# Load environment variables from a .env file\n",
    "load_dotenv(\"/home/azureuser/azure-ai-agent-workshop/.env\")"
   ]
  },
  {
   "cell_type": "code",
   "execution_count": 2,
   "metadata": {},
   "outputs": [],
   "source": [
    "model_client=AzureOpenAIChatCompletionClient(\n",
    "            model=os.getenv(\"AZURE_OPENAI_MODEL\"),\n",
    "            azure_endpoint=os.getenv(\"AZURE_OPENAI_ENDPOINT\"),\n",
    "            api_key=os.getenv(\"AZURE_OPENAI_KEY\"),\n",
    "            azure_deployment=os.getenv(\"AZURE_OPENAI_DEPLOYMENT\"),\n",
    "            api_version=os.getenv(\"AZUER_OPENAI_API_VERSION\")\n",
    "        )"
   ]
  },
  {
   "cell_type": "code",
   "execution_count": 3,
   "metadata": {},
   "outputs": [],
   "source": [
    "@dataclass\n",
    "class Message:\n",
    "    content: str"
   ]
  },
  {
   "cell_type": "code",
   "execution_count": 4,
   "metadata": {},
   "outputs": [],
   "source": [
    "concept_extractor_topic_type = \"ConceptExtractorAgent\"\n",
    "writer_topic_type = \"WriterAgent\"\n",
    "format_proof_topic_type = \"FormatProofAgent\"\n",
    "user_topic_type = \"User\"\n"
   ]
  },
  {
   "cell_type": "code",
   "execution_count": 5,
   "metadata": {},
   "outputs": [],
   "source": [
    "@type_subscription(topic_type=concept_extractor_topic_type)\n",
    "class ConceptExtractorAgent(RoutedAgent):\n",
    "    def __init__(self, model_client: AzureOpenAIChatCompletionClient) -> None:\n",
    "        super().__init__(\"A concept extractor agent.\")\n",
    "        self._system_message = SystemMessage(\n",
    "            content=(\n",
    "                \"You are a marketing analyst. Given a product description, identify:\\n\"\n",
    "                \"- Key features\\n\"\n",
    "                \"- Target audience\\n\"\n",
    "                \"- Unique selling points\\n\\n\"\n",
    "            )\n",
    "        )\n",
    "        self._model_client = model_client\n",
    "\n",
    "    @message_handler\n",
    "    async def handle_user_description(self, message: Message, ctx: MessageContext) -> None:\n",
    "        prompt = f\"Product description: {message.content}\"\n",
    "        llm_result = await self._model_client.create(\n",
    "            messages=[self._system_message, UserMessage(content=prompt, source=self.id.key)],\n",
    "            cancellation_token=ctx.cancellation_token,\n",
    "        )\n",
    "        response = llm_result.content\n",
    "        assert isinstance(response, str)\n",
    "        print(f\"{'-'*80}\\n{self.id.type}:\\n{response}\")\n",
    "\n",
    "        await self.publish_message(Message(response), topic_id=TopicId(writer_topic_type, source=self.id.key))"
   ]
  },
  {
   "cell_type": "code",
   "execution_count": 7,
   "metadata": {},
   "outputs": [],
   "source": [
    "@type_subscription(topic_type=writer_topic_type)\n",
    "class WriterAgent(RoutedAgent):\n",
    "    def __init__(self, model_client: AzureOpenAIChatCompletionClient) -> None:\n",
    "        super().__init__(\"A writer agent.\")\n",
    "        self._system_message = SystemMessage(\n",
    "            content=(\n",
    "                \"You are a marketing copywriter. Given a block of text describing features, audience, and USPs, \"\n",
    "                \"compose a compelling marketing copy (like a newsletter section) that highlights these points. \"\n",
    "                \"Output should be short (around 150 words), output just the copy as a single text block.\"\n",
    "            )\n",
    "        )\n",
    "        self._model_client = model_client\n",
    "\n",
    "    @message_handler\n",
    "    async def handle_intermediate_text(self, message: Message, ctx: MessageContext) -> None:\n",
    "        prompt = f\"Below is the info about the product:\\n\\n{message.content}\"\n",
    "\n",
    "        llm_result = await self._model_client.create(\n",
    "            messages=[self._system_message, UserMessage(content=prompt, source=self.id.key)],\n",
    "            cancellation_token=ctx.cancellation_token,\n",
    "        )\n",
    "        response = llm_result.content\n",
    "        assert isinstance(response, str)\n",
    "        print(f\"{'-'*80}\\n{self.id.type}:\\n{response}\")\n",
    "\n",
    "        await self.publish_message(Message(response), topic_id=TopicId(format_proof_topic_type, source=self.id.key))"
   ]
  },
  {
   "cell_type": "code",
   "execution_count": 8,
   "metadata": {},
   "outputs": [],
   "source": [
    "@type_subscription(topic_type=format_proof_topic_type)\n",
    "class FormatProofAgent(RoutedAgent):\n",
    "    def __init__(self, model_client: AzureOpenAIChatCompletionClient) -> None:\n",
    "        super().__init__(\"A format & proof agent.\")\n",
    "        self._system_message = SystemMessage(\n",
    "            content=(\n",
    "                \"You are an editor. Given the draft copy, correct grammar, improve clarity, ensure consistent tone, \"\n",
    "                \"give format and make it polished. Output the final improved copy as a single text block.\"\n",
    "            )\n",
    "        )\n",
    "        self._model_client = model_client\n",
    "\n",
    "    @message_handler\n",
    "    async def handle_intermediate_text(self, message: Message, ctx: MessageContext) -> None:\n",
    "        prompt = f\"Draft copy:\\n{message.content}.\"\n",
    "        llm_result = await self._model_client.create(\n",
    "            messages=[self._system_message, UserMessage(content=prompt, source=self.id.key)],\n",
    "            cancellation_token=ctx.cancellation_token,\n",
    "        )\n",
    "        response = llm_result.content\n",
    "        assert isinstance(response, str)\n",
    "        print(f\"{'-'*80}\\n{self.id.type}:\\n{response}\")\n",
    "\n",
    "        await self.publish_message(Message(response), topic_id=TopicId(user_topic_type, source=self.id.key))"
   ]
  },
  {
   "cell_type": "code",
   "execution_count": 9,
   "metadata": {},
   "outputs": [],
   "source": [
    "@type_subscription(topic_type=user_topic_type)\n",
    "class UserAgent(RoutedAgent):\n",
    "    def __init__(self) -> None:\n",
    "        super().__init__(\"A user agent that outputs the final copy to the user.\")\n",
    "\n",
    "    @message_handler\n",
    "    async def handle_final_copy(self, message: Message, ctx: MessageContext) -> None:\n",
    "        print(f\"\\n{'-'*80}\\n{self.id.type} received final copy:\\n{message.content}\")\n"
   ]
  },
  {
   "cell_type": "code",
   "execution_count": 10,
   "metadata": {},
   "outputs": [
    {
     "data": {
      "text/plain": [
       "AgentType(type='User')"
      ]
     },
     "execution_count": 10,
     "metadata": {},
     "output_type": "execute_result"
    }
   ],
   "source": [
    "runtime = SingleThreadedAgentRuntime()\n",
    "\n",
    "await ConceptExtractorAgent.register(\n",
    "    runtime, type=concept_extractor_topic_type, factory=lambda: ConceptExtractorAgent(model_client=model_client)\n",
    ")\n",
    "\n",
    "await WriterAgent.register(runtime, type=writer_topic_type, factory=lambda: WriterAgent(model_client=model_client))\n",
    "\n",
    "await FormatProofAgent.register(\n",
    "    runtime, type=format_proof_topic_type, factory=lambda: FormatProofAgent(model_client=model_client)\n",
    ")\n",
    "\n",
    "await UserAgent.register(runtime, type=user_topic_type, factory=lambda: UserAgent())"
   ]
  },
  {
   "cell_type": "code",
   "execution_count": 11,
   "metadata": {},
   "outputs": [
    {
     "name": "stdout",
     "output_type": "stream",
     "text": [
      "--------------------------------------------------------------------------------\n",
      "ConceptExtractorAgent:\n",
      "Key Features:\n",
      "- Made from eco-friendly stainless steel\n",
      "- Insulation technology that maintains cold temperatures for up to 24 hours\n",
      "- Reusable and sustainable design\n",
      "- Leak-proof lid\n",
      "- Available in multiple colors and sizes\n",
      "\n",
      "Target Audience:\n",
      "- Environmentally-conscious consumers\n",
      "- Outdoor enthusiasts and athletes\n",
      "- Health and fitness individuals\n",
      "- Students and professionals seeking convenient hydration solutions\n",
      "\n",
      "Unique Selling Points:\n",
      "- Eco-friendly materials appeal to sustainability-minded shoppers\n",
      "- Exceptional insulation performance (24 hours cold) distinguishes it from regular water bottles\n",
      "- Durable and reusable, reducing single-use plastic waste\n",
      "- Stylish design available in various colors caters to personal style preferences\n",
      "--------------------------------------------------------------------------------\n",
      "WriterAgent:\n",
      "Stay hydrated in style while protecting our planet with our eco-friendly stainless steel water bottle! Designed for the environmentally-conscious consumer, outdoor enthusiasts, and busy professionals alike, our bottles feature advanced insulation technology, ensuring your drinks stay refreshingly cold for up to 24 hours. Say goodbye to single-use plastics and embrace sustainability with our durable, reusable design. Plus, with a leak-proof lid and a variety of vibrant colors and sizes, you’ll find the perfect fit for your lifestyle. Whether you’re hitting the trails, crushing a workout, or heading to class, our stylish water bottle is the convenient hydration solution you’ve been searching for. Choose sustainability without sacrificing style—make the switch today!\n",
      "--------------------------------------------------------------------------------\n",
      "FormatProofAgent:\n",
      "Stay hydrated in style while protecting our planet with our eco-friendly stainless steel water bottle! Designed for environmentally conscious consumers, outdoor enthusiasts, and busy professionals alike, our bottles feature advanced insulation technology that keeps your drinks refreshingly cold for up to 24 hours. Say goodbye to single-use plastics and embrace sustainability with our durable, reusable design. \n",
      "\n",
      "With a leak-proof lid and a variety of vibrant colors and sizes, you’ll find the perfect fit for your lifestyle. Whether you’re hitting the trails, crushing a workout, or heading to class, our stylish water bottle is the convenient hydration solution you've been searching for. Choose sustainability without sacrificing style—make the switch today!\n",
      "\n",
      "--------------------------------------------------------------------------------\n",
      "User received final copy:\n",
      "Stay hydrated in style while protecting our planet with our eco-friendly stainless steel water bottle! Designed for environmentally conscious consumers, outdoor enthusiasts, and busy professionals alike, our bottles feature advanced insulation technology that keeps your drinks refreshingly cold for up to 24 hours. Say goodbye to single-use plastics and embrace sustainability with our durable, reusable design. \n",
      "\n",
      "With a leak-proof lid and a variety of vibrant colors and sizes, you’ll find the perfect fit for your lifestyle. Whether you’re hitting the trails, crushing a workout, or heading to class, our stylish water bottle is the convenient hydration solution you've been searching for. Choose sustainability without sacrificing style—make the switch today!\n"
     ]
    }
   ],
   "source": [
    "runtime.start()\n",
    "\n",
    "await runtime.publish_message(\n",
    "    Message(content=\"An eco-friendly stainless steel water bottle that keeps drinks cold for 24 hours\"),\n",
    "    topic_id=TopicId(concept_extractor_topic_type, source=\"default\"),\n",
    ")\n",
    "\n",
    "await runtime.stop_when_idle()"
   ]
  }
 ],
 "metadata": {
  "kernelspec": {
   "display_name": ".venv",
   "language": "python",
   "name": "python3"
  },
  "language_info": {
   "codemirror_mode": {
    "name": "ipython",
    "version": 3
   },
   "file_extension": ".py",
   "mimetype": "text/x-python",
   "name": "python",
   "nbconvert_exporter": "python",
   "pygments_lexer": "ipython3",
   "version": "3.12.8"
  }
 },
 "nbformat": 4,
 "nbformat_minor": 2
}
