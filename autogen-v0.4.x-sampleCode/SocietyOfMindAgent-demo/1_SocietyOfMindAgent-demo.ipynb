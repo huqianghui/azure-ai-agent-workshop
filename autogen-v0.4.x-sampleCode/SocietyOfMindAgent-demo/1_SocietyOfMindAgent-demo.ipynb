{
 "cells": [
  {
   "cell_type": "code",
   "execution_count": 10,
   "metadata": {},
   "outputs": [
    {
     "data": {
      "text/plain": [
       "True"
      ]
     },
     "execution_count": 10,
     "metadata": {},
     "output_type": "execute_result"
    }
   ],
   "source": [
    "import os\n",
    "from dotenv import load_dotenv\n",
    "import asyncio\n",
    "\n",
    "from autogen_agentchat.agents import AssistantAgent,SocietyOfMindAgent,UserProxyAgent\n",
    "from autogen_agentchat.base import TaskResult\n",
    "from autogen_agentchat.conditions import TextMentionTermination\n",
    "from autogen_agentchat.teams import RoundRobinGroupChat,SelectorGroupChat\n",
    "from autogen_agentchat.ui import Console\n",
    "from autogen_ext.models.openai import AzureOpenAIChatCompletionClient\n",
    "\n",
    "\n",
    "# Load environment variables from a .env file\n",
    "load_dotenv(\"/home/azureuser/azure-ai-agent-workshop/.env\")"
   ]
  },
  {
   "cell_type": "code",
   "execution_count": 11,
   "metadata": {},
   "outputs": [],
   "source": [
    "model_client=AzureOpenAIChatCompletionClient(\n",
    "            model=os.getenv(\"AZURE_OPENAI_MODEL\"),\n",
    "            azure_endpoint=os.getenv(\"AZURE_OPENAI_ENDPOINT\"),\n",
    "            api_key=os.getenv(\"AZURE_OPENAI_KEY\"),\n",
    "            azure_deployment=os.getenv(\"AZURE_OPENAI_DEPLOYMENT\"),\n",
    "            api_version=os.getenv(\"AZUER_OPENAI_API_VERSION\")\n",
    "        )"
   ]
  },
  {
   "cell_type": "code",
   "execution_count": 12,
   "metadata": {},
   "outputs": [],
   "source": [
    "\n",
    "# define Agent\n",
    "Hailing_Intent_Recognition_Agent = AssistantAgent(\n",
    "    name=\"ride_hailing_intent_recognition_agent\",\n",
    "    model_client=model_client,\n",
    "    description=\"ride-hailing intent recognition agent.\",\n",
    "    system_message=''' You will engage in a conversation with the user. You should first determine the user's intent. There are three possible intents: hail a car now, schedule a car, or other. If the intent is other, you do not need to do anything. If it is hail a car now or schedule a car, you need to identify the key information in the sentence and check whether the provided information is sufficient to fulfill the user's intent. If it is not sufficient, ask the user for more information one by one.\n",
    "\n",
    "    The required information for each need is as follows:\n",
    "\n",
    "    Hail a car now:\n",
    "    1. Pickup location\n",
    "    2. Destination\n",
    "    3. Rider (default is the user)\n",
    "    4. Car type\n",
    "    5. Pickup time (default is now)\n",
    "\n",
    "    Schedule a car:\n",
    "    1. Pickup location\n",
    "    2. Destination\n",
    "    3. Rider (default is the user)\n",
    "    4. Car type\n",
    "    5. Pickup time\n",
    "\n",
    "    When the intent is hail a car now:\n",
    "    First, how to determine the pickup location, if the user's instruction already includes the specific pickup location and the city information of the pickup location, use the pickup location specified in the instruction (including the specific pickup location and the city of the pickup location); if the user's instruction already includes the specific pickup location but does not include the city information of the pickup location, further ask for the city of the pickup location to ensure that the pickup location includes both the specific pickup location and the city of the pickup location; if the user's instruction does not include the pickup location, ask the user for the specific pickup location and the city of the pickup location to ensure that the pickup location includes both the specific pickup location and the city of the pickup location.\n",
    "    Second, how to determine the destination, if the user's instruction already includes the specific destination and the city information of the destination, use the destination specified in the instruction (including the specific destination and the city of the destination); if the user's instruction already includes the specific destination but does not include the city information of the destination, further ask for the city of the destination to ensure that the destination includes both the specific destination and the city of the destination; if the user's instruction does not include the destination, ask the user for the specific destination and the city of the destination to ensure that the destination includes both the specific destination and the city of the destination.\n",
    "    Third, how to determine the rider, if the user does not specify a rider, you do not need to ask the user, just set the rider as the user.\n",
    "    Fourth, how to determine the car type, the choice of car type depends on the application you are using. If the destination is in mainland China, you should use DiDi Enterprise Edition. Otherwise, you should use Uber. If using DiDi Enterprise Edition, you can choose any of the seven options:\n",
    "    1. Carpool(拼车)\n",
    "    2. Enterprise Special Express(企业特价快车)\n",
    "    3. Express(快车)\n",
    "    4. Comfort Car(舒适专车)\n",
    "    5. DiDi Express(滴滴特快)\n",
    "    6. Six-Seater Business(六座商务)\n",
    "    7. Luxury Car(豪华车)\n",
    "    If using Uber, you can choose one of three options:\n",
    "    1. UberXL (6 seats, but expensive)\n",
    "    2. UberX (4 seats)\n",
    "    3. Taxi (4 seats)\n",
    "    If the user's chosen car type is not in the options, ask the user again. Show detailed information to help the user make a choice.\n",
    "    Fifth, how to determine the pickup time, if the user does not specify a specific pickup time, the pickup time defaults to now.\n",
    "\n",
    "    When the intent is schedule a car:\n",
    "    First, how to determine the pickup location, if the user's instruction already includes the specific pickup location and the city information of the pickup location, use the pickup location specified in the instruction (including the specific pickup location and the city of the pickup location); if the user's instruction already includes the specific pickup location but does not include the city information of the pickup location, further ask for the city of the pickup location to ensure that the pickup location includes both the specific pickup location and the city of the pickup location; if the user's instruction does not include the pickup location, ask the user for the specific pickup location and the city of the pickup location to ensure that the pickup location includes both the specific pickup location and the city of the pickup location.\n",
    "    Second, how to determine the destination, if the user's instruction already includes the specific destination and the city information of the destination, use the destination specified in the instruction (including the specific destination and the city of the destination); if the user's instruction already includes the specific destination but does not include the city information of the destination, further ask for the city of the destination to ensure that the destination includes both the specific destination and the city of the destination; if the user's instruction does not include the destination, ask the user for the specific destination and the city of the destination to ensure that the destination includes both the specific destination and the city of the destination.\n",
    "    Third, how to determine the rider, if the user does not specify a rider, you do not need to ask the user, just set the rider as the user.\n",
    "    Fourth, how to determine the car type, the choice of car type depends on the application you are using. If the destination is in mainland China, you should use DiDi Enterprise Edition. Otherwise, you should use Uber. If using DiDi Enterprise Edition, you can choose any of the seven options:\n",
    "    1. Carpool(拼车)\n",
    "    2. Enterprise Special Express(企业特价快车)\n",
    "    3. Express(快车)\n",
    "    4. Comfort Car(舒适专车)\n",
    "    5. DiDi Express(滴滴特快)\n",
    "    6. Six-Seater Business(六座商务)\n",
    "    7. Luxury Car(豪华车)\n",
    "    If using Uber, you can choose one of three options:\n",
    "    1. UberXL (6 seats, but expensive)\n",
    "    2. UberX (4 seats)\n",
    "    3. Taxi (4 seats)\n",
    "    If the user's chosen car type is not in the options, ask the user again. Show detailed information to help the user make a choice.\n",
    "    Fifth, how to determine the pickup time, if the user's instruction already includes the pickup time and the pickup time is accurate to the minute and specifies whether it is AM or PM, use the pickup time specified in the instruction. If the user's specified pickup time is not accurate to the minute or does not indicate whether it is AM or PM, continue to ask the user to ensure the pickup time is accurate to the minute and specifies whether it is AM or PM. If the user's instruction does not include the pickup time, ask the user for the specific pickup time to ensure that the pickup time is accurate to the minute and specifies whether it is AM or PM.\n",
    "\n",
    "    After all the information is collected, ask the user to confirm the information. After the user confirms, tell the user that the hailing process starts by a single message, then call the operating function.\n",
    "    You must ask the user in Chinese.\n",
    "    If you receive \"Finish Operating\" from the operating function and want to end the conversation, then Respond with '<FINISH>'.'''\n",
    "    )\n",
    "\n"
   ]
  },
  {
   "cell_type": "code",
   "execution_count": 13,
   "metadata": {},
   "outputs": [],
   "source": [
    "\n",
    "# define user proxy Agent\n",
    "user_proxy = UserProxyAgent(\n",
    "    name=\"user_proxy\"\n",
    ")\n",
    "\n",
    "inner_termination = TextMentionTermination(\"<FINISH>\")\n",
    "inner_team = SelectorGroupChat([Hailing_Intent_Recognition_Agent, user_proxy], model_client=model_client, termination_condition=inner_termination)\n",
    "\n",
    "society_of_mind_agent = SocietyOfMindAgent(\"society_of_mind\", team=inner_team, model_client=model_client)"
   ]
  },
  {
   "cell_type": "code",
   "execution_count": null,
   "metadata": {},
   "outputs": [
    {
     "name": "stdout",
     "output_type": "stream",
     "text": [
      "---------- user ----------\n",
      "我要打车去虹桥火车站.\n"
     ]
    },
    {
     "name": "stdout",
     "output_type": "stream",
     "text": [
      "---------- ride_hailing_intent_recognition_agent ----------\n",
      "请问您从哪里出发？需要提供具体的接送地点和城市信息。\n",
      "---------- user_proxy ----------\n",
      "我在上海，我在徐汇区虹漕路77号\n",
      "---------- ride_hailing_intent_recognition_agent ----------\n",
      "好的，您的接送地点是徐汇区虹漕路77号，城市是上海。请问您的目的地是哪里？\n",
      "---------- user_proxy ----------\n",
      "虹桥火车站\n",
      "---------- ride_hailing_intent_recognition_agent ----------\n",
      "请问您是否有指定的乘客？默认是您本人。还有，您希望选择什么类型的车呢？可选的类型有：\n",
      "1. UberXL (6个座位，价格较贵)\n",
      "2. UberX (4个座位)\n",
      "3. Taxi (4个座位)\n",
      "\n",
      "请告诉我您的选择。\n",
      "---------- user_proxy ----------\n",
      "3. Taxi (4个座位)\n",
      "---------- ride_hailing_intent_recognition_agent ----------\n",
      "好的，以下是您打车的信息：\n",
      "- 接送地点：上海 徐汇区虹漕路77号\n",
      "- 目的地：虹桥火车站\n",
      "- 乘客：您本人\n",
      "- 车的类型：Taxi (4个座位)\n",
      "- 接送时间：现在\n",
      "\n",
      "请确认以上信息是否正确？\n",
      "---------- user_proxy ----------\n",
      "现在\n",
      "---------- ride_hailing_intent_recognition_agent ----------\n",
      "谢谢您的确认。现在我将开始打车请求。请稍等。\n",
      "---------- user_proxy ----------\n",
      "\n",
      "---------- ride_hailing_intent_recognition_agent ----------\n",
      "<FINISH>\n",
      "---------- society_of_mind ----------\n",
      "请提供接送地点和城市信息，以便我们为您安排打车服务。\n"
     ]
    },
    {
     "data": {
      "text/plain": [
       "TaskResult(messages=[TextMessage(source='user', models_usage=None, content='我要打车去虹桥火车站.', type='TextMessage'), TextMessage(source='ride_hailing_intent_recognition_agent', models_usage=RequestUsage(prompt_tokens=1544, completion_tokens=20), content='请问您从哪里出发？需要提供具体的接送地点和城市信息。', type='TextMessage'), UserInputRequestedEvent(source='user_proxy', models_usage=None, request_id='17912655-580f-4010-ae1d-7da10c8668a4', content='', type='UserInputRequestedEvent'), TextMessage(source='user_proxy', models_usage=None, content='我在上海，我在徐汇区虹漕路77号', type='TextMessage'), TextMessage(source='ride_hailing_intent_recognition_agent', models_usage=RequestUsage(prompt_tokens=1596, completion_tokens=30), content='好的，您的接送地点是徐汇区虹漕路77号，城市是上海。请问您的目的地是哪里？', type='TextMessage'), UserInputRequestedEvent(source='user_proxy', models_usage=None, request_id='cef427a9-278d-4211-8dd9-26cbbcffa2f0', content='', type='UserInputRequestedEvent'), TextMessage(source='user_proxy', models_usage=None, content='虹桥火车站', type='TextMessage'), TextMessage(source='ride_hailing_intent_recognition_agent', models_usage=RequestUsage(prompt_tokens=1649, completion_tokens=72), content='请问您是否有指定的乘客？默认是您本人。还有，您希望选择什么类型的车呢？可选的类型有：\\n1. UberXL (6个座位，价格较贵)\\n2. UberX (4个座位)\\n3. Taxi (4个座位)\\n\\n请告诉我您的选择。', type='TextMessage'), UserInputRequestedEvent(source='user_proxy', models_usage=None, request_id='be9f7d88-a611-4635-80a1-592afe39ead3', content='', type='UserInputRequestedEvent'), TextMessage(source='user_proxy', models_usage=None, content='3. Taxi (4个座位)', type='TextMessage'), TextMessage(source='ride_hailing_intent_recognition_agent', models_usage=RequestUsage(prompt_tokens=1748, completion_tokens=72), content='好的，以下是您打车的信息：\\n- 接送地点：上海 徐汇区虹漕路77号\\n- 目的地：虹桥火车站\\n- 乘客：您本人\\n- 车的类型：Taxi (4个座位)\\n- 接送时间：现在\\n\\n请确认以上信息是否正确？', type='TextMessage'), UserInputRequestedEvent(source='user_proxy', models_usage=None, request_id='5ea415fd-9d3f-44ce-90cf-fd157a9c6502', content='', type='UserInputRequestedEvent'), TextMessage(source='user_proxy', models_usage=None, content='现在', type='TextMessage'), TextMessage(source='ride_hailing_intent_recognition_agent', models_usage=RequestUsage(prompt_tokens=1839, completion_tokens=17), content='谢谢您的确认。现在我将开始打车请求。请稍等。', type='TextMessage'), UserInputRequestedEvent(source='user_proxy', models_usage=None, request_id='34efbbee-c31e-400e-98ce-f214a32fa1f1', content='', type='UserInputRequestedEvent'), TextMessage(source='user_proxy', models_usage=None, content='', type='TextMessage'), TextMessage(source='ride_hailing_intent_recognition_agent', models_usage=RequestUsage(prompt_tokens=1874, completion_tokens=5), content='<FINISH>', type='TextMessage'), TextMessage(source='society_of_mind', models_usage=RequestUsage(prompt_tokens=403, completion_tokens=19), content='请提供接送地点和城市信息，以便我们为您安排打车服务。', type='TextMessage')], stop_reason=\"Text '<FINISH>' mentioned\")"
      ]
     },
     "execution_count": 14,
     "metadata": {},
     "output_type": "execute_result"
    }
   ],
   "source": [
    "from pydantic import BaseModel\n",
    "import json\n",
    "\n",
    "class Rent_Car_Info(BaseModel):\n",
    "    \n",
    "    # 1. Pickup location\n",
    "    pickup_location: str\n",
    "    # 2. Destination\n",
    "    destination: str\n",
    "    # 3. Rider (default is the user)\n",
    "    rider: str = \"user\"\n",
    "    # 4. Car type\n",
    "    car_type: str\n",
    "    # 5. Pickup time (default is now)\n",
    "    pickup_time: str = \"now\"\n",
    "    # 6. Intent\n",
    "    intent: str = \"Hail a car now\"\n",
    "\n",
    "\n",
    "# define Tool\n",
    "async def call_operating(rent_Car_Info: Rent_Car_Info) -> str:\n",
    "    rent_car_info_str = json.dumps(rent_Car_Info, ensure_ascii=False)\n",
    "    print(\"call_operating rent_car_info_str:\", rent_car_info_str)\n",
    "    print(\"<叫车服务成功>\")\n",
    "    return \" 打车信息如下：\" + rent_car_info_str + \"\\n  <叫车服务成功>\"\n",
    "\n",
    "\n",
    "car_call_operating_Agent = AssistantAgent(\n",
    "        \"car_call_operating_Agent\", \n",
    "        model_client=model_client, \n",
    "        system_message=\"You are a tool agent. You will receive a json string as input, which contains the information of the car rental. You need to call the operating function and return the result.\",\n",
    "        description=\"You are a tool agent. You will receive a json string as input, which contains the information of the car rental. You need to call the operating function and return the result.\",\n",
    "        tools=[call_operating])\n",
    "\n",
    "task_termination = TextMentionTermination(\"<FINISH>\")\n",
    "team = RoundRobinGroupChat([society_of_mind_agent, car_call_operating_Agent], max_turns=10,termination_condition=task_termination)\n",
    "\n",
    "stream = team.run_stream(task=\"我要打车去虹桥火车站.\")\n",
    "await Console(stream)"
   ]
  }
 ],
 "metadata": {
  "kernelspec": {
   "display_name": ".venv",
   "language": "python",
   "name": "python3"
  },
  "language_info": {
   "codemirror_mode": {
    "name": "ipython",
    "version": 3
   },
   "file_extension": ".py",
   "mimetype": "text/x-python",
   "name": "python",
   "nbconvert_exporter": "python",
   "pygments_lexer": "ipython3",
   "version": "3.12.8"
  }
 },
 "nbformat": 4,
 "nbformat_minor": 2
}
