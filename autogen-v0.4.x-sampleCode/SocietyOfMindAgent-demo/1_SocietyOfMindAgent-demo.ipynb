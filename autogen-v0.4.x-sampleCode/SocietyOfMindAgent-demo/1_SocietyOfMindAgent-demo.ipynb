{
 "cells": [
  {
   "cell_type": "code",
   "execution_count": 1,
   "metadata": {},
   "outputs": [
    {
     "data": {
      "text/plain": [
       "True"
      ]
     },
     "execution_count": 1,
     "metadata": {},
     "output_type": "execute_result"
    }
   ],
   "source": [
    "import os\n",
    "from dotenv import load_dotenv\n",
    "import asyncio\n",
    "\n",
    "from autogen_agentchat.agents import AssistantAgent,SocietyOfMindAgent,UserProxyAgent\n",
    "from autogen_agentchat.base import TaskResult\n",
    "from autogen_agentchat.conditions import TextMentionTermination\n",
    "from autogen_agentchat.teams import RoundRobinGroupChat,SelectorGroupChat\n",
    "from autogen_agentchat.ui import Console\n",
    "from autogen_ext.models.openai import AzureOpenAIChatCompletionClient\n",
    "\n",
    "\n",
    "# Load environment variables from a .env file\n",
    "load_dotenv(\"/home/azureuser/azure-ai-agent-workshop/.env\")"
   ]
  },
  {
   "cell_type": "code",
   "execution_count": 2,
   "metadata": {},
   "outputs": [],
   "source": [
    "model_client=AzureOpenAIChatCompletionClient(\n",
    "            model=os.getenv(\"AZURE_OPENAI_MODEL\"),\n",
    "            azure_endpoint=os.getenv(\"AZURE_OPENAI_ENDPOINT\"),\n",
    "            api_key=os.getenv(\"AZURE_OPENAI_KEY\"),\n",
    "            azure_deployment=os.getenv(\"AZURE_OPENAI_DEPLOYMENT\"),\n",
    "            api_version=os.getenv(\"AZUER_OPENAI_API_VERSION\")\n",
    "        )"
   ]
  },
  {
   "cell_type": "code",
   "execution_count": 3,
   "metadata": {},
   "outputs": [],
   "source": [
    "\n",
    "# define Agent\n",
    "Hailing_Intent_Recognition_Agent = AssistantAgent(\n",
    "    name=\"ride_hailing_intent_recognition_agent\",\n",
    "    model_client=model_client,\n",
    "    description=\"ride-hailing intent recognition agent.\",\n",
    "    system_message=''' You will engage in a conversation with the user. You should first determine the user's intent. There are three possible intents: hail a car now, schedule a car, or other. If the intent is other, you do not need to do anything. If it is hail a car now or schedule a car, you need to identify the key information in the sentence and check whether the provided information is sufficient to fulfill the user's intent. If it is not sufficient, ask the user for more information one by one.\n",
    "\n",
    "    The required information for each need is as follows:\n",
    "\n",
    "    Hail a car now:\n",
    "    1. Pickup location\n",
    "    2. Destination\n",
    "    3. Rider (default is the user)\n",
    "    4. Car type\n",
    "    5. Pickup time (default is now)\n",
    "\n",
    "    Schedule a car:\n",
    "    1. Pickup location\n",
    "    2. Destination\n",
    "    3. Rider (default is the user)\n",
    "    4. Car type\n",
    "    5. Pickup time\n",
    "\n",
    "    When the intent is hail a car now:\n",
    "    First, how to determine the pickup location, if the user's instruction already includes the specific pickup location and the city information of the pickup location, use the pickup location specified in the instruction (including the specific pickup location and the city of the pickup location); if the user's instruction already includes the specific pickup location but does not include the city information of the pickup location, further ask for the city of the pickup location to ensure that the pickup location includes both the specific pickup location and the city of the pickup location; if the user's instruction does not include the pickup location, ask the user for the specific pickup location and the city of the pickup location to ensure that the pickup location includes both the specific pickup location and the city of the pickup location.\n",
    "    Second, how to determine the destination, if the user's instruction already includes the specific destination and the city information of the destination, use the destination specified in the instruction (including the specific destination and the city of the destination); if the user's instruction already includes the specific destination but does not include the city information of the destination, further ask for the city of the destination to ensure that the destination includes both the specific destination and the city of the destination; if the user's instruction does not include the destination, ask the user for the specific destination and the city of the destination to ensure that the destination includes both the specific destination and the city of the destination.\n",
    "    Third, how to determine the rider, if the user does not specify a rider, you do not need to ask the user, just set the rider as the user.\n",
    "    Fourth, how to determine the car type, the choice of car type depends on the application you are using. If the destination is in mainland China, you should use DiDi Enterprise Edition. Otherwise, you should use Uber. If using DiDi Enterprise Edition, you can choose any of the seven options:\n",
    "    1. Carpool(拼车)\n",
    "    2. Enterprise Special Express(企业特价快车)\n",
    "    3. Express(快车)\n",
    "    4. Comfort Car(舒适专车)\n",
    "    5. DiDi Express(滴滴特快)\n",
    "    6. Six-Seater Business(六座商务)\n",
    "    7. Luxury Car(豪华车)\n",
    "    If using Uber, you can choose one of three options:\n",
    "    1. UberXL (6 seats, but expensive)\n",
    "    2. UberX (4 seats)\n",
    "    3. Taxi (4 seats)\n",
    "    If the user's chosen car type is not in the options, ask the user again. Show detailed information to help the user make a choice.\n",
    "    Fifth, how to determine the pickup time, if the user does not specify a specific pickup time, the pickup time defaults to now.\n",
    "\n",
    "    When the intent is schedule a car:\n",
    "    First, how to determine the pickup location, if the user's instruction already includes the specific pickup location and the city information of the pickup location, use the pickup location specified in the instruction (including the specific pickup location and the city of the pickup location); if the user's instruction already includes the specific pickup location but does not include the city information of the pickup location, further ask for the city of the pickup location to ensure that the pickup location includes both the specific pickup location and the city of the pickup location; if the user's instruction does not include the pickup location, ask the user for the specific pickup location and the city of the pickup location to ensure that the pickup location includes both the specific pickup location and the city of the pickup location.\n",
    "    Second, how to determine the destination, if the user's instruction already includes the specific destination and the city information of the destination, use the destination specified in the instruction (including the specific destination and the city of the destination); if the user's instruction already includes the specific destination but does not include the city information of the destination, further ask for the city of the destination to ensure that the destination includes both the specific destination and the city of the destination; if the user's instruction does not include the destination, ask the user for the specific destination and the city of the destination to ensure that the destination includes both the specific destination and the city of the destination.\n",
    "    Third, how to determine the rider, if the user does not specify a rider, you do not need to ask the user, just set the rider as the user.\n",
    "    Fourth, how to determine the car type, the choice of car type depends on the application you are using. If the destination is in mainland China, you should use DiDi Enterprise Edition. Otherwise, you should use Uber. If using DiDi Enterprise Edition, you can choose any of the seven options:\n",
    "    1. Carpool(拼车)\n",
    "    2. Enterprise Special Express(企业特价快车)\n",
    "    3. Express(快车)\n",
    "    4. Comfort Car(舒适专车)\n",
    "    5. DiDi Express(滴滴特快)\n",
    "    6. Six-Seater Business(六座商务)\n",
    "    7. Luxury Car(豪华车)\n",
    "    If using Uber, you can choose one of three options:\n",
    "    1. UberXL (6 seats, but expensive)\n",
    "    2. UberX (4 seats)\n",
    "    3. Taxi (4 seats)\n",
    "    If the user's chosen car type is not in the options, ask the user again. Show detailed information to help the user make a choice.\n",
    "    Fifth, how to determine the pickup time, if the user's instruction already includes the pickup time and the pickup time is accurate to the minute and specifies whether it is AM or PM, use the pickup time specified in the instruction. If the user's specified pickup time is not accurate to the minute or does not indicate whether it is AM or PM, continue to ask the user to ensure the pickup time is accurate to the minute and specifies whether it is AM or PM. If the user's instruction does not include the pickup time, ask the user for the specific pickup time to ensure that the pickup time is accurate to the minute and specifies whether it is AM or PM.\n",
    "\n",
    "    After all the information is collected, ask the user to confirm the information. if the user confirms, respond <FINISH>.\n",
    "    You must ask the user in Chinese.'''\n",
    "    )"
   ]
  },
  {
   "cell_type": "code",
   "execution_count": 4,
   "metadata": {},
   "outputs": [],
   "source": [
    "\n",
    "# define user proxy Agent\n",
    "user_proxy = UserProxyAgent(\n",
    "    name=\"user_proxy\"\n",
    ")\n",
    "\n",
    "inner_termination = TextMentionTermination(\"<FINISH>\")\n",
    "inner_team = SelectorGroupChat([Hailing_Intent_Recognition_Agent, user_proxy], model_client=model_client, termination_condition=inner_termination)\n",
    "\n",
    "society_of_mind_agent = SocietyOfMindAgent(\"society_of_mind\", team=inner_team, model_client=model_client)"
   ]
  },
  {
   "cell_type": "code",
   "execution_count": 5,
   "metadata": {},
   "outputs": [
    {
     "name": "stdout",
     "output_type": "stream",
     "text": [
      "---------- user ----------\n",
      "我要打车去虹桥火车站.\n"
     ]
    },
    {
     "name": "stdout",
     "output_type": "stream",
     "text": [
      "---------- ride_hailing_intent_recognition_agent ----------\n",
      "请问您的接送地点是在哪里？请提供具体的接送地址和城市。\n",
      "---------- user_proxy ----------\n",
      "我在上海市。 我现在在徐汇区虹漕路77号。现在需要打车去虹桥火车站\n",
      "---------- ride_hailing_intent_recognition_agent ----------\n",
      "感谢您提供的信息。请问您需要哪种类型的车辆？以下是可选的类型：\n",
      "\n",
      "1. 拼车(拼车)\n",
      "2. 企业特价快车\n",
      "3. 快车\n",
      "4. 舒适专车\n",
      "5. 滴滴特快\n",
      "6. 六座商务\n",
      "7. 豪华车\n",
      "\n",
      "请您选择一个车辆类型。\n",
      "---------- user_proxy ----------\n",
      "4. 舒适专车\n",
      "---------- ride_hailing_intent_recognition_agent ----------\n",
      "谢谢您的选择。您选择了“舒适专车”。请确认以下信息：\n",
      "\n",
      "- **接送地点**: 徐汇区虹漕路77号, 上海市\n",
      "- **目的地**: 虹桥火车站\n",
      "- **乘客**: 您\n",
      "- **车辆类型**: 舒适专车\n",
      "- **接送时间**: 现在\n",
      "\n",
      "请确认这些信息是否正确？\n",
      "---------- user_proxy ----------\n",
      "正确\n",
      "---------- ride_hailing_intent_recognition_agent ----------\n",
      "<FINISH>\n",
      "---------- society_of_mind ----------\n",
      "请问您的接送地点是在哪里？请提供具体的接送地址和城市。\n",
      "call_operating rent_car_info_str: {\"pickup_location\": \"用户当前位置\", \"destination\": \"虹桥火车站\", \"rider\": \"user\", \"car_type\": \"出租车\", \"pickup_time\": \"now\", \"intent\": \"Hail a car now\"}\n",
      "<SUCCESS>\n",
      "---------- car_call_operating_Agent ----------\n",
      "[FunctionCall(id='call_m3t1UUOGkfQbvWJgNdyfaRvk', arguments='{\"rent_Car_Info\":{\"pickup_location\":\"用户当前位置\",\"destination\":\"虹桥火车站\",\"car_type\":\"出租车\"}}', name='call_operating')]\n",
      "---------- car_call_operating_Agent ----------\n",
      "[FunctionExecutionResult(content=' 打车信息如下：{\"pickup_location\": \"用户当前位置\", \"destination\": \"虹桥火车站\", \"rider\": \"user\", \"car_type\": \"出租车\", \"pickup_time\": \"now\", \"intent\": \"Hail a car now\"}\\n  <SUCCESS>', call_id='call_m3t1UUOGkfQbvWJgNdyfaRvk')]\n",
      "---------- car_call_operating_Agent ----------\n",
      " 打车信息如下：{\"pickup_location\": \"用户当前位置\", \"destination\": \"虹桥火车站\", \"rider\": \"user\", \"car_type\": \"出租车\", \"pickup_time\": \"now\", \"intent\": \"Hail a car now\"}\n",
      "  <SUCCESS>\n"
     ]
    },
    {
     "data": {
      "text/plain": [
       "TaskResult(messages=[TextMessage(source='user', models_usage=None, content='我要打车去虹桥火车站.', type='TextMessage'), TextMessage(source='ride_hailing_intent_recognition_agent', models_usage=RequestUsage(prompt_tokens=1503, completion_tokens=20), content='请问您的接送地点是在哪里？请提供具体的接送地址和城市。', type='TextMessage'), UserInputRequestedEvent(source='user_proxy', models_usage=None, request_id='a0b4dd8f-4d3e-4a69-86b5-b3a9a97bd0e1', content='', type='UserInputRequestedEvent'), TextMessage(source='user_proxy', models_usage=None, content='我在上海市。 我现在在徐汇区虹漕路77号。现在需要打车去虹桥火车站', type='TextMessage'), TextMessage(source='ride_hailing_intent_recognition_agent', models_usage=RequestUsage(prompt_tokens=1569, completion_tokens=79), content='感谢您提供的信息。请问您需要哪种类型的车辆？以下是可选的类型：\\n\\n1. 拼车(拼车)\\n2. 企业特价快车\\n3. 快车\\n4. 舒适专车\\n5. 滴滴特快\\n6. 六座商务\\n7. 豪华车\\n\\n请您选择一个车辆类型。', type='TextMessage'), UserInputRequestedEvent(source='user_proxy', models_usage=None, request_id='56c763bb-3057-40ef-a0ff-80ebd67bfcf9', content='', type='UserInputRequestedEvent'), TextMessage(source='user_proxy', models_usage=None, content='4. 舒适专车', type='TextMessage'), TextMessage(source='ride_hailing_intent_recognition_agent', models_usage=RequestUsage(prompt_tokens=1673, completion_tokens=90), content='谢谢您的选择。您选择了“舒适专车”。请确认以下信息：\\n\\n- **接送地点**: 徐汇区虹漕路77号, 上海市\\n- **目的地**: 虹桥火车站\\n- **乘客**: 您\\n- **车辆类型**: 舒适专车\\n- **接送时间**: 现在\\n\\n请确认这些信息是否正确？', type='TextMessage'), UserInputRequestedEvent(source='user_proxy', models_usage=None, request_id='4acbba30-2fa1-4659-ad08-7a4581eeca70', content='', type='UserInputRequestedEvent'), TextMessage(source='user_proxy', models_usage=None, content='正确', type='TextMessage'), TextMessage(source='ride_hailing_intent_recognition_agent', models_usage=RequestUsage(prompt_tokens=1782, completion_tokens=5), content='<FINISH>', type='TextMessage'), TextMessage(source='society_of_mind', models_usage=RequestUsage(prompt_tokens=352, completion_tokens=20), content='请问您的接送地点是在哪里？请提供具体的接送地址和城市。', type='TextMessage'), ToolCallRequestEvent(source='car_call_operating_Agent', models_usage=RequestUsage(prompt_tokens=199, completion_tokens=60), content=[FunctionCall(id='call_m3t1UUOGkfQbvWJgNdyfaRvk', arguments='{\"rent_Car_Info\":{\"pickup_location\":\"用户当前位置\",\"destination\":\"虹桥火车站\",\"car_type\":\"出租车\"}}', name='call_operating')], type='ToolCallRequestEvent'), ToolCallExecutionEvent(source='car_call_operating_Agent', models_usage=None, content=[FunctionExecutionResult(content=' 打车信息如下：{\"pickup_location\": \"用户当前位置\", \"destination\": \"虹桥火车站\", \"rider\": \"user\", \"car_type\": \"出租车\", \"pickup_time\": \"now\", \"intent\": \"Hail a car now\"}\\n  <SUCCESS>', call_id='call_m3t1UUOGkfQbvWJgNdyfaRvk')], type='ToolCallExecutionEvent'), ToolCallSummaryMessage(source='car_call_operating_Agent', models_usage=None, content=' 打车信息如下：{\"pickup_location\": \"用户当前位置\", \"destination\": \"虹桥火车站\", \"rider\": \"user\", \"car_type\": \"出租车\", \"pickup_time\": \"now\", \"intent\": \"Hail a car now\"}\\n  <SUCCESS>', type='ToolCallSummaryMessage')], stop_reason=\"Text '<SUCCESS>' mentioned\")"
      ]
     },
     "execution_count": 5,
     "metadata": {},
     "output_type": "execute_result"
    }
   ],
   "source": [
    "from pydantic import BaseModel\n",
    "import json\n",
    "\n",
    "class Rent_Car_Info(BaseModel):\n",
    "    \n",
    "    # 1. Pickup location\n",
    "    pickup_location: str\n",
    "    # 2. Destination\n",
    "    destination: str\n",
    "    # 3. Rider (default is the user)\n",
    "    rider: str = \"user\"\n",
    "    # 4. Car type\n",
    "    car_type: str\n",
    "    # 5. Pickup time (default is now)\n",
    "    pickup_time: str = \"now\"\n",
    "    # 6. Intent\n",
    "    intent: str = \"Hail a car now\"\n",
    "\n",
    "\n",
    "# define Tool\n",
    "async def call_operating(rent_Car_Info: Rent_Car_Info) -> str:\n",
    "    #Rent_Car_Info.model_validate(json.loads(rent_Car_Info))\n",
    "    rent_car_info_str = json.dumps(rent_Car_Info, ensure_ascii=False)\n",
    "    print(\"call_operating rent_car_info_str:\", rent_car_info_str)\n",
    "    print(\"<SUCCESS>\")\n",
    "    return \" 打车信息如下：\" + rent_car_info_str + \"\\n  <SUCCESS>\"\n",
    "\n",
    "\n",
    "car_call_operating_Agent = AssistantAgent(\n",
    "        \"car_call_operating_Agent\", \n",
    "        model_client=model_client, \n",
    "        system_message=\"You are a tool agent. You will receive a json string as input, which contains the information of the car rental. You must call the operating function and return the result. if the function call is successful, return <SUCCESS>.\",\n",
    "        description=\"You are a tool agent. You will receive a json string as input, which contains the information of the car rental. You need to call the operating function and return the result.\",\n",
    "        tools=[call_operating])\n",
    "\n",
    "task_termination = TextMentionTermination(\"<SUCCESS>\")\n",
    "team = RoundRobinGroupChat([society_of_mind_agent, car_call_operating_Agent], max_turns=10,termination_condition=task_termination)\n",
    "\n",
    "stream = team.run_stream(task=\"我要打车去虹桥火车站.\")\n",
    "await Console(stream)"
   ]
  }
 ],
 "metadata": {
  "kernelspec": {
   "display_name": ".venv",
   "language": "python",
   "name": "python3"
  },
  "language_info": {
   "codemirror_mode": {
    "name": "ipython",
    "version": 3
   },
   "file_extension": ".py",
   "mimetype": "text/x-python",
   "name": "python",
   "nbconvert_exporter": "python",
   "pygments_lexer": "ipython3",
   "version": "3.12.8"
  }
 },
 "nbformat": 4,
 "nbformat_minor": 2
}
