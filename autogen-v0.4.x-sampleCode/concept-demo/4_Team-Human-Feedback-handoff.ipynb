{
 "cells": [
  {
   "cell_type": "code",
   "execution_count": 4,
   "metadata": {},
   "outputs": [
    {
     "data": {
      "text/plain": [
       "True"
      ]
     },
     "execution_count": 4,
     "metadata": {},
     "output_type": "execute_result"
    }
   ],
   "source": [
    "import os\n",
    "from dotenv import load_dotenv\n",
    "import asyncio\n",
    "\n",
    "from autogen_agentchat.agents import AssistantAgent,UserProxyAgent\n",
    "from autogen_agentchat.base import TaskResult,Handoff\n",
    "from autogen_agentchat.conditions import MaxMessageTermination, TextMentionTermination,HandoffTermination\n",
    "\n",
    "from autogen_agentchat.teams import RoundRobinGroupChat\n",
    "from autogen_agentchat.ui import Console\n",
    "from autogen_ext.models.openai import AzureOpenAIChatCompletionClient\n",
    "\n",
    "\n",
    "# Load environment variables from a .env file\n",
    "load_dotenv(\"/home/azureuser/azure-ai-agent-workshop/.env\")"
   ]
  },
  {
   "cell_type": "code",
   "execution_count": 5,
   "metadata": {},
   "outputs": [],
   "source": [
    "model_client=AzureOpenAIChatCompletionClient(\n",
    "            model=os.getenv(\"AZURE_OPENAI_MODEL\"),\n",
    "            azure_endpoint=os.getenv(\"AZURE_OPENAI_ENDPOINT\"),\n",
    "            api_key=os.getenv(\"AZURE_OPENAI_KEY\"),\n",
    "            azure_deployment=os.getenv(\"AZURE_OPENAI_DEPLOYMENT\"),\n",
    "            api_version=os.getenv(\"AZUER_OPENAI_API_VERSION\")\n",
    "        )"
   ]
  },
  {
   "cell_type": "code",
   "execution_count": 6,
   "metadata": {},
   "outputs": [],
   "source": [
    "# define Agent\n",
    "weather_agent = AssistantAgent(\n",
    "    name=\"weather_agent\",\n",
    "    model_client=model_client,\n",
    "    description=\"一个和用户交互的智能体。\",\n",
    "    system_message=\"不知道答案时，一定要转给用户。任务完成后回复<stop autogenworkshop>\",\n",
    "    handoffs=[Handoff(target=\"user\", message=\"移交给用户。\")],\n",
    ")"
   ]
  },
  {
   "cell_type": "code",
   "execution_count": 7,
   "metadata": {},
   "outputs": [],
   "source": [
    "# Define a termination condition. End the conversation if a specific text is mentioned.\n",
    "text_termination = TextMentionTermination(\"<stop autogenworkshop>\")\n",
    "# Define a termination condition: end the conversation when the Agent sends a HandoffMessage\n",
    "handoff_termination = HandoffTermination(target=\"user\")\n",
    "# Use the `|` operator to combine termination conditions, stopping the task if any condition is met\n",
    "termination = handoff_termination | text_termination"
   ]
  },
  {
   "cell_type": "code",
   "execution_count": 8,
   "metadata": {},
   "outputs": [],
   "source": [
    "# Define Team with type set to RoundRobinGroupChat\n",
    "agent_team = RoundRobinGroupChat(participants=[weather_agent], termination_condition=termination, max_turns=None)\n"
   ]
  },
  {
   "cell_type": "code",
   "execution_count": 9,
   "metadata": {},
   "outputs": [
    {
     "name": "stdout",
     "output_type": "stream",
     "text": [
      "---------- user ----------\n",
      "上海的天气如何?\n"
     ]
    },
    {
     "name": "stdout",
     "output_type": "stream",
     "text": [
      "---------- weather_agent ----------\n",
      "[FunctionCall(id='call_TYfYaP9fJuqETLppuILtKu3g', arguments='{}', name='transfer_to_user')]\n",
      "---------- weather_agent ----------\n",
      "[FunctionExecutionResult(content='移交给用户。', call_id='call_TYfYaP9fJuqETLppuILtKu3g')]\n",
      "---------- weather_agent ----------\n",
      "移交给用户。\n"
     ]
    },
    {
     "data": {
      "text/plain": [
       "TaskResult(messages=[TextMessage(source='user', models_usage=None, content='上海的天气如何?', type='TextMessage'), ToolCallRequestEvent(source='weather_agent', models_usage=RequestUsage(prompt_tokens=64, completion_tokens=11), content=[FunctionCall(id='call_TYfYaP9fJuqETLppuILtKu3g', arguments='{}', name='transfer_to_user')], type='ToolCallRequestEvent'), ToolCallExecutionEvent(source='weather_agent', models_usage=None, content=[FunctionExecutionResult(content='移交给用户。', call_id='call_TYfYaP9fJuqETLppuILtKu3g')], type='ToolCallExecutionEvent'), HandoffMessage(source='weather_agent', models_usage=None, target='user', content='移交给用户。', type='HandoffMessage')], stop_reason='Handoff to user from weather_agent detected.')"
      ]
     },
     "execution_count": 9,
     "metadata": {},
     "output_type": "execute_result"
    }
   ],
   "source": [
    "# Run the team and use the official Console tool to output in the proper format\n",
    "stream = agent_team.run_stream(task=\"上海的天气如何?\")\n",
    "await Console(stream)"
   ]
  },
  {
   "cell_type": "code",
   "execution_count": 10,
   "metadata": {},
   "outputs": [
    {
     "name": "stdout",
     "output_type": "stream",
     "text": [
      "---------- user ----------\n",
      "上海正在下雨,天气很糟糕。\n",
      "---------- weather_agent ----------\n",
      "天气不好时确实会影响心情。希望雨能快点停，天气变好！如果有其他需要了解的，欢迎随时问我。\n",
      "---------- weather_agent ----------\n",
      "[FunctionCall(id='call_MUKhWob8ID8JwhbGhBNY7A9e', arguments='{}', name='transfer_to_user')]\n",
      "---------- weather_agent ----------\n",
      "[FunctionExecutionResult(content='移交给用户。', call_id='call_MUKhWob8ID8JwhbGhBNY7A9e')]\n",
      "---------- weather_agent ----------\n",
      "移交给用户。\n"
     ]
    },
    {
     "data": {
      "text/plain": [
       "TaskResult(messages=[TextMessage(source='user', models_usage=None, content='上海正在下雨,天气很糟糕。', type='TextMessage'), TextMessage(source='weather_agent', models_usage=RequestUsage(prompt_tokens=108, completion_tokens=35), content='天气不好时确实会影响心情。希望雨能快点停，天气变好！如果有其他需要了解的，欢迎随时问我。', type='TextMessage'), ToolCallRequestEvent(source='weather_agent', models_usage=RequestUsage(prompt_tokens=149, completion_tokens=11), content=[FunctionCall(id='call_MUKhWob8ID8JwhbGhBNY7A9e', arguments='{}', name='transfer_to_user')], type='ToolCallRequestEvent'), ToolCallExecutionEvent(source='weather_agent', models_usage=None, content=[FunctionExecutionResult(content='移交给用户。', call_id='call_MUKhWob8ID8JwhbGhBNY7A9e')], type='ToolCallExecutionEvent'), HandoffMessage(source='weather_agent', models_usage=None, target='user', content='移交给用户。', type='HandoffMessage')], stop_reason='Handoff to user from weather_agent detected.')"
      ]
     },
     "execution_count": 10,
     "metadata": {},
     "output_type": "execute_result"
    }
   ],
   "source": [
    "# Run the team and use the official Console tool to output in the proper format\n",
    "stream = agent_team.run_stream(task=\"上海正在下雨,天气很糟糕。\")\n",
    "await Console(stream)"
   ]
  }
 ],
 "metadata": {
  "kernelspec": {
   "display_name": ".venv",
   "language": "python",
   "name": "python3"
  },
  "language_info": {
   "codemirror_mode": {
    "name": "ipython",
    "version": 3
   },
   "file_extension": ".py",
   "mimetype": "text/x-python",
   "name": "python",
   "nbconvert_exporter": "python",
   "pygments_lexer": "ipython3",
   "version": "3.12.8"
  }
 },
 "nbformat": 4,
 "nbformat_minor": 2
}
