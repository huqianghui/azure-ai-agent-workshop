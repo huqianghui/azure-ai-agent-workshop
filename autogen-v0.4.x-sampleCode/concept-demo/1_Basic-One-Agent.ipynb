{
 "cells": [
  {
   "cell_type": "code",
   "execution_count": 2,
   "metadata": {},
   "outputs": [
    {
     "data": {
      "text/plain": [
       "True"
      ]
     },
     "execution_count": 2,
     "metadata": {},
     "output_type": "execute_result"
    }
   ],
   "source": [
    "import os\n",
    "from dotenv import load_dotenv\n",
    "import asyncio\n",
    "\n",
    "from autogen_agentchat.agents import AssistantAgent\n",
    "from autogen_agentchat.base import TaskResult\n",
    "from autogen_agentchat.conditions import TextMentionTermination\n",
    "from autogen_agentchat.teams import RoundRobinGroupChat\n",
    "from autogen_agentchat.ui import Console\n",
    "from autogen_ext.models.openai import AzureOpenAIChatCompletionClient\n",
    "\n",
    "\n",
    "# Load environment variables from a .env file\n",
    "load_dotenv(\"/home/azureuser/azure-ai-agent-workshop/.env\")"
   ]
  },
  {
   "cell_type": "code",
   "execution_count": 3,
   "metadata": {},
   "outputs": [],
   "source": [
    "model_client=AzureOpenAIChatCompletionClient(\n",
    "            model=os.getenv(\"AZURE_OPENAI_MODEL\"),\n",
    "            azure_endpoint=os.getenv(\"AZURE_OPENAI_ENDPOINT\"),\n",
    "            api_key=os.getenv(\"AZURE_OPENAI_KEY\"),\n",
    "            azure_deployment=os.getenv(\"AZURE_OPENAI_DEPLOYMENT\"),\n",
    "            api_version=os.getenv(\"AZUER_OPENAI_API_VERSION\")\n",
    "        )"
   ]
  },
  {
   "cell_type": "code",
   "execution_count": 4,
   "metadata": {},
   "outputs": [],
   "source": [
    "# define Tool\n",
    "async def get_weather(city: str) -> str:\n",
    "    return f\"The weather in {city} is 73 degrees and Sunny.\"\n",
    "\n",
    "# define Agent\n",
    "weather_agent = AssistantAgent(\n",
    "    name=\"weather_agent\",\n",
    "    model_client=model_client,\n",
    "    description=\"一个通过使用工具为用户提供天气信息的智能体。\",\n",
    "    system_message=\"你是一个乐于助人的AI智能助手。擅长使用工具解决任务。任务完成后，回复<stop autogenworkshop>\",\n",
    "    tools=[get_weather],\n",
    ")\n"
   ]
  },
  {
   "cell_type": "code",
   "execution_count": 5,
   "metadata": {},
   "outputs": [],
   "source": [
    "# Define a termination condition. End the conversation if a specific text is mentioned.\n",
    "termination = TextMentionTermination(\"<stop autogenworkshop>\")\n",
    "\n",
    "# Define Team with type set to RoundRobinGroupChat\n",
    "agent_team = RoundRobinGroupChat(participants=[weather_agent], termination_condition=termination, max_turns=3)\n"
   ]
  },
  {
   "cell_type": "code",
   "execution_count": 8,
   "metadata": {},
   "outputs": [
    {
     "name": "stdout",
     "output_type": "stream",
     "text": [
      "TaskResult(messages=[TextMessage(source='user', models_usage=None, content='how about the weather of shanghai?', type='TextMessage'), ToolCallRequestEvent(source='weather_agent', models_usage=RequestUsage(prompt_tokens=282, completion_tokens=14), content=[FunctionCall(id='call_z8plz9kh1ZZmVIlrgohCXiHK', arguments='{\"city\":\"Shanghai\"}', name='get_weather')], type='ToolCallRequestEvent'), ToolCallExecutionEvent(source='weather_agent', models_usage=None, content=[FunctionExecutionResult(content='The weather in Shanghai is 73 degrees and Sunny.', call_id='call_z8plz9kh1ZZmVIlrgohCXiHK')], type='ToolCallExecutionEvent'), ToolCallSummaryMessage(source='weather_agent', models_usage=None, content='The weather in Shanghai is 73 degrees and Sunny.', type='ToolCallSummaryMessage'), TextMessage(source='weather_agent', models_usage=RequestUsage(prompt_tokens=318, completion_tokens=13), content='The weather in Shanghai is currently 73 degrees and sunny.', type='TextMessage'), TextMessage(source='weather_agent', models_usage=RequestUsage(prompt_tokens=337, completion_tokens=13), content='The weather in Shanghai is currently 73 degrees and sunny.', type='TextMessage')], stop_reason='Maximum number of turns 3 reached.')\n"
     ]
    }
   ],
   "source": [
    " # 1、run() method to run the team\n",
    "result = await agent_team.run(task=\"how about the weather of shanghai?\")\n",
    "print(result)"
   ]
  },
  {
   "cell_type": "code",
   "execution_count": 6,
   "metadata": {},
   "outputs": [
    {
     "name": "stdout",
     "output_type": "stream",
     "text": [
      "source='user' models_usage=None content='how about the weather of shanghai?' type='TextMessage'\n",
      "source='weather_agent' models_usage=RequestUsage(prompt_tokens=83, completion_tokens=14) content=[FunctionCall(id='call_kErrHwcmFDsHVN3dogVTth5n', arguments='{\"city\":\"Shanghai\"}', name='get_weather')] type='ToolCallRequestEvent'\n",
      "source='weather_agent' models_usage=None content=[FunctionExecutionResult(content='The weather in Shanghai is 73 degrees and Sunny.', call_id='call_kErrHwcmFDsHVN3dogVTth5n')] type='ToolCallExecutionEvent'\n",
      "source='weather_agent' models_usage=None content='The weather in Shanghai is 73 degrees and Sunny.' type='ToolCallSummaryMessage'\n",
      "source='weather_agent' models_usage=RequestUsage(prompt_tokens=119, completion_tokens=13) content='The weather in Shanghai is currently 73 degrees and sunny.' type='TextMessage'\n",
      "source='weather_agent' models_usage=RequestUsage(prompt_tokens=138, completion_tokens=27) content='天气情况是上海的阳光明媚，气温为73华氏度。\\n\\n<stop autogenworkshop>' type='TextMessage'\n",
      "Stop Reason: Text '<stop autogenworkshop>' mentioned\n"
     ]
    }
   ],
   "source": [
    "# 2、run_stream()metho to run team\n",
    "async for message in agent_team.run_stream(task=\"how about the weather of shanghai?\"):\n",
    "    if isinstance(message, TaskResult):\n",
    "        print(\"Stop Reason:\", message.stop_reason)\n",
    "    else:\n",
    "        print(message)"
   ]
  },
  {
   "cell_type": "code",
   "execution_count": 7,
   "metadata": {},
   "outputs": [
    {
     "name": "stdout",
     "output_type": "stream",
     "text": [
      "---------- user ----------\n",
      "上海的天气如何?\n",
      "---------- weather_agent ----------\n",
      "[FunctionCall(id='call_MpihyYGDRToFj1nioIXMNtYS', arguments='{\"city\":\"上海\"}', name='get_weather')]\n",
      "---------- weather_agent ----------\n",
      "[FunctionExecutionResult(content='The weather in 上海 is 73 degrees and Sunny.', call_id='call_MpihyYGDRToFj1nioIXMNtYS')]\n",
      "---------- weather_agent ----------\n",
      "The weather in 上海 is 73 degrees and Sunny.\n",
      "---------- weather_agent ----------\n",
      "上海的天气现在是73华氏度，并且天气晴朗。\n",
      "---------- weather_agent ----------\n",
      "上海的天气目前为73华氏度，阳光明媚。<stop autogenworkshop>\n"
     ]
    },
    {
     "data": {
      "text/plain": [
       "TaskResult(messages=[TextMessage(source='user', models_usage=None, content='上海的天气如何?', type='TextMessage'), ToolCallRequestEvent(source='weather_agent', models_usage=RequestUsage(prompt_tokens=181, completion_tokens=14), content=[FunctionCall(id='call_MpihyYGDRToFj1nioIXMNtYS', arguments='{\"city\":\"上海\"}', name='get_weather')], type='ToolCallRequestEvent'), ToolCallExecutionEvent(source='weather_agent', models_usage=None, content=[FunctionExecutionResult(content='The weather in 上海 is 73 degrees and Sunny.', call_id='call_MpihyYGDRToFj1nioIXMNtYS')], type='ToolCallExecutionEvent'), ToolCallSummaryMessage(source='weather_agent', models_usage=None, content='The weather in 上海 is 73 degrees and Sunny.', type='ToolCallSummaryMessage'), TextMessage(source='weather_agent', models_usage=RequestUsage(prompt_tokens=217, completion_tokens=16), content='上海的天气现在是73华氏度，并且天气晴朗。', type='TextMessage'), TextMessage(source='weather_agent', models_usage=RequestUsage(prompt_tokens=239, completion_tokens=24), content='上海的天气目前为73华氏度，阳光明媚。<stop autogenworkshop>', type='TextMessage')], stop_reason=\"Text '<stop autogenworkshop>' mentioned\")"
      ]
     },
     "execution_count": 7,
     "metadata": {},
     "output_type": "execute_result"
    }
   ],
   "source": [
    "# Method runs the team and uses the official Console tool to output in the proper format\n",
    "# 3、run_stream()\n",
    "stream = agent_team.run_stream(task=\"上海的天气如何?\")\n",
    "await Console(stream)"
   ]
  }
 ],
 "metadata": {
  "kernelspec": {
   "display_name": ".venv",
   "language": "python",
   "name": "python3"
  },
  "language_info": {
   "codemirror_mode": {
    "name": "ipython",
    "version": 3
   },
   "file_extension": ".py",
   "mimetype": "text/x-python",
   "name": "python",
   "nbconvert_exporter": "python",
   "pygments_lexer": "ipython3",
   "version": "3.12.8"
  }
 },
 "nbformat": 4,
 "nbformat_minor": 2
}
