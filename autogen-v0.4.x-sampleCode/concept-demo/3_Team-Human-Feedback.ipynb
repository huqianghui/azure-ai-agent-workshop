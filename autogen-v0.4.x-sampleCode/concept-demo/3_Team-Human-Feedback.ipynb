{
 "cells": [
  {
   "cell_type": "code",
   "execution_count": 1,
   "metadata": {},
   "outputs": [
    {
     "data": {
      "text/plain": [
       "True"
      ]
     },
     "execution_count": 1,
     "metadata": {},
     "output_type": "execute_result"
    }
   ],
   "source": [
    "import os\n",
    "from dotenv import load_dotenv\n",
    "import asyncio\n",
    "\n",
    "from autogen_agentchat.agents import AssistantAgent,UserProxyAgent\n",
    "from autogen_agentchat.base import TaskResult\n",
    "from autogen_agentchat.conditions import MaxMessageTermination, TextMentionTermination\n",
    "\n",
    "from autogen_agentchat.teams import RoundRobinGroupChat\n",
    "from autogen_agentchat.ui import Console\n",
    "from autogen_ext.models.openai import AzureOpenAIChatCompletionClient\n",
    "\n",
    "\n",
    "# Load environment variables from a .env file\n",
    "load_dotenv(\"/home/azureuser/azure-ai-agent-workshop/.env\")"
   ]
  },
  {
   "cell_type": "code",
   "execution_count": 2,
   "metadata": {},
   "outputs": [],
   "source": [
    "model_client=AzureOpenAIChatCompletionClient(\n",
    "            model=os.getenv(\"AZURE_OPENAI_MODEL\"),\n",
    "            azure_endpoint=os.getenv(\"AZURE_OPENAI_ENDPOINT\"),\n",
    "            api_key=os.getenv(\"AZURE_OPENAI_KEY\"),\n",
    "            azure_deployment=os.getenv(\"AZURE_OPENAI_DEPLOYMENT\"),\n",
    "            api_version=os.getenv(\"AZUER_OPENAI_API_VERSION\")\n",
    "        )"
   ]
  },
  {
   "cell_type": "code",
   "execution_count": 3,
   "metadata": {},
   "outputs": [],
   "source": [
    "# Define a function to simulate user feedback\n",
    "def custom_input(task):\n",
    "    return \"上海正在下雨,天气很糟糕。\""
   ]
  },
  {
   "cell_type": "code",
   "execution_count": 4,
   "metadata": {},
   "outputs": [],
   "source": [
    "# define Agent\n",
    "weather_agent = AssistantAgent(\n",
    "    name=\"weather_agent\",\n",
    "    model_client=model_client,\n",
    "    description=\"一个和用户交互的智能体。\"\n",
    ")\n",
    "\n",
    "# define Agent\n",
    "user_proxy = UserProxyAgent(\n",
    "    name=\"user_proxy\",\n",
    "    input_func=custom_input\n",
    ")"
   ]
  },
  {
   "cell_type": "code",
   "execution_count": 5,
   "metadata": {},
   "outputs": [],
   "source": [
    "# Define a termination condition. End the conversation if a specific text is mentioned.\n",
    "text_termination = TextMentionTermination(\"<stop autogenworkshop>\")\n",
    "# Define a termination condition: stop the task after 5 messages\n",
    "max_message_termination = MaxMessageTermination(4)\n",
    "# Use the `|` operator to combine termination conditions, stopping the task if any condition is met\n",
    "termination = text_termination | max_message_termination"
   ]
  },
  {
   "cell_type": "code",
   "execution_count": 6,
   "metadata": {},
   "outputs": [],
   "source": [
    "# Define Team with type set to RoundRobinGroupChat\n",
    "agent_team = RoundRobinGroupChat(participants=[weather_agent,user_proxy], termination_condition=termination, max_turns=None)\n"
   ]
  },
  {
   "cell_type": "code",
   "execution_count": 7,
   "metadata": {},
   "outputs": [
    {
     "name": "stdout",
     "output_type": "stream",
     "text": [
      "---------- user ----------\n",
      "上海的天气如何?\n"
     ]
    },
    {
     "name": "stdout",
     "output_type": "stream",
     "text": [
      "---------- weather_agent ----------\n",
      "抱歉，我无法提供实时数据或天气信息。不过，您可以通过天气预报网站或应用程序获取上海的最新天气信息。需要我帮您做其他事情吗？\n",
      "---------- user_proxy ----------\n",
      "上海正在下雨,天气很糟糕。\n",
      "---------- weather_agent ----------\n",
      "听起来上海的天气确实不太理想。下雨天可以考虑在室内活动，比如阅读、看电影或做些烹饪。需要我提供一些室内活动的建议吗？\n"
     ]
    },
    {
     "data": {
      "text/plain": [
       "TaskResult(messages=[TextMessage(source='user', models_usage=None, content='上海的天气如何?', type='TextMessage'), TextMessage(source='weather_agent', models_usage=RequestUsage(prompt_tokens=41, completion_tokens=38), content='抱歉，我无法提供实时数据或天气信息。不过，您可以通过天气预报网站或应用程序获取上海的最新天气信息。需要我帮您做其他事情吗？', type='TextMessage'), UserInputRequestedEvent(source='user_proxy', models_usage=None, request_id='db9383a4-d8dd-4cfa-9a31-2398cde7f0af', content='', type='UserInputRequestedEvent'), TextMessage(source='user_proxy', models_usage=None, content='上海正在下雨,天气很糟糕。', type='TextMessage'), TextMessage(source='weather_agent', models_usage=RequestUsage(prompt_tokens=103, completion_tokens=45), content='听起来上海的天气确实不太理想。下雨天可以考虑在室内活动，比如阅读、看电影或做些烹饪。需要我提供一些室内活动的建议吗？', type='TextMessage')], stop_reason='Maximum number of messages 4 reached, current message count: 4')"
      ]
     },
     "execution_count": 7,
     "metadata": {},
     "output_type": "execute_result"
    }
   ],
   "source": [
    "# Run the team and use the official Console tool to output in the proper format\n",
    "stream = agent_team.run_stream(task=\"上海的天气如何?\")\n",
    "await Console(stream)"
   ]
  }
 ],
 "metadata": {
  "kernelspec": {
   "display_name": ".venv",
   "language": "python",
   "name": "python3"
  },
  "language_info": {
   "codemirror_mode": {
    "name": "ipython",
    "version": 3
   },
   "file_extension": ".py",
   "mimetype": "text/x-python",
   "name": "python",
   "nbconvert_exporter": "python",
   "pygments_lexer": "ipython3",
   "version": "3.12.8"
  }
 },
 "nbformat": 4,
 "nbformat_minor": 2
}
