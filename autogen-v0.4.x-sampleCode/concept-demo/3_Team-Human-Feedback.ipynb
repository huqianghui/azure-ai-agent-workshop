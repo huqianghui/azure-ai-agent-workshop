{
 "cells": [
  {
   "cell_type": "code",
   "execution_count": 1,
   "metadata": {},
   "outputs": [
    {
     "data": {
      "text/plain": [
       "True"
      ]
     },
     "execution_count": 1,
     "metadata": {},
     "output_type": "execute_result"
    }
   ],
   "source": [
    "import os\n",
    "from dotenv import load_dotenv\n",
    "import asyncio\n",
    "\n",
    "from autogen_agentchat.agents import AssistantAgent,UserProxyAgent\n",
    "from autogen_agentchat.base import TaskResult\n",
    "from autogen_agentchat.conditions import MaxMessageTermination, TextMentionTermination\n",
    "\n",
    "from autogen_agentchat.teams import RoundRobinGroupChat\n",
    "from autogen_agentchat.ui import Console\n",
    "from autogen_ext.models.openai import AzureOpenAIChatCompletionClient\n",
    "\n",
    "\n",
    "# Load environment variables from a .env file\n",
    "load_dotenv(\"/home/azureuser/azure-ai-agent-workshop/.env\")"
   ]
  },
  {
   "cell_type": "code",
   "execution_count": 2,
   "metadata": {},
   "outputs": [],
   "source": [
    "model_client=AzureOpenAIChatCompletionClient(\n",
    "            model=os.getenv(\"AZURE_OPENAI_MODEL\"),\n",
    "            azure_endpoint=os.getenv(\"AZURE_OPENAI_ENDPOINT\"),\n",
    "            api_key=os.getenv(\"AZURE_OPENAI_KEY\"),\n",
    "            azure_deployment=os.getenv(\"AZURE_OPENAI_DEPLOYMENT\"),\n",
    "            api_version=os.getenv(\"AZUER_OPENAI_API_VERSION\")\n",
    "        )"
   ]
  },
  {
   "cell_type": "code",
   "execution_count": 3,
   "metadata": {},
   "outputs": [],
   "source": [
    "# Define a function to simulate user feedback\n",
    "def custom_input(task):\n",
    "    return \"It is raning in shanghai. I am feeling sad.\""
   ]
  },
  {
   "cell_type": "code",
   "execution_count": 4,
   "metadata": {},
   "outputs": [],
   "source": [
    "# define Agent\n",
    "weather_agent = AssistantAgent(\n",
    "    name=\"weather_agent\",\n",
    "    model_client=model_client,\n",
    "    description=\"an agent with human feedback\"\n",
    ")\n",
    "\n",
    "# define Agent\n",
    "user_proxy = UserProxyAgent(\n",
    "    name=\"user_proxy\",\n",
    "    input_func=custom_input\n",
    ")"
   ]
  },
  {
   "cell_type": "code",
   "execution_count": 5,
   "metadata": {},
   "outputs": [],
   "source": [
    "# Define a termination condition. End the conversation if a specific text is mentioned.\n",
    "text_termination = TextMentionTermination(\"<stop autogenworkshop>\")\n",
    "# Define a termination condition: stop the task after 5 messages\n",
    "max_message_termination = MaxMessageTermination(4)\n",
    "# Use the `|` operator to combine termination conditions, stopping the task if any condition is met\n",
    "termination = text_termination | max_message_termination"
   ]
  },
  {
   "cell_type": "code",
   "execution_count": 6,
   "metadata": {},
   "outputs": [],
   "source": [
    "# Define Team with type set to RoundRobinGroupChat\n",
    "agent_team = RoundRobinGroupChat(participants=[weather_agent,user_proxy], termination_condition=termination, max_turns=None)\n"
   ]
  },
  {
   "cell_type": "code",
   "execution_count": 7,
   "metadata": {},
   "outputs": [
    {
     "name": "stdout",
     "output_type": "stream",
     "text": [
      "---------- user ----------\n",
      "what's weather of Shanghai?\n"
     ]
    },
    {
     "name": "stdout",
     "output_type": "stream",
     "text": [
      "---------- weather_agent ----------\n",
      "I don't have real-time internet access to provide current weather information. However, you can easily check the current weather in Shanghai using a weather website or app. Would you like any other assistance?\n",
      "---------- user_proxy ----------\n",
      "It is raning in shanghai. I am feeling sad.\n",
      "---------- weather_agent ----------\n",
      "I'm sorry to hear that you're feeling sad, especially with the rainy weather. Sometimes gloomy weather can affect our mood. If you’d like, I can suggest some activities to lift your spirits or provide some comforting words. Let me know how I can help!\n"
     ]
    },
    {
     "data": {
      "text/plain": [
       "TaskResult(messages=[TextMessage(source='user', models_usage=None, content=\"what's weather of Shanghai?\", type='TextMessage'), TextMessage(source='weather_agent', models_usage=RequestUsage(prompt_tokens=42, completion_tokens=38), content=\"I don't have real-time internet access to provide current weather information. However, you can easily check the current weather in Shanghai using a weather website or app. Would you like any other assistance?\", type='TextMessage'), UserInputRequestedEvent(source='user_proxy', models_usage=None, request_id='1916aa0d-e423-4135-a456-b419dc8756f4', content='', type='UserInputRequestedEvent'), TextMessage(source='user_proxy', models_usage=None, content='It is raning in shanghai. I am feeling sad.', type='TextMessage'), TextMessage(source='weather_agent', models_usage=RequestUsage(prompt_tokens=106, completion_tokens=51), content=\"I'm sorry to hear that you're feeling sad, especially with the rainy weather. Sometimes gloomy weather can affect our mood. If you’d like, I can suggest some activities to lift your spirits or provide some comforting words. Let me know how I can help!\", type='TextMessage')], stop_reason='Maximum number of messages 4 reached, current message count: 4')"
      ]
     },
     "execution_count": 7,
     "metadata": {},
     "output_type": "execute_result"
    }
   ],
   "source": [
    "# Run the team and use the official Console tool to output in the proper format\n",
    "stream = agent_team.run_stream(task=\"what's weather of Shanghai?\")\n",
    "await Console(stream)"
   ]
  }
 ],
 "metadata": {
  "kernelspec": {
   "display_name": ".venv",
   "language": "python",
   "name": "python3"
  },
  "language_info": {
   "codemirror_mode": {
    "name": "ipython",
    "version": 3
   },
   "file_extension": ".py",
   "mimetype": "text/x-python",
   "name": "python",
   "nbconvert_exporter": "python",
   "pygments_lexer": "ipython3",
   "version": "3.12.8"
  }
 },
 "nbformat": 4,
 "nbformat_minor": 2
}
