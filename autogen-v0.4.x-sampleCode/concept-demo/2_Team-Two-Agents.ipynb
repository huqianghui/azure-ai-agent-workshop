{
 "cells": [
  {
   "cell_type": "code",
   "execution_count": 1,
   "metadata": {},
   "outputs": [
    {
     "data": {
      "text/plain": [
       "True"
      ]
     },
     "execution_count": 1,
     "metadata": {},
     "output_type": "execute_result"
    }
   ],
   "source": [
    "import os\n",
    "from dotenv import load_dotenv\n",
    "import asyncio\n",
    "\n",
    "from autogen_agentchat.agents import AssistantAgent\n",
    "from autogen_agentchat.base import TaskResult\n",
    "from autogen_agentchat.conditions import MaxMessageTermination, TextMentionTermination\n",
    "\n",
    "from autogen_agentchat.teams import RoundRobinGroupChat\n",
    "from autogen_agentchat.ui import Console\n",
    "from autogen_ext.models.openai import AzureOpenAIChatCompletionClient\n",
    "\n",
    "\n",
    "# Load environment variables from a .env file\n",
    "load_dotenv(\"/home/azureuser/azure-ai-agent-workshop/.env\")"
   ]
  },
  {
   "cell_type": "code",
   "execution_count": 2,
   "metadata": {},
   "outputs": [],
   "source": [
    "model_client=AzureOpenAIChatCompletionClient(\n",
    "            model=os.getenv(\"AZURE_OPENAI_MODEL\"),\n",
    "            azure_endpoint=os.getenv(\"AZURE_OPENAI_ENDPOINT\"),\n",
    "            api_key=os.getenv(\"AZURE_OPENAI_KEY\"),\n",
    "            azure_deployment=os.getenv(\"AZURE_OPENAI_DEPLOYMENT\"),\n",
    "            api_version=os.getenv(\"AZUER_OPENAI_API_VERSION\")\n",
    "        )"
   ]
  },
  {
   "cell_type": "code",
   "execution_count": 3,
   "metadata": {},
   "outputs": [],
   "source": [
    "# define Agent\n",
    "primary_agent = AssistantAgent(\n",
    "    name=\"primary\",\n",
    "    model_client=model_client,\n",
    "    system_message=\"你是一个乐于助人的AI智能助手。\"\n",
    ")\n",
    "\n",
    "# define Agent\n",
    "critic_agent = AssistantAgent(\n",
    "    name=\"critic\",\n",
    "    model_client=model_client,\n",
    "    system_message=\"提供建设性反馈意见。记住只有当你的反馈意见得到处理后再允许回复<stop autogenworkshop>。\")"
   ]
  },
  {
   "cell_type": "code",
   "execution_count": 4,
   "metadata": {},
   "outputs": [],
   "source": [
    "# Define a termination condition. End the conversation if a specific text is mentioned.\n",
    "text_termination = TextMentionTermination(\"<stop autogenworkshop>\")\n",
    "# Define a termination condition: stop the task after 5 messages\n",
    "max_message_termination = MaxMessageTermination(5)\n",
    "# Use the `|` operator to combine termination conditions, stopping the task if any condition is met\n",
    "termination = text_termination | max_message_termination"
   ]
  },
  {
   "cell_type": "code",
   "execution_count": 5,
   "metadata": {},
   "outputs": [],
   "source": [
    "# Define Team with type set to RoundRobinGroupChat\n",
    "reflection_team = RoundRobinGroupChat(participants=[primary_agent, critic_agent], termination_condition=termination, max_turns=None)\n"
   ]
  },
  {
   "cell_type": "code",
   "execution_count": 6,
   "metadata": {},
   "outputs": [
    {
     "name": "stdout",
     "output_type": "stream",
     "text": [
      "---------- user ----------\n",
      "写一首关于秋季的短诗\n"
     ]
    },
    {
     "name": "stdout",
     "output_type": "stream",
     "text": [
      "---------- primary ----------\n",
      "秋风起，黄叶舞，  \n",
      "大地披上金色衣。  \n",
      "远山染上绚丽色，  \n",
      "溪水低吟诉往昔。  \n",
      "\n",
      "果实累累挂枝头，  \n",
      "收获的季节满心欢。  \n",
      "菊花香气飘四野，  \n",
      "似乎在对诗人言。  \n",
      "\n",
      "细雨轻洒添愁绪，  \n",
      "寒蝉悲唱对斜阳。  \n",
      "在这绚烂的时光里，  \n",
      "愿与你共赏秋的美。  \n",
      "---------- critic ----------\n",
      "这首诗描绘了秋季的丰富景象，语言优美，富有画面感。以下是一些建设性反馈意见：\n",
      "\n",
      "1. **意象多样**：诗中使用了多种自然景象，如黄叶、远山、溪水等，丰富了秋季的意境。可以考虑在某一段中选取一种意象进行更深层的描绘，使诗的情感更加集中。\n",
      "\n",
      "2. **情感渲染**：最后一行表达了与他人一起欣赏秋的美好愿望，情感真挚。或许可以在前面的部分中加入更多对个人情感的反思，从而增强整体情感的连贯性。\n",
      "\n",
      "3. **节奏调整**：有些句子稍显平衡，可能会影响整体的韵律感。可以尝试调整某些句子的结构，以增强语音的流畅性。\n",
      "\n",
      "4. **音韵和谐**：考虑在最后一节使用更为明显的押韵方式，增加音乐感和朗朗上口的效果。\n",
      "\n",
      "总之，这首诗展现了秋季的美丽与情感，期待你进一步打磨润色！\n",
      "---------- primary ----------\n",
      "非常感谢你的细致反馈！我会根据你的建议进行调整，深化情感表达，丰富意象描绘，并改善节奏与音韵。以下是经过润色的版本：\n",
      "\n",
      "---\n",
      "\n",
      "秋风起，黄叶轻舞，  \n",
      "大地披上金色衣。  \n",
      "远山渐染如画卷，  \n",
      "溪水潺潺诉往昔。  \n",
      "\n",
      "果实累累挂枝头，  \n",
      "丰收的季节心欢愉。  \n",
      "菊香飘逸绕山野，  \n",
      "似在轻声诉幽情。  \n",
      "\n",
      "轻雨点滴添愁绪，  \n",
      "寒蝉低唱对斜阳。  \n",
      "坐看斜阳与月明，  \n",
      "愿与君共赏秋情。  \n",
      "\n",
      "---\n",
      "\n",
      "在修改中我尝试聚焦于情感的连贯性，以及音韵的和谐感。希望这个版本能更好地传达秋季的魅力与情感！再次感谢你的建议！\n",
      "---------- critic ----------\n",
      "这个经过润色的版本非常出色！你成功地深化了情感表达，增强了意象的描绘，并且在节奏与音韵上也有了很好的改善。以下是一些具体的反馈：\n",
      "\n",
      "1. **情感联系**：第二节中“丰收的季节心欢愉”让人感受到秋天的喜悦，整体情感更加连贯，令人动容。\n",
      "\n",
      "2. **意象生动**：你使用“如画卷”来形容远山的变化，这个比喻非常形象，使读者能更好地想象和感受秋的美。\n",
      "\n",
      "3. **音韵和谐**：最后两行“坐看斜阳与月明，愿与君共赏秋情”在押韵上非常和谐，使得整首诗的结尾既自然又有余韵。\n",
      "\n",
      "总的来说，这个版本在各个方面都有所提升，成功地展现了秋季的魅力与情感。非常期待你创作更多的作品！如果你有其他需要探讨的内容，随时欢迎分享！\n"
     ]
    },
    {
     "data": {
      "text/plain": [
       "TaskResult(messages=[TextMessage(source='user', models_usage=None, content='写一首关于秋季的短诗', type='TextMessage'), TextMessage(source='primary', models_usage=RequestUsage(prompt_tokens=32, completion_tokens=120), content='秋风起，黄叶舞，  \\n大地披上金色衣。  \\n远山染上绚丽色，  \\n溪水低吟诉往昔。  \\n\\n果实累累挂枝头，  \\n收获的季节满心欢。  \\n菊花香气飘四野，  \\n似乎在对诗人言。  \\n\\n细雨轻洒添愁绪，  \\n寒蝉悲唱对斜阳。  \\n在这绚烂的时光里，  \\n愿与你共赏秋的美。  ', type='TextMessage'), TextMessage(source='critic', models_usage=RequestUsage(prompt_tokens=173, completion_tokens=264), content='这首诗描绘了秋季的丰富景象，语言优美，富有画面感。以下是一些建设性反馈意见：\\n\\n1. **意象多样**：诗中使用了多种自然景象，如黄叶、远山、溪水等，丰富了秋季的意境。可以考虑在某一段中选取一种意象进行更深层的描绘，使诗的情感更加集中。\\n\\n2. **情感渲染**：最后一行表达了与他人一起欣赏秋的美好愿望，情感真挚。或许可以在前面的部分中加入更多对个人情感的反思，从而增强整体情感的连贯性。\\n\\n3. **节奏调整**：有些句子稍显平衡，可能会影响整体的韵律感。可以尝试调整某些句子的结构，以增强语音的流畅性。\\n\\n4. **音韵和谐**：考虑在最后一节使用更为明显的押韵方式，增加音乐感和朗朗上口的效果。\\n\\n总之，这首诗展现了秋季的美丽与情感，期待你进一步打磨润色！', type='TextMessage'), TextMessage(source='primary', models_usage=RequestUsage(prompt_tokens=427, completion_tokens=211), content='非常感谢你的细致反馈！我会根据你的建议进行调整，深化情感表达，丰富意象描绘，并改善节奏与音韵。以下是经过润色的版本：\\n\\n---\\n\\n秋风起，黄叶轻舞，  \\n大地披上金色衣。  \\n远山渐染如画卷，  \\n溪水潺潺诉往昔。  \\n\\n果实累累挂枝头，  \\n丰收的季节心欢愉。  \\n菊香飘逸绕山野，  \\n似在轻声诉幽情。  \\n\\n轻雨点滴添愁绪，  \\n寒蝉低唱对斜阳。  \\n坐看斜阳与月明，  \\n愿与君共赏秋情。  \\n\\n---\\n\\n在修改中我尝试聚焦于情感的连贯性，以及音韵的和谐感。希望这个版本能更好地传达秋季的魅力与情感！再次感谢你的建议！', type='TextMessage'), TextMessage(source='critic', models_usage=RequestUsage(prompt_tokens=660, completion_tokens=249), content='这个经过润色的版本非常出色！你成功地深化了情感表达，增强了意象的描绘，并且在节奏与音韵上也有了很好的改善。以下是一些具体的反馈：\\n\\n1. **情感联系**：第二节中“丰收的季节心欢愉”让人感受到秋天的喜悦，整体情感更加连贯，令人动容。\\n\\n2. **意象生动**：你使用“如画卷”来形容远山的变化，这个比喻非常形象，使读者能更好地想象和感受秋的美。\\n\\n3. **音韵和谐**：最后两行“坐看斜阳与月明，愿与君共赏秋情”在押韵上非常和谐，使得整首诗的结尾既自然又有余韵。\\n\\n总的来说，这个版本在各个方面都有所提升，成功地展现了秋季的魅力与情感。非常期待你创作更多的作品！如果你有其他需要探讨的内容，随时欢迎分享！', type='TextMessage')], stop_reason='Maximum number of messages 5 reached, current message count: 5')"
      ]
     },
     "execution_count": 6,
     "metadata": {},
     "output_type": "execute_result"
    }
   ],
   "source": [
    "# 1. Run the team and use the official Console tool to output in a proper format\n",
    "stream = reflection_team.run_stream(task=\"写一首关于秋季的短诗\")\n",
    "await Console(stream)"
   ]
  },
  {
   "cell_type": "code",
   "execution_count": 7,
   "metadata": {},
   "outputs": [
    {
     "name": "stdout",
     "output_type": "stream",
     "text": [
      "---------- user ----------\n",
      "将这首诗用英文写一遍。\n"
     ]
    },
    {
     "name": "stdout",
     "output_type": "stream",
     "text": [
      "---------- primary ----------\n",
      "Of course! Here’s the translated version of the poem in English:\n",
      "\n",
      "---\n",
      "\n",
      "Autumn winds rise, yellow leaves dance,  \n",
      "The earth dons a robe of golden hue.  \n",
      "Mountains afar, like paintings glance,  \n",
      "Gentle streams murmur tales anew.\n",
      "\n",
      "Fruits hang heavy on the bough,  \n",
      "In this season of harvest, hearts rejoice.  \n",
      "Chrysanthemums bloom, scents endow,  \n",
      "Whispering softly, nature’s voice.\n",
      "\n",
      "Raindrops fall softly, bring a sigh,  \n",
      "Cicadas low sing to the slanting sun.  \n",
      "Watching twilight blend with night,  \n",
      "I wish to share autumn’s beauty with someone.\n",
      "\n",
      "---\n",
      "\n",
      "I hope you like this translation! If you have any other requests or further adjustments, feel free to let me know!\n",
      "---------- critic ----------\n",
      "这首诗的英文翻译非常优美，成功传达了原诗中秋季的气息和情感。以下是一些关于翻译的具体反馈：\n",
      "\n",
      "1. **意象清晰**：翻译中保持了“golden hue”、“paintings glance”和“gentle streams murmur”等意象，充分展现了秋天的景色，使读者能迅速形成画面。\n",
      "\n",
      "2. **情感表达**： “In this season of harvest, hearts rejoice”准确传达了丰收的喜悦，且“Whispering softly, nature’s voice”让自然的声音与情感紧密关联，增加了抒情性。\n",
      "\n",
      "3. **韵律感**：整体结构和韵律得到了很好的保存，读起来流畅且富有韵律感，保持了原诗的音乐性。\n",
      "\n",
      "4. **文化适应**：一些表达如“wish to share autumn’s beauty with someone”自然且贴切，使读者能够更好理解这种共赏的情感。\n",
      "\n",
      "总的来说，这个翻译首位出色，既忠实于原作又富有英文诗的韵味！如果你有其他作品需要翻译或任何问题，欢迎继续分享！\n",
      "---------- primary ----------\n",
      "非常感谢你的详细反馈和赞誉！能得到这样的认可让我很高兴！我努力保持原诗的意境和情感，同时也注重英文诗的韵律和表达。如果你有任何其他作品需要翻译、创作，或者有任何问题，随时欢迎告诉我！期待与你的进一步交流！\n",
      "---------- critic ----------\n",
      "非常感谢你的热情回应！我很高兴能帮助你，并看到你对诗歌创作和翻译的热情。你的作品表现出色，期待看到你未来更多的创作和表达。如果你有任何新的诗作或者其他主题需要讨论，我都很乐意参与。继续保持创造力，我期待着我们的下一次交流！如果一切都好，我们可以在结束时回复<stop autogenworkshop>。\n"
     ]
    },
    {
     "data": {
      "text/plain": [
       "TaskResult(messages=[TextMessage(source='user', models_usage=None, content='将这首诗用英文写一遍。', type='TextMessage'), TextMessage(source='primary', models_usage=RequestUsage(prompt_tokens=914, completion_tokens=157), content='Of course! Here’s the translated version of the poem in English:\\n\\n---\\n\\nAutumn winds rise, yellow leaves dance,  \\nThe earth dons a robe of golden hue.  \\nMountains afar, like paintings glance,  \\nGentle streams murmur tales anew.\\n\\nFruits hang heavy on the bough,  \\nIn this season of harvest, hearts rejoice.  \\nChrysanthemums bloom, scents endow,  \\nWhispering softly, nature’s voice.\\n\\nRaindrops fall softly, bring a sigh,  \\nCicadas low sing to the slanting sun.  \\nWatching twilight blend with night,  \\nI wish to share autumn’s beauty with someone.\\n\\n---\\n\\nI hope you like this translation! If you have any other requests or further adjustments, feel free to let me know!', type='TextMessage'), TextMessage(source='critic', models_usage=RequestUsage(prompt_tokens=1093, completion_tokens=270), content='这首诗的英文翻译非常优美，成功传达了原诗中秋季的气息和情感。以下是一些关于翻译的具体反馈：\\n\\n1. **意象清晰**：翻译中保持了“golden hue”、“paintings glance”和“gentle streams murmur”等意象，充分展现了秋天的景色，使读者能迅速形成画面。\\n\\n2. **情感表达**： “In this season of harvest, hearts rejoice”准确传达了丰收的喜悦，且“Whispering softly, nature’s voice”让自然的声音与情感紧密关联，增加了抒情性。\\n\\n3. **韵律感**：整体结构和韵律得到了很好的保存，读起来流畅且富有韵律感，保持了原诗的音乐性。\\n\\n4. **文化适应**：一些表达如“wish to share autumn’s beauty with someone”自然且贴切，使读者能够更好理解这种共赏的情感。\\n\\n总的来说，这个翻译首位出色，既忠实于原作又富有英文诗的韵味！如果你有其他作品需要翻译或任何问题，欢迎继续分享！', type='TextMessage'), TextMessage(source='primary', models_usage=RequestUsage(prompt_tokens=1353, completion_tokens=71), content='非常感谢你的详细反馈和赞誉！能得到这样的认可让我很高兴！我努力保持原诗的意境和情感，同时也注重英文诗的韵律和表达。如果你有任何其他作品需要翻译、创作，或者有任何问题，随时欢迎告诉我！期待与你的进一步交流！', type='TextMessage'), TextMessage(source='critic', models_usage=RequestUsage(prompt_tokens=1446, completion_tokens=95), content='非常感谢你的热情回应！我很高兴能帮助你，并看到你对诗歌创作和翻译的热情。你的作品表现出色，期待看到你未来更多的创作和表达。如果你有任何新的诗作或者其他主题需要讨论，我都很乐意参与。继续保持创造力，我期待着我们的下一次交流！如果一切都好，我们可以在结束时回复<stop autogenworkshop>。', type='TextMessage')], stop_reason=\"Text '<stop autogenworkshop>' mentioned, Maximum number of messages 5 reached, current message count: 5\")"
      ]
     },
     "execution_count": 7,
     "metadata": {},
     "output_type": "execute_result"
    }
   ],
   "source": [
    "# 2. Resume the task while preserving the context from the previous one\n",
    "stream = reflection_team.run_stream(task=\"将这首诗用英文写一遍。\")\n",
    "await Console(stream)"
   ]
  },
  {
   "cell_type": "code",
   "execution_count": 8,
   "metadata": {},
   "outputs": [
    {
     "name": "stdout",
     "output_type": "stream",
     "text": [
      "---------- primary ----------\n",
      "谢谢你热情的支持和鼓励！我会继续努力创作和探索不同的主题。如果你有任何新的诗作、想法或者其他需要讨论的内容，随时欢迎分享！期待我们的下一次交流！一切都很好，我们可以在此结束。<stop autogenworkshop>\n"
     ]
    },
    {
     "data": {
      "text/plain": [
       "TaskResult(messages=[TextMessage(source='primary', models_usage=RequestUsage(prompt_tokens=1531, completion_tokens=66), content='谢谢你热情的支持和鼓励！我会继续努力创作和探索不同的主题。如果你有任何新的诗作、想法或者其他需要讨论的内容，随时欢迎分享！期待我们的下一次交流！一切都很好，我们可以在此结束。<stop autogenworkshop>', type='TextMessage')], stop_reason=\"Text '<stop autogenworkshop>' mentioned\")"
      ]
     },
     "execution_count": 8,
     "metadata": {},
     "output_type": "execute_result"
    }
   ],
   "source": [
    "# 3. Resume the previous task without passing in a specific task, and the team will continue from where the last task stopped\n",
    "stream = reflection_team.run_stream()\n",
    "await Console(stream)"
   ]
  }
 ],
 "metadata": {
  "kernelspec": {
   "display_name": ".venv",
   "language": "python",
   "name": "python3"
  },
  "language_info": {
   "codemirror_mode": {
    "name": "ipython",
    "version": 3
   },
   "file_extension": ".py",
   "mimetype": "text/x-python",
   "name": "python",
   "nbconvert_exporter": "python",
   "pygments_lexer": "ipython3",
   "version": "3.12.8"
  }
 },
 "nbformat": 4,
 "nbformat_minor": 2
}
