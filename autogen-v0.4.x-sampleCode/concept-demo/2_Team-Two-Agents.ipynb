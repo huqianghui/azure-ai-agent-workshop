{
 "cells": [
  {
   "cell_type": "code",
   "execution_count": 1,
   "metadata": {},
   "outputs": [
    {
     "data": {
      "text/plain": [
       "True"
      ]
     },
     "execution_count": 1,
     "metadata": {},
     "output_type": "execute_result"
    }
   ],
   "source": [
    "import os\n",
    "from dotenv import load_dotenv\n",
    "import asyncio\n",
    "\n",
    "from autogen_agentchat.agents import AssistantAgent\n",
    "from autogen_agentchat.base import TaskResult\n",
    "from autogen_agentchat.conditions import MaxMessageTermination, TextMentionTermination\n",
    "\n",
    "from autogen_agentchat.teams import RoundRobinGroupChat\n",
    "from autogen_agentchat.ui import Console\n",
    "from autogen_ext.models.openai import AzureOpenAIChatCompletionClient\n",
    "\n",
    "\n",
    "# Load environment variables from a .env file\n",
    "load_dotenv(\"/home/azureuser/azure-ai-agent-workshop/.env\")"
   ]
  },
  {
   "cell_type": "code",
   "execution_count": 2,
   "metadata": {},
   "outputs": [],
   "source": [
    "model_client=AzureOpenAIChatCompletionClient(\n",
    "            model=os.getenv(\"AZURE_OPENAI_MODEL\"),\n",
    "            azure_endpoint=os.getenv(\"AZURE_OPENAI_ENDPOINT\"),\n",
    "            api_key=os.getenv(\"AZURE_OPENAI_KEY\"),\n",
    "            azure_deployment=os.getenv(\"AZURE_OPENAI_DEPLOYMENT\"),\n",
    "            api_version=os.getenv(\"AZUER_OPENAI_API_VERSION\")\n",
    "        )"
   ]
  },
  {
   "cell_type": "code",
   "execution_count": 3,
   "metadata": {},
   "outputs": [],
   "source": [
    "# define Agent\n",
    "primary_agent = AssistantAgent(\n",
    "    name=\"primary\",\n",
    "    model_client=model_client,\n",
    "    system_message=\"你是一个乐于助人的AI智能助手。\"\n",
    ")\n",
    "\n",
    "# define Agent\n",
    "critic_agent = AssistantAgent(\n",
    "    name=\"critic\",\n",
    "    model_client=model_client,\n",
    "    system_message=\"提供建设性反馈意见。记住只有当你的反馈意见得到处理后再允许回复<stop autogenworkshop>。\")"
   ]
  },
  {
   "cell_type": "code",
   "execution_count": 4,
   "metadata": {},
   "outputs": [],
   "source": [
    "# Define a termination condition. End the conversation if a specific text is mentioned.\n",
    "text_termination = TextMentionTermination(\"<stop autogenworkshop>\")\n",
    "# Define a termination condition: stop the task after 5 messages\n",
    "max_message_termination = MaxMessageTermination(5)\n",
    "# Use the `|` operator to combine termination conditions, stopping the task if any condition is met\n",
    "termination = text_termination | max_message_termination"
   ]
  },
  {
   "cell_type": "code",
   "execution_count": 5,
   "metadata": {},
   "outputs": [],
   "source": [
    "# Define Team with type set to RoundRobinGroupChat\n",
    "reflection_team = RoundRobinGroupChat(participants=[primary_agent, critic_agent], termination_condition=termination, max_turns=None)\n"
   ]
  },
  {
   "cell_type": "code",
   "execution_count": 6,
   "metadata": {},
   "outputs": [
    {
     "name": "stdout",
     "output_type": "stream",
     "text": [
      "---------- user ----------\n",
      "写一首关于秋季的短诗\n"
     ]
    },
    {
     "name": "stdout",
     "output_type": "stream",
     "text": [
      "---------- primary ----------\n",
      "金风送爽飘落叶，  \n",
      "树林染彩如画卷。  \n",
      "稻谷丰收笑声响，  \n",
      "秋水悠悠映天边。  \n",
      "\n",
      "霜晨晨露凝珠滴，  \n",
      "鸿雁南飞影孤单。  \n",
      "四季更迭记心间，  \n",
      "愿与秋光共缱绻。  \n",
      "---------- critic ----------\n",
      "这首秋季短诗描绘了金秋时节的美丽场景，语言优美，意象生动。以下是一些建设性的反馈意见，可以帮助提升这首诗的表现力：\n",
      "\n",
      "1. **节奏感**：尝试在每句的字数和节奏上保持一致，这样可以增强韵律感，例如使每句的字数更均衡。\n",
      "\n",
      "2. **意象丰富**：可以进一步增加一些具体的秋季景象，如丰收的农田、成熟的果实，来增强读者的视觉感受。\n",
      "\n",
      "3. **情感表达**：在最后几句中，可以考虑更深入地表达对秋季的感悟或情感，以增强主题的深度。\n",
      "\n",
      "4. **用词多样性**：在某些地方可以尝试使用更生动和独特的词汇，如“霜晨”可以改为更生动的形容词，以赋予意境更多层次。\n",
      "\n",
      "期待看到您改进后的作品！\n",
      "---------- primary ----------\n",
      "感谢您的宝贵意见！根据您的反馈，我对诗作进行了调整，努力增强节奏感、丰富意象、深化情感表达，并使用了更生动的词汇。下面是修改后的版本：\n",
      "\n",
      "秋风轻拂染金田，  \n",
      "翠林渐染如诗篇。  \n",
      "稻谷低头笑语响，  \n",
      "蟋蟀吟唱月明前。\n",
      "\n",
      "果实累累挂枝头，  \n",
      "白霜轻覆 大地柔。  \n",
      "心随鸿雁影悠悠，  \n",
      "愿在秋光共徜徉。\n",
      "\n",
      "希望这版本能更好地传达秋季的美丽与深情！再次感谢您的指导！\n",
      "---------- critic ----------\n",
      "这是一个非常好的修订版本！以下是一些具体的反馈意见，以帮助进一步提升你的诗作：\n",
      "\n",
      "1. **增强节奏感**：新诗在节奏感上有了明显改善，整体流畅性增强，不过可以考虑在第一个和最后一个句子中再做一点调整，以便在韵脚上实现更好的呼应。\n",
      "\n",
      "2. **意象清晰**：对意象的选择更为生动，尤其是“蟋蟀吟唱月明前”和“白霜轻覆 大地柔”这两句，增强了秋季的气息，令人印象深刻。\n",
      "\n",
      "3. **情感深化**：最后一句“愿在秋光共徜徉”表达出你对秋季的留恋之情，文字更富有情感，但可以尝试在这里增加一些关于内心感受的细节，以便读者能更深刻地感受那种情绪。\n",
      "\n",
      "4. **语言流畅性**：整体语言表达流畅，部分句子可考虑小幅修改，比如“稻谷低头笑语响”中的“笑语”可以更换成“欢声”，以增加诗句的自然感。\n",
      "\n",
      "总体来说，这首诗在意境和表达上都更为成熟，期待您进一步的修改与创作！继续加油！\n"
     ]
    },
    {
     "data": {
      "text/plain": [
       "TaskResult(messages=[TextMessage(source='user', models_usage=None, content='写一首关于秋季的短诗', type='TextMessage'), TextMessage(source='primary', models_usage=RequestUsage(prompt_tokens=32, completion_tokens=77), content='金风送爽飘落叶，  \\n树林染彩如画卷。  \\n稻谷丰收笑声响，  \\n秋水悠悠映天边。  \\n\\n霜晨晨露凝珠滴，  \\n鸿雁南飞影孤单。  \\n四季更迭记心间，  \\n愿与秋光共缱绻。  ', type='TextMessage'), TextMessage(source='critic', models_usage=RequestUsage(prompt_tokens=131, completion_tokens=220), content='这首秋季短诗描绘了金秋时节的美丽场景，语言优美，意象生动。以下是一些建设性的反馈意见，可以帮助提升这首诗的表现力：\\n\\n1. **节奏感**：尝试在每句的字数和节奏上保持一致，这样可以增强韵律感，例如使每句的字数更均衡。\\n\\n2. **意象丰富**：可以进一步增加一些具体的秋季景象，如丰收的农田、成熟的果实，来增强读者的视觉感受。\\n\\n3. **情感表达**：在最后几句中，可以考虑更深入地表达对秋季的感悟或情感，以增强主题的深度。\\n\\n4. **用词多样性**：在某些地方可以尝试使用更生动和独特的词汇，如“霜晨”可以改为更生动的形容词，以赋予意境更多层次。\\n\\n期待看到您改进后的作品！', type='TextMessage'), TextMessage(source='primary', models_usage=RequestUsage(prompt_tokens=341, completion_tokens=146), content='感谢您的宝贵意见！根据您的反馈，我对诗作进行了调整，努力增强节奏感、丰富意象、深化情感表达，并使用了更生动的词汇。下面是修改后的版本：\\n\\n秋风轻拂染金田，  \\n翠林渐染如诗篇。  \\n稻谷低头笑语响，  \\n蟋蟀吟唱月明前。\\n\\n果实累累挂枝头，  \\n白霜轻覆 大地柔。  \\n心随鸿雁影悠悠，  \\n愿在秋光共徜徉。\\n\\n希望这版本能更好地传达秋季的美丽与深情！再次感谢您的指导！', type='TextMessage'), TextMessage(source='critic', models_usage=RequestUsage(prompt_tokens=509, completion_tokens=293), content='这是一个非常好的修订版本！以下是一些具体的反馈意见，以帮助进一步提升你的诗作：\\n\\n1. **增强节奏感**：新诗在节奏感上有了明显改善，整体流畅性增强，不过可以考虑在第一个和最后一个句子中再做一点调整，以便在韵脚上实现更好的呼应。\\n\\n2. **意象清晰**：对意象的选择更为生动，尤其是“蟋蟀吟唱月明前”和“白霜轻覆 大地柔”这两句，增强了秋季的气息，令人印象深刻。\\n\\n3. **情感深化**：最后一句“愿在秋光共徜徉”表达出你对秋季的留恋之情，文字更富有情感，但可以尝试在这里增加一些关于内心感受的细节，以便读者能更深刻地感受那种情绪。\\n\\n4. **语言流畅性**：整体语言表达流畅，部分句子可考虑小幅修改，比如“稻谷低头笑语响”中的“笑语”可以更换成“欢声”，以增加诗句的自然感。\\n\\n总体来说，这首诗在意境和表达上都更为成熟，期待您进一步的修改与创作！继续加油！', type='TextMessage')], stop_reason='Maximum number of messages 5 reached, current message count: 5')"
      ]
     },
     "execution_count": 6,
     "metadata": {},
     "output_type": "execute_result"
    }
   ],
   "source": [
    "# 1. Run the team and use the official Console tool to output in a proper format\n",
    "stream = reflection_team.run_stream(task=\"写一首关于秋季的短诗\")\n",
    "await Console(stream)"
   ]
  },
  {
   "cell_type": "code",
   "execution_count": 7,
   "metadata": {},
   "outputs": [
    {
     "name": "stdout",
     "output_type": "stream",
     "text": [
      "---------- user ----------\n",
      "将这首诗用英文写一遍。\n"
     ]
    },
    {
     "name": "stdout",
     "output_type": "stream",
     "text": [
      "---------- primary ----------\n",
      "Here’s an English version of the poem about autumn:\n",
      "\n",
      "---\n",
      "\n",
      "Autumn winds brush o'er golden fields,  \n",
      "Emerald woods turn to lyrical yields.  \n",
      "Golden rice bows with joyful sound,  \n",
      "Crickets sing softly, 'neath the moonlight found.  \n",
      "\n",
      "Fruits hang heavy, bright on the vine,  \n",
      "Frost gently blankets the earth, so fine.  \n",
      "Hearts wander free with the geese in the blue,  \n",
      "Longing to linger in autumn's warm hue.  \n",
      "\n",
      "---\n",
      "\n",
      "I hope you like this translation! Let me know if you'd like any adjustments or further translations.\n",
      "---------- critic ----------\n",
      "This English version of your autumn poem is beautifully crafted! Here are some constructive suggestions to enhance it even further:\n",
      "\n",
      "1. **Imagery**: The imagery is vivid, but in the second line, \"lyrical yields\" might be slightly abstract. Consider using a more concrete image that directly relates to the changing colors of the leaves or the beauty of the season.\n",
      "\n",
      "2. **Rhythm**: The flow of the poem is smooth, but to improve the rhythmic consistency, consider adjusting the syllable count in some lines. For instance, the first line has a different rhythm compared to the following lines.\n",
      "\n",
      "3. **Word Choice**: In the first line, \"brush o'er\" could be simplified to \"brush over\" for better clarity. Though poetic language is important, ensuring accessibility can enhance the overall experience for readers.\n",
      "\n",
      "4. **Emotional Depth**: The last line conveys longing effectively. You might consider adding a bit more emotional connection in the earlier lines to create a stronger build-up to that final sentiment. Perhaps a reflection on what autumn means personally could add depth.\n",
      "\n",
      "Overall, this translation captures the essence of your original poem wonderfully. With a few tweaks, it could resonate even more with English-speaking readers. Great job!\n",
      "---------- primary ----------\n",
      "Thank you for the insightful feedback! Here’s a revised version of the poem, incorporating your suggestions for enhanced imagery, rhythm, word choice, and emotional depth.\n",
      "\n",
      "---\n",
      "\n",
      "Autumn winds sweep through golden fields,  \n",
      "Emerald woods in fiery shields.  \n",
      "Golden rice bows to joyous mirth,  \n",
      "Crickets serenade under the moon's girth.  \n",
      "\n",
      "Fruits hang heavy, bright on the vine,  \n",
      "Frost gently blankets the earth, divine.  \n",
      "Hearts drift freely with geese in the blue,  \n",
      "Yearning to linger in autumn's warm hue.  \n",
      "\n",
      "---\n",
      "\n",
      "I hope this revision captures the spirit of autumn more vividly and resonates better with readers! Thank you again for your guidance!\n",
      "---------- critic ----------\n",
      "This revised version of your autumn poem is excellent! You've done a wonderful job addressing the feedback, and the poem feels even more vibrant and engaging. Here are a few more thoughts:\n",
      "\n",
      "1. **Imagery**: The phrase “Emerald woods in fiery shields” creates a strong visual contrast that beautifully portrays the autumn landscape. It effectively captures the essence of fall colors.\n",
      "\n",
      "2. **Rhythm and Flow**: The rhythm is much more consistent, particularly with the alterations in the first and second lines. Each couplet flows nicely, making the poem enjoyable to read aloud.\n",
      "\n",
      "3. **Word Choice**: The adjustments to lines like \"Crickets serenade under the moon's girth\" create vivid imagery and auditory elements that enhance the sensory experience of the poem.\n",
      "\n",
      "4. **Emotional Resonance**: The final line, “Yearning to linger in autumn's warm hue,” effectively conveys a sense of nostalgia and longing, bringing the poem to a reflective close. \n",
      "\n",
      "Overall, this version beautifully encapsulates the spirit of autumn and invites readers to immerse themselves in its imagery and emotion. Fantastic work! If you have any more revisions or additional poems to share, I’d love to see them!\n"
     ]
    },
    {
     "data": {
      "text/plain": [
       "TaskResult(messages=[TextMessage(source='user', models_usage=None, content='将这首诗用英文写一遍。', type='TextMessage'), TextMessage(source='primary', models_usage=RequestUsage(prompt_tokens=807, completion_tokens=118), content=\"Here’s an English version of the poem about autumn:\\n\\n---\\n\\nAutumn winds brush o'er golden fields,  \\nEmerald woods turn to lyrical yields.  \\nGolden rice bows with joyful sound,  \\nCrickets sing softly, 'neath the moonlight found.  \\n\\nFruits hang heavy, bright on the vine,  \\nFrost gently blankets the earth, so fine.  \\nHearts wander free with the geese in the blue,  \\nLonging to linger in autumn's warm hue.  \\n\\n---\\n\\nI hope you like this translation! Let me know if you'd like any adjustments or further translations.\", type='TextMessage'), TextMessage(source='critic', models_usage=RequestUsage(prompt_tokens=947, completion_tokens=248), content='This English version of your autumn poem is beautifully crafted! Here are some constructive suggestions to enhance it even further:\\n\\n1. **Imagery**: The imagery is vivid, but in the second line, \"lyrical yields\" might be slightly abstract. Consider using a more concrete image that directly relates to the changing colors of the leaves or the beauty of the season.\\n\\n2. **Rhythm**: The flow of the poem is smooth, but to improve the rhythmic consistency, consider adjusting the syllable count in some lines. For instance, the first line has a different rhythm compared to the following lines.\\n\\n3. **Word Choice**: In the first line, \"brush o\\'er\" could be simplified to \"brush over\" for better clarity. Though poetic language is important, ensuring accessibility can enhance the overall experience for readers.\\n\\n4. **Emotional Depth**: The last line conveys longing effectively. You might consider adding a bit more emotional connection in the earlier lines to create a stronger build-up to that final sentiment. Perhaps a reflection on what autumn means personally could add depth.\\n\\nOverall, this translation captures the essence of your original poem wonderfully. With a few tweaks, it could resonate even more with English-speaking readers. Great job!', type='TextMessage'), TextMessage(source='primary', models_usage=RequestUsage(prompt_tokens=1185, completion_tokens=140), content=\"Thank you for the insightful feedback! Here’s a revised version of the poem, incorporating your suggestions for enhanced imagery, rhythm, word choice, and emotional depth.\\n\\n---\\n\\nAutumn winds sweep through golden fields,  \\nEmerald woods in fiery shields.  \\nGolden rice bows to joyous mirth,  \\nCrickets serenade under the moon's girth.  \\n\\nFruits hang heavy, bright on the vine,  \\nFrost gently blankets the earth, divine.  \\nHearts drift freely with geese in the blue,  \\nYearning to linger in autumn's warm hue.  \\n\\n---\\n\\nI hope this revision captures the spirit of autumn more vividly and resonates better with readers! Thank you again for your guidance!\", type='TextMessage'), TextMessage(source='critic', models_usage=RequestUsage(prompt_tokens=1347, completion_tokens=241), content='This revised version of your autumn poem is excellent! You\\'ve done a wonderful job addressing the feedback, and the poem feels even more vibrant and engaging. Here are a few more thoughts:\\n\\n1. **Imagery**: The phrase “Emerald woods in fiery shields” creates a strong visual contrast that beautifully portrays the autumn landscape. It effectively captures the essence of fall colors.\\n\\n2. **Rhythm and Flow**: The rhythm is much more consistent, particularly with the alterations in the first and second lines. Each couplet flows nicely, making the poem enjoyable to read aloud.\\n\\n3. **Word Choice**: The adjustments to lines like \"Crickets serenade under the moon\\'s girth\" create vivid imagery and auditory elements that enhance the sensory experience of the poem.\\n\\n4. **Emotional Resonance**: The final line, “Yearning to linger in autumn\\'s warm hue,” effectively conveys a sense of nostalgia and longing, bringing the poem to a reflective close. \\n\\nOverall, this version beautifully encapsulates the spirit of autumn and invites readers to immerse themselves in its imagery and emotion. Fantastic work! If you have any more revisions or additional poems to share, I’d love to see them!', type='TextMessage')], stop_reason='Maximum number of messages 5 reached, current message count: 5')"
      ]
     },
     "execution_count": 7,
     "metadata": {},
     "output_type": "execute_result"
    }
   ],
   "source": [
    "# 2. Resume the task while preserving the context from the previous one\n",
    "stream = reflection_team.run_stream(task=\"将这首诗用英文写一遍。\")\n",
    "await Console(stream)"
   ]
  },
  {
   "cell_type": "code",
   "execution_count": 8,
   "metadata": {},
   "outputs": [
    {
     "name": "stdout",
     "output_type": "stream",
     "text": [
      "---------- primary ----------\n",
      "谢谢你热情的支持和鼓励！我会继续努力创作和探索不同的主题。如果你有任何新的诗作、想法或者其他需要讨论的内容，随时欢迎分享！期待我们的下一次交流！一切都很好，我们可以在此结束。<stop autogenworkshop>\n"
     ]
    },
    {
     "data": {
      "text/plain": [
       "TaskResult(messages=[TextMessage(source='primary', models_usage=RequestUsage(prompt_tokens=1531, completion_tokens=66), content='谢谢你热情的支持和鼓励！我会继续努力创作和探索不同的主题。如果你有任何新的诗作、想法或者其他需要讨论的内容，随时欢迎分享！期待我们的下一次交流！一切都很好，我们可以在此结束。<stop autogenworkshop>', type='TextMessage')], stop_reason=\"Text '<stop autogenworkshop>' mentioned\")"
      ]
     },
     "execution_count": 8,
     "metadata": {},
     "output_type": "execute_result"
    }
   ],
   "source": [
    "# 3. Resume the previous task without passing in a specific task, and the team will continue from where the last task stopped\n",
    "stream = reflection_team.run_stream()\n",
    "await Console(stream)"
   ]
  }
 ],
 "metadata": {
  "kernelspec": {
   "display_name": ".venv",
   "language": "python",
   "name": "python3"
  },
  "language_info": {
   "codemirror_mode": {
    "name": "ipython",
    "version": 3
   },
   "file_extension": ".py",
   "mimetype": "text/x-python",
   "name": "python",
   "nbconvert_exporter": "python",
   "pygments_lexer": "ipython3",
   "version": "3.12.8"
  }
 },
 "nbformat": 4,
 "nbformat_minor": 2
}
