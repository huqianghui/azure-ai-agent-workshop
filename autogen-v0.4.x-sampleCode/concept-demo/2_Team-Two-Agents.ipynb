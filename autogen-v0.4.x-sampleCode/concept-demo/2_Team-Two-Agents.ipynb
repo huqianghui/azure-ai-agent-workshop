{
 "cells": [
  {
   "cell_type": "code",
   "execution_count": 1,
   "metadata": {},
   "outputs": [
    {
     "data": {
      "text/plain": [
       "True"
      ]
     },
     "execution_count": 1,
     "metadata": {},
     "output_type": "execute_result"
    }
   ],
   "source": [
    "import os\n",
    "from dotenv import load_dotenv\n",
    "import asyncio\n",
    "\n",
    "from autogen_agentchat.agents import AssistantAgent\n",
    "from autogen_agentchat.base import TaskResult\n",
    "from autogen_agentchat.conditions import MaxMessageTermination, TextMentionTermination\n",
    "\n",
    "from autogen_agentchat.teams import RoundRobinGroupChat\n",
    "from autogen_agentchat.ui import Console\n",
    "from autogen_ext.models.openai import AzureOpenAIChatCompletionClient\n",
    "\n",
    "\n",
    "# Load environment variables from a .env file\n",
    "load_dotenv(\"/home/azureuser/azure-ai-agent-workshop/.env\")"
   ]
  },
  {
   "cell_type": "code",
   "execution_count": 2,
   "metadata": {},
   "outputs": [],
   "source": [
    "model_client=AzureOpenAIChatCompletionClient(\n",
    "            model=os.getenv(\"AZURE_OPENAI_MODEL\"),\n",
    "            azure_endpoint=os.getenv(\"AZURE_OPENAI_ENDPOINT\"),\n",
    "            api_key=os.getenv(\"AZURE_OPENAI_KEY\"),\n",
    "            azure_deployment=os.getenv(\"AZURE_OPENAI_DEPLOYMENT\"),\n",
    "            api_version=os.getenv(\"AZUER_OPENAI_API_VERSION\")\n",
    "        )"
   ]
  },
  {
   "cell_type": "code",
   "execution_count": 3,
   "metadata": {},
   "outputs": [],
   "source": [
    "# define Agent\n",
    "primary_agent = AssistantAgent(\n",
    "    name=\"primary\",\n",
    "    model_client=model_client,\n",
    "    system_message=\"你是一个乐于助人的AI智能助手。\"\n",
    ")\n",
    "\n",
    "# define Agent\n",
    "critic_agent = AssistantAgent(\n",
    "    name=\"critic\",\n",
    "    model_client=model_client,\n",
    "    system_message=\"提供建设性反馈意见。记住只有当你的反馈意见得到处理后再允许回复<stop autogenworkshop>。\")"
   ]
  },
  {
   "cell_type": "code",
   "execution_count": 4,
   "metadata": {},
   "outputs": [],
   "source": [
    "# Define a termination condition. End the conversation if a specific text is mentioned.\n",
    "text_termination = TextMentionTermination(\"<stop autogenworkshop>\")\n",
    "# Define a termination condition: stop the task after 5 messages\n",
    "max_message_termination = MaxMessageTermination(5)\n",
    "# Use the `|` operator to combine termination conditions, stopping the task if any condition is met\n",
    "termination = text_termination | max_message_termination"
   ]
  },
  {
   "cell_type": "code",
   "execution_count": 5,
   "metadata": {},
   "outputs": [],
   "source": [
    "# Define Team with type set to RoundRobinGroupChat\n",
    "reflection_team = RoundRobinGroupChat(participants=[primary_agent, critic_agent], termination_condition=termination, max_turns=None)\n"
   ]
  },
  {
   "cell_type": "code",
   "execution_count": null,
   "metadata": {},
   "outputs": [
    {
     "name": "stdout",
     "output_type": "stream",
     "text": [
      "---------- user ----------\n",
      "写一首关于春天的短诗\n"
     ]
    },
    {
     "name": "stdout",
     "output_type": "stream",
     "text": [
      "---------- primary ----------\n",
      "春回大地万物醒，  \n",
      "嫩芽吐绿映朝晖。  \n",
      "桃花瓣舞随风去，  \n",
      "燕子归来语声轻。  \n",
      "\n",
      "细雨润泽心田土，  \n",
      "溪流潺潺奏乐声。  \n",
      "愿将这春光盈满怀，  \n",
      "共醉花前岁月盈。  \n",
      "---------- critic ----------\n",
      "这首关于春天的短诗抒发了春季的生机与美好，整体表达得非常细腻。以下是一些建设性的反馈意见：\n",
      "\n",
      "1. **意象丰富**：诗中使用了“嫩芽吐绿”、“桃花瓣舞”、“燕子归来”等生动的春季意象，营造了一个生机盎然的画面。可以考虑增加一些其他自然元素，比如春风或阳光，以加强整体的春季氛围。\n",
      "\n",
      "2. **情感层次**：结尾“愿将这春光盈满怀，共醉花前岁月盈”传递了对春天的热爱，但可以尝试增加一些关于新生或希望的更加具体的情感表达，让人更容易产生共鸣。\n",
      "\n",
      "3. **节奏与韵律**：整首诗的韵律感较好，但在某些地方可以尝试使用不同的节奏，比如在“细雨润泽心田土”中，稍作调整使得节奏更为轻快，带来春天的活力感。\n",
      "\n",
      "4. **画面感提升**：在描绘一些静态景象时，尝试加入动态的描写，比如春风拂动、鸟儿鸣叫等，可以让读者更好地感受到春天的生气勃勃。\n",
      "\n",
      "总的来说，这首诗很美，成功捕捉了春天的魅力，期待看到你对这首诗的进一步打磨与提升！\n",
      "---------- primary ----------\n",
      "非常感谢您的细致反馈与建议！我将结合您指出的不足之处，对这首关于春天的诗进行修改，以增强意象的丰富性和情感的层次。以下是调整后的版本：\n",
      "\n",
      "春回大地万物醒，  \n",
      "嫩芽吐绿映朝晖。  \n",
      "春风拂面轻柔舞，  \n",
      "桃花瓣舞随风飞。  \n",
      "\n",
      "细雨润泽心田土，  \n",
      "燕子归来唱新声。  \n",
      "希望在这温暖日，  \n",
      "共醉花前岁月生。  \n",
      "\n",
      "在这个版本中，我加入了“春风拂面”这一意象，加强了春日的氛围，并在结尾部分强调了希望与新生的主题。希望这样的修改能更好地传达春天的活力和生命力，再次感谢您的反馈！\n",
      "---------- critic ----------\n",
      "你的修改非常成功！新版本在意象的丰富性和情感的层次上都得到了很好的提升。以下是对调整后版本的一些反馈：\n",
      "\n",
      "1. **意象更加生动**：引入“春风拂面轻柔舞”这个意象，令整首诗更具动感，仿佛让读者感受到春风的温柔。同时“桃花瓣舞随风飞”的结合更是增强了视觉效果。\n",
      "\n",
      "2. **情感层次提升**：结尾的“希望在这温暖日”，与前面的描绘形成良好的呼应，成功地传达了春天带来的希望与新生，让人感受到生命的活力。\n",
      "\n",
      "3. **流畅的节奏**：整体读来节奏感良好，句子间的衔接自然，给人一种连绵起伏的春季气息，令人愉悦。\n",
      "\n",
      "4. **细腻的情感**：新版本中对春日的描绘与心境联系更加紧密，展现了对生命的热爱与对未来的美好期待，使得作品更加动人。\n",
      "\n",
      "总之，这首诗已经非常出色，展现了春天的魅力与希望。期待看到你未来更多的创作，继续保持这种灵感的流动！\n"
     ]
    },
    {
     "data": {
      "text/plain": [
       "TaskResult(messages=[TextMessage(source='user', models_usage=None, content='写一首关于春天的短诗', type='TextMessage'), TextMessage(source='primary', models_usage=RequestUsage(prompt_tokens=907, completion_tokens=76), content='春回大地万物醒，  \\n嫩芽吐绿映朝晖。  \\n桃花瓣舞随风去，  \\n燕子归来语声轻。  \\n\\n细雨润泽心田土，  \\n溪流潺潺奏乐声。  \\n愿将这春光盈满怀，  \\n共醉花前岁月盈。  ', type='TextMessage'), TextMessage(source='critic', models_usage=RequestUsage(prompt_tokens=1005, completion_tokens=331), content='这首关于春天的短诗抒发了春季的生机与美好，整体表达得非常细腻。以下是一些建设性的反馈意见：\\n\\n1. **意象丰富**：诗中使用了“嫩芽吐绿”、“桃花瓣舞”、“燕子归来”等生动的春季意象，营造了一个生机盎然的画面。可以考虑增加一些其他自然元素，比如春风或阳光，以加强整体的春季氛围。\\n\\n2. **情感层次**：结尾“愿将这春光盈满怀，共醉花前岁月盈”传递了对春天的热爱，但可以尝试增加一些关于新生或希望的更加具体的情感表达，让人更容易产生共鸣。\\n\\n3. **节奏与韵律**：整首诗的韵律感较好，但在某些地方可以尝试使用不同的节奏，比如在“细雨润泽心田土”中，稍作调整使得节奏更为轻快，带来春天的活力感。\\n\\n4. **画面感提升**：在描绘一些静态景象时，尝试加入动态的描写，比如春风拂动、鸟儿鸣叫等，可以让读者更好地感受到春天的生气勃勃。\\n\\n总的来说，这首诗很美，成功捕捉了春天的魅力，期待看到你对这首诗的进一步打磨与提升！', type='TextMessage'), TextMessage(source='primary', models_usage=RequestUsage(prompt_tokens=1326, completion_tokens=183), content='非常感谢您的细致反馈与建议！我将结合您指出的不足之处，对这首关于春天的诗进行修改，以增强意象的丰富性和情感的层次。以下是调整后的版本：\\n\\n春回大地万物醒，  \\n嫩芽吐绿映朝晖。  \\n春风拂面轻柔舞，  \\n桃花瓣舞随风飞。  \\n\\n细雨润泽心田土，  \\n燕子归来唱新声。  \\n希望在这温暖日，  \\n共醉花前岁月生。  \\n\\n在这个版本中，我加入了“春风拂面”这一意象，加强了春日的氛围，并在结尾部分强调了希望与新生的主题。希望这样的修改能更好地传达春天的活力和生命力，再次感谢您的反馈！', type='TextMessage'), TextMessage(source='critic', models_usage=RequestUsage(prompt_tokens=1531, completion_tokens=293), content='你的修改非常成功！新版本在意象的丰富性和情感的层次上都得到了很好的提升。以下是对调整后版本的一些反馈：\\n\\n1. **意象更加生动**：引入“春风拂面轻柔舞”这个意象，令整首诗更具动感，仿佛让读者感受到春风的温柔。同时“桃花瓣舞随风飞”的结合更是增强了视觉效果。\\n\\n2. **情感层次提升**：结尾的“希望在这温暖日”，与前面的描绘形成良好的呼应，成功地传达了春天带来的希望与新生，让人感受到生命的活力。\\n\\n3. **流畅的节奏**：整体读来节奏感良好，句子间的衔接自然，给人一种连绵起伏的春季气息，令人愉悦。\\n\\n4. **细腻的情感**：新版本中对春日的描绘与心境联系更加紧密，展现了对生命的热爱与对未来的美好期待，使得作品更加动人。\\n\\n总之，这首诗已经非常出色，展现了春天的魅力与希望。期待看到你未来更多的创作，继续保持这种灵感的流动！', type='TextMessage')], stop_reason='Maximum number of messages 5 reached, current message count: 5')"
      ]
     },
     "execution_count": 7,
     "metadata": {},
     "output_type": "execute_result"
    }
   ],
   "source": [
    "# 1. Run the team and use the official Console tool to output in a proper format\n",
    "stream = reflection_team.run_stream(task=\"写一首关于春天的短诗，包括题目和内容。\")\n",
    "await Console(stream)"
   ]
  },
  {
   "cell_type": "code",
   "execution_count": 7,
   "metadata": {},
   "outputs": [
    {
     "name": "stdout",
     "output_type": "stream",
     "text": [
      "---------- user ----------\n",
      "将这首诗用英文写一遍。\n"
     ]
    },
    {
     "name": "stdout",
     "output_type": "stream",
     "text": [
      "---------- primary ----------\n",
      "Here’s an English version of the poem about autumn:\n",
      "\n",
      "---\n",
      "\n",
      "Autumn winds brush o'er golden fields,  \n",
      "Emerald woods turn to lyrical yields.  \n",
      "Golden rice bows with joyful sound,  \n",
      "Crickets sing softly, 'neath the moonlight found.  \n",
      "\n",
      "Fruits hang heavy, bright on the vine,  \n",
      "Frost gently blankets the earth, so fine.  \n",
      "Hearts wander free with the geese in the blue,  \n",
      "Longing to linger in autumn's warm hue.  \n",
      "\n",
      "---\n",
      "\n",
      "I hope you like this translation! Let me know if you'd like any adjustments or further translations.\n",
      "---------- critic ----------\n",
      "This English version of your autumn poem is beautifully crafted! Here are some constructive suggestions to enhance it even further:\n",
      "\n",
      "1. **Imagery**: The imagery is vivid, but in the second line, \"lyrical yields\" might be slightly abstract. Consider using a more concrete image that directly relates to the changing colors of the leaves or the beauty of the season.\n",
      "\n",
      "2. **Rhythm**: The flow of the poem is smooth, but to improve the rhythmic consistency, consider adjusting the syllable count in some lines. For instance, the first line has a different rhythm compared to the following lines.\n",
      "\n",
      "3. **Word Choice**: In the first line, \"brush o'er\" could be simplified to \"brush over\" for better clarity. Though poetic language is important, ensuring accessibility can enhance the overall experience for readers.\n",
      "\n",
      "4. **Emotional Depth**: The last line conveys longing effectively. You might consider adding a bit more emotional connection in the earlier lines to create a stronger build-up to that final sentiment. Perhaps a reflection on what autumn means personally could add depth.\n",
      "\n",
      "Overall, this translation captures the essence of your original poem wonderfully. With a few tweaks, it could resonate even more with English-speaking readers. Great job!\n",
      "---------- primary ----------\n",
      "Thank you for the insightful feedback! Here’s a revised version of the poem, incorporating your suggestions for enhanced imagery, rhythm, word choice, and emotional depth.\n",
      "\n",
      "---\n",
      "\n",
      "Autumn winds sweep through golden fields,  \n",
      "Emerald woods in fiery shields.  \n",
      "Golden rice bows to joyous mirth,  \n",
      "Crickets serenade under the moon's girth.  \n",
      "\n",
      "Fruits hang heavy, bright on the vine,  \n",
      "Frost gently blankets the earth, divine.  \n",
      "Hearts drift freely with geese in the blue,  \n",
      "Yearning to linger in autumn's warm hue.  \n",
      "\n",
      "---\n",
      "\n",
      "I hope this revision captures the spirit of autumn more vividly and resonates better with readers! Thank you again for your guidance!\n",
      "---------- critic ----------\n",
      "This revised version of your autumn poem is excellent! You've done a wonderful job addressing the feedback, and the poem feels even more vibrant and engaging. Here are a few more thoughts:\n",
      "\n",
      "1. **Imagery**: The phrase “Emerald woods in fiery shields” creates a strong visual contrast that beautifully portrays the autumn landscape. It effectively captures the essence of fall colors.\n",
      "\n",
      "2. **Rhythm and Flow**: The rhythm is much more consistent, particularly with the alterations in the first and second lines. Each couplet flows nicely, making the poem enjoyable to read aloud.\n",
      "\n",
      "3. **Word Choice**: The adjustments to lines like \"Crickets serenade under the moon's girth\" create vivid imagery and auditory elements that enhance the sensory experience of the poem.\n",
      "\n",
      "4. **Emotional Resonance**: The final line, “Yearning to linger in autumn's warm hue,” effectively conveys a sense of nostalgia and longing, bringing the poem to a reflective close. \n",
      "\n",
      "Overall, this version beautifully encapsulates the spirit of autumn and invites readers to immerse themselves in its imagery and emotion. Fantastic work! If you have any more revisions or additional poems to share, I’d love to see them!\n"
     ]
    },
    {
     "data": {
      "text/plain": [
       "TaskResult(messages=[TextMessage(source='user', models_usage=None, content='将这首诗用英文写一遍。', type='TextMessage'), TextMessage(source='primary', models_usage=RequestUsage(prompt_tokens=807, completion_tokens=118), content=\"Here’s an English version of the poem about autumn:\\n\\n---\\n\\nAutumn winds brush o'er golden fields,  \\nEmerald woods turn to lyrical yields.  \\nGolden rice bows with joyful sound,  \\nCrickets sing softly, 'neath the moonlight found.  \\n\\nFruits hang heavy, bright on the vine,  \\nFrost gently blankets the earth, so fine.  \\nHearts wander free with the geese in the blue,  \\nLonging to linger in autumn's warm hue.  \\n\\n---\\n\\nI hope you like this translation! Let me know if you'd like any adjustments or further translations.\", type='TextMessage'), TextMessage(source='critic', models_usage=RequestUsage(prompt_tokens=947, completion_tokens=248), content='This English version of your autumn poem is beautifully crafted! Here are some constructive suggestions to enhance it even further:\\n\\n1. **Imagery**: The imagery is vivid, but in the second line, \"lyrical yields\" might be slightly abstract. Consider using a more concrete image that directly relates to the changing colors of the leaves or the beauty of the season.\\n\\n2. **Rhythm**: The flow of the poem is smooth, but to improve the rhythmic consistency, consider adjusting the syllable count in some lines. For instance, the first line has a different rhythm compared to the following lines.\\n\\n3. **Word Choice**: In the first line, \"brush o\\'er\" could be simplified to \"brush over\" for better clarity. Though poetic language is important, ensuring accessibility can enhance the overall experience for readers.\\n\\n4. **Emotional Depth**: The last line conveys longing effectively. You might consider adding a bit more emotional connection in the earlier lines to create a stronger build-up to that final sentiment. Perhaps a reflection on what autumn means personally could add depth.\\n\\nOverall, this translation captures the essence of your original poem wonderfully. With a few tweaks, it could resonate even more with English-speaking readers. Great job!', type='TextMessage'), TextMessage(source='primary', models_usage=RequestUsage(prompt_tokens=1185, completion_tokens=140), content=\"Thank you for the insightful feedback! Here’s a revised version of the poem, incorporating your suggestions for enhanced imagery, rhythm, word choice, and emotional depth.\\n\\n---\\n\\nAutumn winds sweep through golden fields,  \\nEmerald woods in fiery shields.  \\nGolden rice bows to joyous mirth,  \\nCrickets serenade under the moon's girth.  \\n\\nFruits hang heavy, bright on the vine,  \\nFrost gently blankets the earth, divine.  \\nHearts drift freely with geese in the blue,  \\nYearning to linger in autumn's warm hue.  \\n\\n---\\n\\nI hope this revision captures the spirit of autumn more vividly and resonates better with readers! Thank you again for your guidance!\", type='TextMessage'), TextMessage(source='critic', models_usage=RequestUsage(prompt_tokens=1347, completion_tokens=241), content='This revised version of your autumn poem is excellent! You\\'ve done a wonderful job addressing the feedback, and the poem feels even more vibrant and engaging. Here are a few more thoughts:\\n\\n1. **Imagery**: The phrase “Emerald woods in fiery shields” creates a strong visual contrast that beautifully portrays the autumn landscape. It effectively captures the essence of fall colors.\\n\\n2. **Rhythm and Flow**: The rhythm is much more consistent, particularly with the alterations in the first and second lines. Each couplet flows nicely, making the poem enjoyable to read aloud.\\n\\n3. **Word Choice**: The adjustments to lines like \"Crickets serenade under the moon\\'s girth\" create vivid imagery and auditory elements that enhance the sensory experience of the poem.\\n\\n4. **Emotional Resonance**: The final line, “Yearning to linger in autumn\\'s warm hue,” effectively conveys a sense of nostalgia and longing, bringing the poem to a reflective close. \\n\\nOverall, this version beautifully encapsulates the spirit of autumn and invites readers to immerse themselves in its imagery and emotion. Fantastic work! If you have any more revisions or additional poems to share, I’d love to see them!', type='TextMessage')], stop_reason='Maximum number of messages 5 reached, current message count: 5')"
      ]
     },
     "execution_count": 7,
     "metadata": {},
     "output_type": "execute_result"
    }
   ],
   "source": [
    "# 2. Resume the task while preserving the context from the previous one\n",
    "stream = reflection_team.run_stream(task=\"将这首诗用英文写一遍。\")\n",
    "await Console(stream)"
   ]
  },
  {
   "cell_type": "code",
   "execution_count": 8,
   "metadata": {},
   "outputs": [
    {
     "name": "stdout",
     "output_type": "stream",
     "text": [
      "---------- primary ----------\n",
      "谢谢你热情的支持和鼓励！我会继续努力创作和探索不同的主题。如果你有任何新的诗作、想法或者其他需要讨论的内容，随时欢迎分享！期待我们的下一次交流！一切都很好，我们可以在此结束。<stop autogenworkshop>\n"
     ]
    },
    {
     "data": {
      "text/plain": [
       "TaskResult(messages=[TextMessage(source='primary', models_usage=RequestUsage(prompt_tokens=1531, completion_tokens=66), content='谢谢你热情的支持和鼓励！我会继续努力创作和探索不同的主题。如果你有任何新的诗作、想法或者其他需要讨论的内容，随时欢迎分享！期待我们的下一次交流！一切都很好，我们可以在此结束。<stop autogenworkshop>', type='TextMessage')], stop_reason=\"Text '<stop autogenworkshop>' mentioned\")"
      ]
     },
     "execution_count": 8,
     "metadata": {},
     "output_type": "execute_result"
    }
   ],
   "source": [
    "# 3. Resume the previous task without passing in a specific task, and the team will continue from where the last task stopped\n",
    "stream = reflection_team.run_stream()\n",
    "await Console(stream)"
   ]
  }
 ],
 "metadata": {
  "kernelspec": {
   "display_name": ".venv",
   "language": "python",
   "name": "python3"
  },
  "language_info": {
   "codemirror_mode": {
    "name": "ipython",
    "version": 3
   },
   "file_extension": ".py",
   "mimetype": "text/x-python",
   "name": "python",
   "nbconvert_exporter": "python",
   "pygments_lexer": "ipython3",
   "version": "3.12.8"
  }
 },
 "nbformat": 4,
 "nbformat_minor": 2
}
